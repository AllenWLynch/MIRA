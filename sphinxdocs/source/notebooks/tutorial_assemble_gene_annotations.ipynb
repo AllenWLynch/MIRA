{
 "cells": [
  {
   "cell_type": "markdown",
   "id": "c2af799e",
   "metadata": {},
   "source": [
    "# Assembling TSS annotations\n",
    "\n",
    "MIRA allows users to flexibly re-define the TSS locations of genes for RP modeling. Whether you want to compile annotations for a different sequence version or a new organism, you can follow these instructions to produce a non-redundant annotation of genes' canonical transcription start sites.\n",
    "\n",
    "First, go the [UCSC table browser](https://genome.ucsc.edu/cgi-bin/hgTables), and fill in the dataset selection form. **Blue** indicates where you must change the fields for your annotation, **Red** shows which fields must be set.\n",
    "\n",
    "<img src=\"../_static/tss_data/dataset_selection.png\">"
   ]
  },
  {
   "cell_type": "markdown",
   "id": "04cb1096",
   "metadata": {},
   "source": [
    "The \"knownCanonical\" table contains the canonical TSS and splice variants for each gene. Click **get output** to continue. \n",
    "\n",
    "On the next page, scroll down to the **Linked Tables** box, and check the **kgXref** and **knownGene** tables. Click **allow selection from checked tables**. Scroll back up to the top.\n",
    "\n",
    "Now, check the following fields to join the gene symbol and exon data to the knownCanonical table:\n",
    "\n",
    "<img src=\"../_static/tss_data/field_selection.png\">"
   ]
  },
  {
   "cell_type": "markdown",
   "id": "60dd4cf0",
   "metadata": {},
   "source": [
    "Again, hit **get output** (in the top box), and this will download the annotation. Now, there is a little bit of data cleaning to do.\n",
    "\n",
    "First, load the data that was just downloaded:"
   ]
  },
  {
   "cell_type": "code",
   "execution_count": 1,
   "id": "40978eb1",
   "metadata": {},
   "outputs": [],
   "source": [
    "import pandas as pd"
   ]
  },
  {
   "cell_type": "code",
   "execution_count": 2,
   "id": "d0ae30ef",
   "metadata": {},
   "outputs": [],
   "source": [
    "tss_data = pd.read_csv('~/Downloads/mm10_refseq_exon (1).tsv', sep = '\\t')"
   ]
  },
  {
   "cell_type": "markdown",
   "id": "3c69485e",
   "metadata": {},
   "source": [
    "This data contains the canonical splice variants for each gene, and contains mostly unique records in terms of gene symbols.\n",
    "\n",
    "Now clean up the column names, and drop the remaining duplicates on the geneSymbol field:"
   ]
  },
  {
   "cell_type": "code",
   "execution_count": 3,
   "id": "a99897c4",
   "metadata": {},
   "outputs": [],
   "source": [
    "tss_data.columns = tss_data.columns.str.split('.').str.get(-1)\n",
    "tss_data['geneSymbol'] = tss_data.geneSymbol.str.upper()\n",
    "tss_data = tss_data.drop_duplicates(subset='geneSymbol')"
   ]
  },
  {
   "cell_type": "markdown",
   "id": "2ea19aef",
   "metadata": {},
   "source": [
    "This data is most useful for other programs (pygenometracks, bedtools, etc.) in [bed12 format](https://bedtools.readthedocs.io/en/latest/content/general-usage.html), so we have to do a little munging. The code below converts the absolute coordinates of the **exonStarts** and **exonEnds** columns to relative coordinates based on the TSS of the gene:"
   ]
  },
  {
   "cell_type": "code",
   "execution_count": 4,
   "id": "4cc8372c",
   "metadata": {},
   "outputs": [],
   "source": [
    "def get_block_sizes(row):\n",
    "    if row.exonCount <= 1:\n",
    "        return str(int(row.exonEnds) - int(row.exonStarts))\n",
    "    else:\n",
    "        return ','.join(map(\n",
    "            lambda x : str(int(x[1]) - int(x[0])),\n",
    "            zip(row['exonStarts'].split(','), row['exonEnds'].split(','))\n",
    "        ))\n",
    "    \n",
    "def relative_start_pos(row):\n",
    "    starts = map(str, row['exonStarts'].split(','))\n",
    "    return ','.join(map(\n",
    "        lambda exon_start : str(int(exon_start) - int(row['txStart'])),\n",
    "        starts\n",
    "    ))\n",
    "\n",
    "tss_data['exonEnds'] = tss_data.exonEnds.str.strip(',')\n",
    "tss_data['exonStarts'] = tss_data.exonStarts.str.strip(',')\n",
    "\n",
    "tss_data['blockSizes'] = tss_data.apply(get_block_sizes, axis = 1)\n",
    "tss_data['blockStarts'] = tss_data.apply(relative_start_pos,\n",
    "                                        axis = 1)"
   ]
  },
  {
   "cell_type": "markdown",
   "id": "8f0ab5ef",
   "metadata": {},
   "source": [
    "Add some fake columns to make a valid bed12 file:"
   ]
  },
  {
   "cell_type": "code",
   "execution_count": 5,
   "id": "ee14056a",
   "metadata": {},
   "outputs": [],
   "source": [
    "tss_data['score'] = 0\n",
    "tss_data['thickStart'] = 0\n",
    "tss_data['thickEnd'] = 0\n",
    "tss_data['itemRGB'] = 0"
   ]
  },
  {
   "cell_type": "markdown",
   "id": "75d75fc8",
   "metadata": {},
   "source": [
    "And finally, write to disk as a tsv:"
   ]
  },
  {
   "cell_type": "code",
   "execution_count": 6,
   "id": "04e938ca",
   "metadata": {},
   "outputs": [],
   "source": [
    "relevant_cols = ['chrom','txStart','txEnd','geneSymbol','score','strand',\n",
    "      'thickStart','thickEnd','itemRGB','exonCount','blockSizes','blockStarts'] # bed12 column order\n",
    "\n",
    "tss_data = tss_data.sort_values(['chrom','txStart']) # sort by chrom, start position \\\n",
    "\n",
    "tss_data = tss_data.reset_index()[relevant_cols] # extract ordered columns\n",
    "\n",
    "tss_data.to_csv('data/tss_data.bed', # save name\n",
    "            header=['#' + x for x in relevant_cols], # add a \"#\" before each column name so they are ignored by other programs\n",
    "            index=None, # don't write the index\n",
    "            sep = '\\t') # make it a .tsv!"
   ]
  },
  {
   "cell_type": "code",
   "execution_count": 1,
   "id": "36fe83b9",
   "metadata": {},
   "outputs": [
    {
     "name": "stdout",
     "output_type": "stream",
     "text": [
      "#chrom\t#txStart\t#txEnd\t#geneSymbol\t#score\t#strand\t#thickStart\t#thickEnd\t#itemRGB\t#exonCount\t#blockSizes\t#blockStarts\r\n",
      "chr1\t3073252\t3074322\t4933401J01RIK\t0\t+\t0\t0\t0\t1\t1070\t0\r\n",
      "chr1\t3102015\t3102125\tGM26206\t0\t+\t0\t0\t0\t1\t110\t0\r\n"
     ]
    }
   ],
   "source": [
    "!head -n3 data/tss_data.bed"
   ]
  },
  {
   "cell_type": "markdown",
   "id": "8140defa",
   "metadata": {},
   "source": [
    "Depending on your data source, you may need to change some column names, but following these steps will yield a non-redundant dataset of gene TSS and exon locations that are useful for MIRA and many other programs."
   ]
  }
 ],
 "metadata": {
  "kernelspec": {
   "display_name": "mirarep",
   "language": "python",
   "name": "mirarep"
  },
  "language_info": {
   "codemirror_mode": {
    "name": "ipython",
    "version": 3
   },
   "file_extension": ".py",
   "mimetype": "text/x-python",
   "name": "python",
   "nbconvert_exporter": "python",
   "pygments_lexer": "ipython3",
   "version": "3.7.12"
  }
 },
 "nbformat": 4,
 "nbformat_minor": 5
}
