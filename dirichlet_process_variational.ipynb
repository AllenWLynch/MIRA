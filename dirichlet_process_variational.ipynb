{
 "cells": [
  {
   "cell_type": "code",
   "execution_count": 1,
   "id": "ea355fec",
   "metadata": {},
   "outputs": [],
   "source": [
    "import mira\n",
    "import scanpy as sc\n",
    "import anndata"
   ]
  },
  {
   "cell_type": "code",
   "execution_count": 2,
   "id": "9b65cc34",
   "metadata": {},
   "outputs": [],
   "source": [
    "import pyro"
   ]
  },
  {
   "cell_type": "code",
   "execution_count": 3,
   "id": "8c044731",
   "metadata": {},
   "outputs": [],
   "source": [
    "import matplotlib.pyplot as plt\n",
    "import numpy as np\n",
    "import pandas as pd\n",
    "from tqdm import tqdm\n",
    "\n",
    "import torch\n",
    "import torch.nn.functional as F\n",
    "from torch.distributions import constraints\n",
    "\n",
    "import pyro\n",
    "from pyro.distributions import *\n",
    "from pyro.infer import Predictive, SVI, Trace_ELBO\n",
    "from pyro.optim import Adam\n",
    "\n",
    "#assert pyro.__version__.startswith('1.8.0')\n",
    "pyro.set_rng_seed(0)"
   ]
  },
  {
   "cell_type": "code",
   "execution_count": 4,
   "id": "c9880ad9",
   "metadata": {},
   "outputs": [
    {
     "data": {
      "image/png": "[encoded data removed]",
      "text/plain": [
       "<Figure size 432x288 with 1 Axes>"
      ]
     },
     "metadata": {
      "needs_background": "light"
     },
     "output_type": "display_data"
    }
   ],
   "source": [
    "data = torch.cat((MultivariateNormal(-8 * torch.ones(2), torch.eye(2)).sample([50]),\n",
    "                  MultivariateNormal(8 * torch.ones(2), torch.eye(2)).sample([50]),\n",
    "                  MultivariateNormal(torch.tensor([1.5, 2]), torch.eye(2)).sample([50]),\n",
    "                  MultivariateNormal(torch.tensor([-0.5, 1]), torch.eye(2)).sample([50])))\n",
    "\n",
    "plt.scatter(data[:, 0], data[:, 1])\n",
    "plt.title(\"Data Samples from Mixture of 4 Gaussians\")\n",
    "plt.show()\n",
    "N = data.shape[0]"
   ]
  },
  {
   "cell_type": "code",
   "execution_count": 5,
   "id": "224e2c91",
   "metadata": {},
   "outputs": [],
   "source": [
    "def mix_weights(beta):\n",
    "    beta1m_cumprod = (1 - beta).cumprod(-1)\n",
    "    return F.pad(beta, (0, 1), value=1) * F.pad(beta1m_cumprod, (1, 0), value=1)"
   ]
  },
  {
   "cell_type": "code",
   "execution_count": 6,
   "id": "a5d1958f",
   "metadata": {},
   "outputs": [],
   "source": [
    "def model(data):\n",
    "    with pyro.plate(\"beta_plate\", T-1):\n",
    "        beta = pyro.sample(\"beta\", Beta(1, alpha))\n",
    "\n",
    "    with pyro.plate(\"mu_plate\", T):\n",
    "        mu = pyro.sample(\"mu\", MultivariateNormal(torch.zeros(2), 5 * torch.eye(2)))\n",
    "\n",
    "    with pyro.plate(\"data\", N):\n",
    "        z = pyro.sample(\"z\", Categorical(mix_weights(beta)))\n",
    "        pyro.sample(\"obs\", MultivariateNormal(mu[z], torch.eye(2)), obs=data)\n",
    "\n",
    "\n",
    "def guide(data):\n",
    "    kappa = pyro.param('kappa', lambda: Uniform(0, 2).sample([T-1]), constraint=constraints.positive)\n",
    "    tau = pyro.param('tau', lambda: MultivariateNormal(torch.zeros(2), 3 * torch.eye(2)).sample([T]))\n",
    "    phi = pyro.param('phi', lambda: Dirichlet(1/T * torch.ones(T)).sample([N]), constraint=constraints.simplex)\n",
    "\n",
    "    with pyro.plate(\"beta_plate\", T-1):\n",
    "        q_beta = pyro.sample(\"beta\", Beta(torch.ones(T-1), kappa))\n",
    "\n",
    "    with pyro.plate(\"mu_plate\", T):\n",
    "        q_mu = pyro.sample(\"mu\", MultivariateNormal(tau, torch.eye(2)))\n",
    "\n",
    "    with pyro.plate(\"data\", N):\n",
    "        z = pyro.sample(\"z\", Categorical(phi))"
   ]
  },
  {
   "cell_type": "code",
   "execution_count": 7,
   "id": "64be0b99",
   "metadata": {},
   "outputs": [
    {
     "name": "stderr",
     "output_type": "stream",
     "text": [
      "100%|█████████████████████████████████████████████████████████████████████████████████████████████████████████████████████████████████████████████████| 1000/1000 [00:11<00:00, 87.94it/s]\n"
     ]
    },
    {
     "data": {
      "text/plain": [
       "'alpha = 1.5\\ntrain(1000)\\n\\n# We make a point-estimate of our model parameters using the posterior means of tau and phi for the centers and weights\\nBayes_Centers_15, Bayes_Weights_15 = truncate(alpha, pyro.param(\"tau\").detach(), torch.mean(pyro.param(\"phi\").detach(), dim=0))\\n'"
      ]
     },
     "execution_count": 7,
     "metadata": {},
     "output_type": "execute_result"
    }
   ],
   "source": [
    "T = 6\n",
    "optim = Adam({\"lr\": 0.05})\n",
    "svi = SVI(model, guide, optim, loss=Trace_ELBO())\n",
    "losses = []\n",
    "\n",
    "def train(num_iterations):\n",
    "    pyro.clear_param_store()\n",
    "    for j in tqdm(range(num_iterations)):\n",
    "        loss = svi.step(data)\n",
    "        losses.append(loss)\n",
    "\n",
    "def truncate(alpha, centers, weights):\n",
    "    threshold = alpha**-1 / 100.\n",
    "    true_centers = centers[weights > threshold]\n",
    "    true_weights = weights[weights > threshold] / torch.sum(weights[weights > threshold])\n",
    "    return true_centers, true_weights\n",
    "\n",
    "alpha = 0.07\n",
    "train(1000)\n",
    "\n",
    "# We make a point-estimate of our model parameters using the posterior means of tau and phi for the centers and weights\n",
    "Bayes_Centers_01, Bayes_Weights_01 = truncate(alpha, pyro.param(\"tau\").detach(), torch.mean(pyro.param(\"phi\").detach(), dim=0))\n",
    "\n",
    "'''alpha = 1.5\n",
    "train(1000)\n",
    "\n",
    "# We make a point-estimate of our model parameters using the posterior means of tau and phi for the centers and weights\n",
    "Bayes_Centers_15, Bayes_Weights_15 = truncate(alpha, pyro.param(\"tau\").detach(), torch.mean(pyro.param(\"phi\").detach(), dim=0))\n",
    "'''"
   ]
  },
  {
   "cell_type": "code",
   "execution_count": 8,
   "id": "3e60fe28",
   "metadata": {},
   "outputs": [
    {
     "data": {
      "text/plain": [
       "<matplotlib.collections.PathCollection at 0x7fcc1c65b290>"
      ]
     },
     "execution_count": 8,
     "metadata": {},
     "output_type": "execute_result"
    },
    {
     "data": {
      "image/png": "[encoded data removed]",
      "text/plain": [
       "<Figure size 1080x360 with 1 Axes>"
      ]
     },
     "metadata": {
      "needs_background": "light"
     },
     "output_type": "display_data"
    }
   ],
   "source": [
    "plt.figure(figsize=(15, 5))\n",
    "plt.subplot(1, 2, 1)\n",
    "plt.scatter(data[:, 0], data[:, 1], color=\"lightgrey\")\n",
    "plt.scatter(Bayes_Centers_01[:, 0], Bayes_Centers_01[:, 1], color=\"red\")"
   ]
  },
  {
   "cell_type": "code",
   "execution_count": 9,
   "id": "943f7d58",
   "metadata": {},
   "outputs": [
    {
     "ename": "OSError",
     "evalue": "Unable to open file (unable to open file: name = '/liulab/alynch/projects/multiomics/e18_mouse_brain_10x_shared_rna_main_v4.ad', errno = 2, error message = 'No such file or directory', flags = 0, o_flags = 0)",
     "output_type": "error",
     "traceback": [
      "\u001b[0;31m---------------------------------------------------------------------------\u001b[0m",
      "\u001b[0;31mOSError\u001b[0m                                   Traceback (most recent call last)",
      "\u001b[0;32m/var/folders/26/fjtg4z911nq8pqkhmsbzx88h0000gp/T/ipykernel_39644/2824279002.py\u001b[0m in \u001b[0;36m<module>\u001b[0;34m\u001b[0m\n\u001b[0;32m----> 1\u001b[0;31m \u001b[0mrna_data\u001b[0m \u001b[0;34m=\u001b[0m \u001b[0manndata\u001b[0m\u001b[0;34m.\u001b[0m\u001b[0mread_h5ad\u001b[0m\u001b[0;34m(\u001b[0m\u001b[0;34m'/liulab/alynch/projects/multiomics/e18_mouse_brain_10x_shared_rna_main_v4.ad'\u001b[0m\u001b[0;34m)\u001b[0m\u001b[0;34m\u001b[0m\u001b[0;34m\u001b[0m\u001b[0m\n\u001b[0m",
      "\u001b[0;32m~/opt/miniconda3/envs/mirarep/lib/python3.7/site-packages/anndata/_io/h5ad.py\u001b[0m in \u001b[0;36mread_h5ad\u001b[0;34m(filename, backed, as_sparse, as_sparse_fmt, chunk_size)\u001b[0m\n\u001b[1;32m    406\u001b[0m     )\n\u001b[1;32m    407\u001b[0m \u001b[0;34m\u001b[0m\u001b[0m\n\u001b[0;32m--> 408\u001b[0;31m     \u001b[0;32mwith\u001b[0m \u001b[0mh5py\u001b[0m\u001b[0;34m.\u001b[0m\u001b[0mFile\u001b[0m\u001b[0;34m(\u001b[0m\u001b[0mfilename\u001b[0m\u001b[0;34m,\u001b[0m \u001b[0;34m\"r\"\u001b[0m\u001b[0;34m)\u001b[0m \u001b[0;32mas\u001b[0m \u001b[0mf\u001b[0m\u001b[0;34m:\u001b[0m\u001b[0;34m\u001b[0m\u001b[0;34m\u001b[0m\u001b[0m\n\u001b[0m\u001b[1;32m    409\u001b[0m         \u001b[0md\u001b[0m \u001b[0;34m=\u001b[0m \u001b[0;34m{\u001b[0m\u001b[0;34m}\u001b[0m\u001b[0;34m\u001b[0m\u001b[0;34m\u001b[0m\u001b[0m\n\u001b[1;32m    410\u001b[0m         \u001b[0;32mfor\u001b[0m \u001b[0mk\u001b[0m \u001b[0;32min\u001b[0m \u001b[0mf\u001b[0m\u001b[0;34m.\u001b[0m\u001b[0mkeys\u001b[0m\u001b[0;34m(\u001b[0m\u001b[0;34m)\u001b[0m\u001b[0;34m:\u001b[0m\u001b[0;34m\u001b[0m\u001b[0;34m\u001b[0m\u001b[0m\n",
      "\u001b[0;32m~/opt/miniconda3/envs/mirarep/lib/python3.7/site-packages/h5py/_hl/files.py\u001b[0m in \u001b[0;36m__init__\u001b[0;34m(self, name, mode, driver, libver, userblock_size, swmr, rdcc_nslots, rdcc_nbytes, rdcc_w0, track_order, **kwds)\u001b[0m\n\u001b[1;32m    406\u001b[0m                 fid = make_fid(name, mode, userblock_size,\n\u001b[1;32m    407\u001b[0m                                \u001b[0mfapl\u001b[0m\u001b[0;34m,\u001b[0m \u001b[0mfcpl\u001b[0m\u001b[0;34m=\u001b[0m\u001b[0mmake_fcpl\u001b[0m\u001b[0;34m(\u001b[0m\u001b[0mtrack_order\u001b[0m\u001b[0;34m=\u001b[0m\u001b[0mtrack_order\u001b[0m\u001b[0;34m)\u001b[0m\u001b[0;34m,\u001b[0m\u001b[0;34m\u001b[0m\u001b[0;34m\u001b[0m\u001b[0m\n\u001b[0;32m--> 408\u001b[0;31m                                swmr=swmr)\n\u001b[0m\u001b[1;32m    409\u001b[0m \u001b[0;34m\u001b[0m\u001b[0m\n\u001b[1;32m    410\u001b[0m             \u001b[0;32mif\u001b[0m \u001b[0misinstance\u001b[0m\u001b[0;34m(\u001b[0m\u001b[0mlibver\u001b[0m\u001b[0;34m,\u001b[0m \u001b[0mtuple\u001b[0m\u001b[0;34m)\u001b[0m\u001b[0;34m:\u001b[0m\u001b[0;34m\u001b[0m\u001b[0;34m\u001b[0m\u001b[0m\n",
      "\u001b[0;32m~/opt/miniconda3/envs/mirarep/lib/python3.7/site-packages/h5py/_hl/files.py\u001b[0m in \u001b[0;36mmake_fid\u001b[0;34m(name, mode, userblock_size, fapl, fcpl, swmr)\u001b[0m\n\u001b[1;32m    171\u001b[0m         \u001b[0;32mif\u001b[0m \u001b[0mswmr\u001b[0m \u001b[0;32mand\u001b[0m \u001b[0mswmr_support\u001b[0m\u001b[0;34m:\u001b[0m\u001b[0;34m\u001b[0m\u001b[0;34m\u001b[0m\u001b[0m\n\u001b[1;32m    172\u001b[0m             \u001b[0mflags\u001b[0m \u001b[0;34m|=\u001b[0m \u001b[0mh5f\u001b[0m\u001b[0;34m.\u001b[0m\u001b[0mACC_SWMR_READ\u001b[0m\u001b[0;34m\u001b[0m\u001b[0;34m\u001b[0m\u001b[0m\n\u001b[0;32m--> 173\u001b[0;31m         \u001b[0mfid\u001b[0m \u001b[0;34m=\u001b[0m \u001b[0mh5f\u001b[0m\u001b[0;34m.\u001b[0m\u001b[0mopen\u001b[0m\u001b[0;34m(\u001b[0m\u001b[0mname\u001b[0m\u001b[0;34m,\u001b[0m \u001b[0mflags\u001b[0m\u001b[0;34m,\u001b[0m \u001b[0mfapl\u001b[0m\u001b[0;34m=\u001b[0m\u001b[0mfapl\u001b[0m\u001b[0;34m)\u001b[0m\u001b[0;34m\u001b[0m\u001b[0;34m\u001b[0m\u001b[0m\n\u001b[0m\u001b[1;32m    174\u001b[0m     \u001b[0;32melif\u001b[0m \u001b[0mmode\u001b[0m \u001b[0;34m==\u001b[0m \u001b[0;34m'r+'\u001b[0m\u001b[0;34m:\u001b[0m\u001b[0;34m\u001b[0m\u001b[0;34m\u001b[0m\u001b[0m\n\u001b[1;32m    175\u001b[0m         \u001b[0mfid\u001b[0m \u001b[0;34m=\u001b[0m \u001b[0mh5f\u001b[0m\u001b[0;34m.\u001b[0m\u001b[0mopen\u001b[0m\u001b[0;34m(\u001b[0m\u001b[0mname\u001b[0m\u001b[0;34m,\u001b[0m \u001b[0mh5f\u001b[0m\u001b[0;34m.\u001b[0m\u001b[0mACC_RDWR\u001b[0m\u001b[0;34m,\u001b[0m \u001b[0mfapl\u001b[0m\u001b[0;34m=\u001b[0m\u001b[0mfapl\u001b[0m\u001b[0;34m)\u001b[0m\u001b[0;34m\u001b[0m\u001b[0;34m\u001b[0m\u001b[0m\n",
      "\u001b[0;32mh5py/_objects.pyx\u001b[0m in \u001b[0;36mh5py._objects.with_phil.wrapper\u001b[0;34m()\u001b[0m\n",
      "\u001b[0;32mh5py/_objects.pyx\u001b[0m in \u001b[0;36mh5py._objects.with_phil.wrapper\u001b[0;34m()\u001b[0m\n",
      "\u001b[0;32mh5py/h5f.pyx\u001b[0m in \u001b[0;36mh5py.h5f.open\u001b[0;34m()\u001b[0m\n",
      "\u001b[0;31mOSError\u001b[0m: Unable to open file (unable to open file: name = '/liulab/alynch/projects/multiomics/e18_mouse_brain_10x_shared_rna_main_v4.ad', errno = 2, error message = 'No such file or directory', flags = 0, o_flags = 0)"
     ]
    }
   ],
   "source": [
    "rna_data = anndata.read_h5ad('/liulab/alynch/projects/multiomics/e18_mouse_brain_10x_shared_rna_main_v4.ad')"
   ]
  },
  {
   "cell_type": "code",
   "execution_count": 113,
   "id": "db03ca4e",
   "metadata": {},
   "outputs": [],
   "source": [
    "from pyro.contrib.autoname import scope\n",
    "from pyro import poutine\n",
    "\n",
    "import mira.adata_interface.core as adi\n",
    "import mira.adata_interface.topic_model as tmi\n",
    "from math import ceil\n",
    "from tqdm import trange\n",
    "import pyro.distributions as dist\n",
    "from torch.optim import Adam"
   ]
  },
  {
   "cell_type": "code",
   "execution_count": 114,
   "id": "e63c715d",
   "metadata": {},
   "outputs": [],
   "source": [
    "@adi.wraps_modelfunc(fetch = tmi.fit_adata, \n",
    "    fill_kwargs=['features','highly_variable','endog_features','exog_features'])\n",
    "def DP_get_learning_rate_bounds(self, num_epochs = 6, eval_every = 10, \n",
    "    lower_bound_lr = 1e-6, upper_bound_lr = 1,*,\n",
    "    features, highly_variable, endog_features, exog_features):\n",
    "    \n",
    "    self._instantiate_model(\n",
    "        features = features, highly_variable = highly_variable, \n",
    "        endog_features = endog_features, exog_features = exog_features,\n",
    "    )\n",
    "\n",
    "    self._get_dataset_statistics(endog_features, exog_features)\n",
    "\n",
    "    n_batches = self.get_num_batches(endog_features.shape[0], self.batch_size)\n",
    "\n",
    "    eval_steps = ceil((n_batches * num_epochs)/eval_every)\n",
    "\n",
    "    learning_rates = np.exp(\n",
    "            np.linspace(np.log(lower_bound_lr), \n",
    "            np.log(upper_bound_lr), \n",
    "            eval_steps+1))\n",
    "\n",
    "    self.learning_rates = learning_rates\n",
    "\n",
    "    def lr_function(e):\n",
    "        return learning_rates[e]/learning_rates[0]\n",
    "\n",
    "    scheduler = pyro.optim.LambdaLR({'optimizer': Adam, \n",
    "        'optim_args': {'lr': learning_rates[0], 'betas' : (0.95, 0.999)}, \n",
    "        'lr_lambda' : lr_function})\n",
    "\n",
    "    self.svi = SVI(self.model, self.guide, scheduler, loss=Trace_ELBO())\n",
    "    batches_complete, steps_complete, step_loss, samples_seen = 0,0,0,0\n",
    "    learning_rate_losses = []\n",
    "\n",
    "    #try:\n",
    "    t = trange(eval_steps-2, desc = 'Learning rate range test', leave = True)\n",
    "    _t = iter(t)\n",
    "\n",
    "    for epoch in range(num_epochs + 1):\n",
    "\n",
    "        #train step\n",
    "        self.train()\n",
    "        for batch in self._iterate_batches(endog_features = endog_features, \n",
    "                exog_features = exog_features, \n",
    "                batch_size = self.batch_size, bar = False):\n",
    "\n",
    "            step_loss += float(self.svi.step(**batch, anneal_factor = 1.))\n",
    "            batches_complete+=1\n",
    "            samples_seen += batch['endog_features'].shape[0]\n",
    "\n",
    "            if batches_complete % eval_every == 0 and batches_complete > 0:\n",
    "                steps_complete+=1\n",
    "                scheduler.step()\n",
    "                learning_rate_losses.append(step_loss/(samples_seen * self.num_exog_features))\n",
    "                step_loss, samples_seen = 0.0, 0\n",
    "                try:\n",
    "                    next(_t)\n",
    "                except StopIteration:\n",
    "                    break\n",
    "\n",
    "    #except ValueError:\n",
    "    #    logger.error('\\nGradient overflow from too high learning rate, stopping test early.')\n",
    "\n",
    "    self.gradient_lr = np.array(learning_rates[:len(learning_rate_losses)])\n",
    "    self.gradient_loss = np.array(learning_rate_losses)\n",
    "\n",
    "    return self.trim_learning_rate_bounds()"
   ]
  },
  {
   "cell_type": "code",
   "execution_count": 119,
   "id": "06d665eb",
   "metadata": {},
   "outputs": [],
   "source": [
    "alpha = 1\n",
    "\n",
    "@scope(prefix= 'rna')\n",
    "def DP_model(self,*,endog_features, exog_features, read_depth, anneal_factor = 1.):\n",
    "    \n",
    "    #print(super(mira.topics.base.BaseModel, self))\n",
    "    #theta_loc, theta_scale = super(mira.topics.base.BaseModel, self).guide()\n",
    "    pyro.module(\"decoder\", self.decoder)\n",
    "\n",
    "    dispersion = pyro.param('dispersion', read_depth.new_ones(self.num_exog_features).to(self.device) * 5., constraint = constraints.positive)\n",
    "    dispersion = dispersion.to(self.device)\n",
    "\n",
    "    with pyro.plate(\"cells\", endog_features.shape[0], dim = -2):\n",
    "        with poutine.scale(None, anneal_factor):\n",
    "            \n",
    "            with pyro.plate(\"beta_plate\", self.num_topics-1, dim = -1):\n",
    "                beta = pyro.sample(\"beta\", Beta(1, alpha))\n",
    "                \n",
    "            theta = mix_weights(beta)\n",
    "            \n",
    "            expr_rate = self.decoder(theta)\n",
    "\n",
    "            read_scale = pyro.sample('read_depth', dist.LogNormal(torch.log(read_depth), 1.).to_event(1))\n",
    "\n",
    "        logits = (read_scale * expr_rate).log() - (dispersion).log()\n",
    "        X = pyro.sample('obs', dist.NegativeBinomial(total_count = dispersion, logits = logits).to_event(1), obs = exog_features)\n",
    "            \n",
    "\n",
    "@scope(prefix= 'rna')\n",
    "def DP_guide(self,*,endog_features, exog_features, read_depth, anneal_factor = 1.):\n",
    "\n",
    "    with pyro.plate(\"cells\", endog_features.shape[0], dim = -2):\n",
    "\n",
    "        theta_loc, theta_scale, rd_loc, rd_scale = self.encoder(endog_features, read_depth)\n",
    "\n",
    "        with poutine.scale(None, anneal_factor):\n",
    "            with pyro.plate(\"beta_plate\", self.num_topics-1, dim=-1):\n",
    "                q_beta = pyro.sample(\"beta\", Beta(torch.ones(self.num_topics-1), theta_scale[:, :-1]))\n",
    "            \n",
    "            \n",
    "            read_depth = pyro.sample(\n",
    "                \"read_depth\", dist.LogNormal(rd_loc.reshape((-1,1)), rd_scale.reshape((-1,1))).to_event(1)\n",
    "            )"
   ]
  },
  {
   "cell_type": "code",
   "execution_count": 126,
   "id": "9346b22b",
   "metadata": {},
   "outputs": [],
   "source": [
    "rna_data = rna_data[np.random.permutation(len(rna_data))]"
   ]
  },
  {
   "cell_type": "code",
   "execution_count": 129,
   "id": "70d2227c",
   "metadata": {
    "scrolled": false
   },
   "outputs": [
    {
     "name": "stderr",
     "output_type": "stream",
     "text": [
      "INFO:mira.adata_interface.topic_model:Predicting expression from genes from col: highly_variable\n",
      "INFO:mira.adata_interface.topic_model:Using highly-variable genes from col: is_feature\n",
      "WARNING:mira.topic_model.base:Cuda unavailable. Will not use GPU speedup while training.\n",
      "Learning rate range test: 100%|███████████████████████████████████████████████████████████████████████████████████████████████████████████████████████████| 36/36 [07:55<00:00, 13.20s/it]\n",
      "INFO:mira.topic_model.base:Set learning rates to: (0.03265842230657605, 0.4493075983155576)\n"
     ]
    },
    {
     "data": {
      "text/plain": [
       "(0.03265842230657605, 0.4493075983155576)"
      ]
     },
     "execution_count": 129,
     "metadata": {},
     "output_type": "execute_result"
    }
   ],
   "source": [
    "mira.topics.ExpressionTopicModel.model = DP_model\n",
    "mira.topics.ExpressionTopicModel.guide = DP_guide\n",
    "mira.topics.ExpressionTopicModel.get_learning_rate_bounds = DP_get_learning_rate_bounds\n",
    "\n",
    "rna_model = mira.topics.ExpressionTopicModel(\n",
    "    exogenous_key='highly_variable',\n",
    "    endogenous_key = 'is_feature',\n",
    "    num_topics = 25,\n",
    "    encoder_dropout = 0.05,\n",
    "    beta = 0.93,\n",
    "    kl_strategy='monotonic',\n",
    "    batch_size = 32\n",
    ")\n",
    "\n",
    "rna_model.get_learning_rate_bounds(rna_data, eval_every = 5)"
   ]
  },
  {
   "cell_type": "code",
   "execution_count": 132,
   "id": "044610c1",
   "metadata": {},
   "outputs": [
    {
     "name": "stderr",
     "output_type": "stream",
     "text": [
      "INFO:mira.topic_model.base:Set learning rates to: (4.846939625825008, 0.272518834020234)\n"
     ]
    },
    {
     "data": {
      "text/plain": [
       "<AxesSubplot:xlabel='Learning Rate', ylabel='Loss'>"
      ]
     },
     "execution_count": 132,
     "metadata": {},
     "output_type": "execute_result"
    },
    {
     "data": {
      "image/png": "[encoded data removed]",
      "text/plain": [
       "<Figure size 720x504 with 1 Axes>"
      ]
     },
     "metadata": {
      "needs_background": "light"
     },
     "output_type": "display_data"
    }
   ],
   "source": [
    "rna_model.trim_learning_rate_bounds(5,1)\n",
    "rna_model.plot_learning_rate_bounds()"
   ]
  },
  {
   "cell_type": "code",
   "execution_count": null,
   "id": "0a5797b4",
   "metadata": {},
   "outputs": [],
   "source": []
  }
 ],
 "metadata": {
  "kernelspec": {
   "display_name": "mirarep",
   "language": "python",
   "name": "mirarep"
  },
  "language_info": {
   "codemirror_mode": {
    "name": "ipython",
    "version": 3
   },
   "file_extension": ".py",
   "mimetype": "text/x-python",
   "name": "python",
   "nbconvert_exporter": "python",
   "pygments_lexer": "ipython3",
   "version": "3.7.12"
  }
 },
 "nbformat": 4,
 "nbformat_minor": 5
}
