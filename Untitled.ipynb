{
 "cells": [
  {
   "cell_type": "code",
   "execution_count": 1,
   "id": "b53ab616",
   "metadata": {},
   "outputs": [
    {
     "data": {
      "text/plain": [
       "'1.0.3'"
      ]
     },
     "execution_count": 1,
     "metadata": {},
     "output_type": "execute_result"
    }
   ],
   "source": [
    "import anndata\n",
    "import scanpy as sc\n",
    "import mira\n",
    "mira.__version__"
   ]
  },
  {
   "cell_type": "code",
   "execution_count": 2,
   "id": "617a5836",
   "metadata": {},
   "outputs": [],
   "source": [
    "rna_data = anndata.read_h5ad('data/test_synth_differentiation.h5ad')\n",
    "\n",
    "sc.pp.filter_genes(rna_data, min_cells=25)\n",
    "rna_data.raw = rna_data\n",
    "sc.pp.normalize_total(rna_data, target_sum=1e4)\n",
    "sc.pp.log1p(rna_data)\n",
    "sc.pp.highly_variable_genes(rna_data)\n",
    "rna_data.layers['counts'] = rna_data.raw.to_adata().X.copy()"
   ]
  },
  {
   "cell_type": "code",
   "execution_count": 22,
   "id": "4d64c04e",
   "metadata": {},
   "outputs": [],
   "source": [
    "rna_model = mira.topics.ExpressionTopicModel(seed=0, counts_layer='counts',\n",
    "                                            endogenous_key = 'highly_variable',\n",
    "                                            exogenous_key = 'highly_variable',\n",
    "                                            num_topics=7, beta=0.93, encoder_dropout=0.1,\n",
    "                                            batch_size=64, num_layers = 2,\n",
    "                                            reconstruction_weight=1/2)"
   ]
  },
  {
   "cell_type": "code",
   "execution_count": 23,
   "id": "834a9703",
   "metadata": {
    "scrolled": false
   },
   "outputs": [
    {
     "name": "stderr",
     "output_type": "stream",
     "text": [
      "INFO:mira.adata_interface.topic_model:Predicting expression from genes from col: highly_variable\n",
      "INFO:mira.adata_interface.topic_model:Using highly-variable genes from col: highly_variable\n",
      "WARNING:mira.topic_model.base:Cuda unavailable. Will not use GPU speedup while training.\n"
     ]
    },
    {
     "data": {
      "application/vnd.jupyter.widget-view+json": {
       "model_id": "f80f1902c5c14f7ba15901bee42d4eb2",
       "version_major": 2,
       "version_minor": 0
      },
      "text/plain": [
       "Learning rate range test:   0%|          | 0/73 [00:00<?, ?it/s]"
      ]
     },
     "metadata": {},
     "output_type": "display_data"
    },
    {
     "name": "stderr",
     "output_type": "stream",
     "text": [
      "INFO:mira.topic_model.base:Set learning rates to: (0.0031165179357482854, 0.832423607891061)\n"
     ]
    },
    {
     "data": {
      "text/plain": [
       "(0.0031165179357482854, 0.832423607891061)"
      ]
     },
     "execution_count": 23,
     "metadata": {},
     "output_type": "execute_result"
    }
   ],
   "source": [
    "rna_model.get_learning_rate_bounds(rna_data, upper_bound_lr=5, eval_every=1, num_epochs = 5)"
   ]
  },
  {
   "cell_type": "code",
   "execution_count": 24,
   "id": "de68758f",
   "metadata": {},
   "outputs": [
    {
     "name": "stderr",
     "output_type": "stream",
     "text": [
      "INFO:mira.topic_model.base:Set learning rates to: (0.023028125860567628, 0.832423607891061)\n"
     ]
    },
    {
     "data": {
      "text/plain": [
       "<AxesSubplot:xlabel='Learning Rate', ylabel='Loss'>"
      ]
     },
     "execution_count": 24,
     "metadata": {},
     "output_type": "execute_result"
    },
    {
     "data": {
      "image/png": "[encoded data removed]",
      "text/plain": [
       "<Figure size 720x504 with 1 Axes>"
      ]
     },
     "metadata": {
      "needs_background": "light"
     },
     "output_type": "display_data"
    }
   ],
   "source": [
    "rna_model.trim_learning_rate_bounds(2, 0.5)\n",
    "rna_model.plot_learning_rate_bounds()"
   ]
  },
  {
   "cell_type": "code",
   "execution_count": 25,
   "id": "82bae309",
   "metadata": {},
   "outputs": [
    {
     "name": "stderr",
     "output_type": "stream",
     "text": [
      "INFO:mira.adata_interface.topic_model:Predicting expression from genes from col: highly_variable\n",
      "INFO:mira.adata_interface.topic_model:Using highly-variable genes from col: highly_variable\n",
      "WARNING:mira.topic_model.base:Cuda unavailable. Will not use GPU speedup while training.\n"
     ]
    },
    {
     "data": {
      "application/vnd.jupyter.widget-view+json": {
       "model_id": "37d3aea74fbc4694bbf641473e445988",
       "version_major": 2,
       "version_minor": 0
      },
      "text/plain": [
       "Epoch 0:   0%|          | 0/40 [00:00<?, ?it/s]"
      ]
     },
     "metadata": {},
     "output_type": "display_data"
    },
    {
     "name": "stderr",
     "output_type": "stream",
     "text": [
      "INFO:mira.topic_model.base:Moving model to device: cpu\n"
     ]
    },
    {
     "data": {
      "text/plain": [
       "ExpressionTopicModel(\n",
       "  (decoder): Decoder(\n",
       "    (beta): Linear(in_features=7, out_features=2437, bias=False)\n",
       "    (bn): BatchNorm1d(2437, eps=1e-05, momentum=0.1, affine=True, track_running_stats=True)\n",
       "    (drop): Dropout(p=0.2, inplace=False)\n",
       "  )\n",
       "  (encoder): ExpressionEncoder(\n",
       "    (fc_layers): Sequential(\n",
       "      (0): Sequential(\n",
       "        (0): Linear(in_features=2438, out_features=128, bias=False)\n",
       "        (1): BatchNorm1d(128, eps=1e-05, momentum=0.1, affine=True, track_running_stats=True)\n",
       "        (2): ReLU()\n",
       "        (3): Dropout(p=0.1, inplace=False)\n",
       "      )\n",
       "      (1): Sequential(\n",
       "        (0): Linear(in_features=128, out_features=16, bias=False)\n",
       "        (1): BatchNorm1d(16, eps=1e-05, momentum=0.1, affine=True, track_running_stats=True)\n",
       "      )\n",
       "    )\n",
       "  )\n",
       ")"
      ]
     },
     "execution_count": 25,
     "metadata": {},
     "output_type": "execute_result"
    }
   ],
   "source": [
    "rna_model.fit(rna_data)"
   ]
  },
  {
   "cell_type": "code",
   "execution_count": 26,
   "id": "11033746",
   "metadata": {},
   "outputs": [
    {
     "data": {
      "application/vnd.jupyter.widget-view+json": {
       "model_id": "2014c7ce1e0c477d95116ae4d357239e",
       "version_major": 2,
       "version_minor": 0
      },
      "text/plain": [
       "Predicting latent vars:   0%|          | 0/16 [00:00<?, ?it/s]"
      ]
     },
     "metadata": {},
     "output_type": "display_data"
    },
    {
     "name": "stderr",
     "output_type": "stream",
     "text": [
      "INFO:mira.adata_interface.core:Added key to obsm: X_topic_compositions\n",
      "INFO:mira.adata_interface.topic_model:Added cols: topic_0, topic_1, topic_2, topic_3, topic_4, topic_5, topic_6\n",
      "INFO:mira.adata_interface.core:Added key to varm: topic_feature_compositions\n",
      "INFO:mira.adata_interface.core:Added key to varm: topic_feature_activations\n",
      "INFO:mira.adata_interface.topic_model:Added key to uns: topic_dendogram\n",
      "INFO:mira.adata_interface.topic_model:Fetching key X_topic_compositions from obsm\n",
      "INFO:mira.adata_interface.core:Added key to obsm: X_umap_features\n"
     ]
    }
   ],
   "source": [
    "rna_model.predict(rna_data)\n",
    "rna_model.get_umap_features(rna_data)\n",
    "sc.pp.neighbors(rna_data, use_rep='X_umap_features', metric='manhattan')\n",
    "sc.tl.umap(rna_data, min_dist=0.1, negative_sample_rate=1)"
   ]
  },
  {
   "cell_type": "code",
   "execution_count": 27,
   "id": "38af9f3d",
   "metadata": {},
   "outputs": [
    {
     "data": {
      "image/png": "[encoded data removed]",
      "text/plain": [
       "<Figure size 432x288 with 1 Axes>"
      ]
     },
     "metadata": {},
     "output_type": "display_data"
    }
   ],
   "source": [
    "sc.pl.umap(rna_data)"
   ]
  }
 ],
 "metadata": {
  "kernelspec": {
   "display_name": "mirarep",
   "language": "python",
   "name": "mirarep"
  },
  "language_info": {
   "codemirror_mode": {
    "name": "ipython",
    "version": 3
   },
   "file_extension": ".py",
   "mimetype": "text/x-python",
   "name": "python",
   "nbconvert_exporter": "python",
   "pygments_lexer": "ipython3",
   "version": "3.7.12"
  }
 },
 "nbformat": 4,
 "nbformat_minor": 5
}
