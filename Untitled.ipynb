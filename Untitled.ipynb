{
 "cells": [
  {
   "cell_type": "code",
   "execution_count": 1,
   "id": "3cb315c4",
   "metadata": {},
   "outputs": [
    {
     "data": {
      "text/plain": [
       "'1.0.3'"
      ]
     },
     "execution_count": 1,
     "metadata": {},
     "output_type": "execute_result"
    }
   ],
   "source": [
    "import anndata\n",
    "import scanpy as sc\n",
    "import mira\n",
    "mira.__version__"
   ]
  },
  {
   "cell_type": "markdown",
   "id": "7a24b8de",
   "metadata": {},
   "source": [
    "!rm -rf runs/*"
   ]
  },
  {
   "cell_type": "code",
   "execution_count": 2,
   "id": "c7fac431",
   "metadata": {},
   "outputs": [],
   "source": [
    "rna_data = anndata.read_h5ad('data/test_synth_differentiation.h5ad')\n",
    "\n",
    "sc.pp.filter_genes(rna_data, min_cells=25)\n",
    "rna_data.raw = rna_data\n",
    "sc.pp.normalize_total(rna_data, target_sum=1e4)\n",
    "sc.pp.log1p(rna_data)\n",
    "sc.pp.highly_variable_genes(rna_data)\n",
    "rna_data.layers['counts'] = rna_data.raw.to_adata().X.copy()"
   ]
  },
  {
   "cell_type": "markdown",
   "id": "6bb7ace9",
   "metadata": {},
   "source": [
    "rna_model = mira.topics.ExpressionTopicModel(seed=0, counts_layer='counts',\n",
    "                                            endogenous_key = 'highly_variable',\n",
    "                                            exogenous_key = 'highly_variable',\n",
    "                                            num_topics=7, beta=0.93, encoder_dropout=0.1,\n",
    "                                            batch_size=64, num_layers = 2,\n",
    "                                            reconstruction_weight=1/2)"
   ]
  },
  {
   "cell_type": "code",
   "execution_count": 3,
   "id": "6aaa9ad9",
   "metadata": {},
   "outputs": [],
   "source": [
    "class CovarModel(mira.topics.ExpressionTopicModel, mira.topics.CovariateModelMixin):\n",
    "    pass\n",
    "\n",
    "rna_model = CovarModel(seed=0, counts_layer='counts',\n",
    "                        endogenous_key = 'highly_variable',\n",
    "                        exogenous_key = 'highly_variable',\n",
    "                        num_topics=7, beta=0.93, encoder_dropout=0.1,\n",
    "                        batch_size=64, num_layers = 2,\n",
    "                        reconstruction_weight=1/2,\n",
    "                        covariates_keys = ['mix_weight_3'])"
   ]
  },
  {
   "cell_type": "code",
   "execution_count": 4,
   "id": "edfdc9dc",
   "metadata": {
    "scrolled": false
   },
   "outputs": [
    {
     "name": "stderr",
     "output_type": "stream",
     "text": [
      "INFO:mira.adata_interface.topic_model:Predicting expression from genes from col: highly_variable\n",
      "INFO:mira.adata_interface.topic_model:Using highly-variable genes from col: highly_variable\n",
      "WARNING:mira.topic_model.base:Cuda unavailable. Will not use GPU speedup while training.\n"
     ]
    },
    {
     "data": {
      "application/vnd.jupyter.widget-view+json": {
       "model_id": "2e2d58d8109f46cc9c3a6231f8774853",
       "version_major": 2,
       "version_minor": 0
      },
      "text/plain": [
       "Learning rate range test:   0%|          | 0/73 [00:00<?, ?it/s]"
      ]
     },
     "metadata": {},
     "output_type": "display_data"
    },
    {
     "name": "stderr",
     "output_type": "stream",
     "text": [
      "INFO:mira.topic_model.base:Set learning rates to: (0.0031165179357482854, 0.832423607891061)\n"
     ]
    },
    {
     "data": {
      "text/plain": [
       "(0.0031165179357482854, 0.832423607891061)"
      ]
     },
     "execution_count": 4,
     "metadata": {},
     "output_type": "execute_result"
    }
   ],
   "source": [
    "rna_model.get_learning_rate_bounds(rna_data, upper_bound_lr=5, eval_every=1, num_epochs = 5)"
   ]
  },
  {
   "cell_type": "code",
   "execution_count": 5,
   "id": "926bc9a0",
   "metadata": {},
   "outputs": [
    {
     "name": "stderr",
     "output_type": "stream",
     "text": [
      "INFO:mira.topic_model.base:Set learning rates to: (0.023028125860567628, 0.30623153168887934)\n"
     ]
    },
    {
     "data": {
      "text/plain": [
       "<AxesSubplot:xlabel='Learning Rate', ylabel='Loss'>"
      ]
     },
     "execution_count": 5,
     "metadata": {},
     "output_type": "execute_result"
    },
    {
     "data": {
      "image/png": "[encoded data removed]",
      "text/plain": [
       "<Figure size 720x504 with 1 Axes>"
      ]
     },
     "metadata": {
      "needs_background": "light"
     },
     "output_type": "display_data"
    }
   ],
   "source": [
    "rna_model.trim_learning_rate_bounds(2, 1.5)\n",
    "rna_model.plot_learning_rate_bounds()"
   ]
  },
  {
   "cell_type": "code",
   "execution_count": 6,
   "id": "d9724fcd",
   "metadata": {},
   "outputs": [],
   "source": [
    "from torch.utils.tensorboard import SummaryWriter"
   ]
  },
  {
   "cell_type": "code",
   "execution_count": null,
   "id": "1338a00d",
   "metadata": {},
   "outputs": [
    {
     "name": "stderr",
     "output_type": "stream",
     "text": [
      "INFO:mira.adata_interface.topic_model:Predicting expression from genes from col: highly_variable\n",
      "INFO:mira.adata_interface.topic_model:Using highly-variable genes from col: highly_variable\n",
      "WARNING:mira.topic_model.base:Cuda unavailable. Will not use GPU speedup while training.\n"
     ]
    },
    {
     "data": {
      "application/vnd.jupyter.widget-view+json": {
       "model_id": "54c9e71270a345c9aca795494c4d6e6b",
       "version_major": 2,
       "version_minor": 0
      },
      "text/plain": [
       "Epoch 0:   0%|          | 0/40 [00:00<?, ?it/s]"
      ]
     },
     "metadata": {},
     "output_type": "display_data"
    }
   ],
   "source": [
    "with SummaryWriter(log_dir='runs/batcheffect0') as w:\n",
    "    rna_model.fit(rna_data, writer=w)"
   ]
  },
  {
   "cell_type": "code",
   "execution_count": null,
   "id": "41ab1bdf",
   "metadata": {},
   "outputs": [],
   "source": [
    "rna_model.predict(rna_data)\n",
    "rna_model.get_umap_features(rna_data)\n",
    "sc.pp.neighbors(rna_data, use_rep='X_umap_features', metric='manhattan')\n",
    "sc.tl.umap(rna_data, min_dist=0.1, negative_sample_rate=1)"
   ]
  },
  {
   "cell_type": "code",
   "execution_count": null,
   "id": "b9fcde15",
   "metadata": {},
   "outputs": [],
   "source": [
    "sc.pl.umap(rna_data)"
   ]
  }
 ],
 "metadata": {
  "kernelspec": {
   "display_name": "mirarep",
   "language": "python",
   "name": "mirarep"
  },
  "language_info": {
   "codemirror_mode": {
    "name": "ipython",
    "version": 3
   },
   "file_extension": ".py",
   "mimetype": "text/x-python",
   "name": "python",
   "nbconvert_exporter": "python",
   "pygments_lexer": "ipython3",
   "version": "3.7.12"
  }
 },
 "nbformat": 4,
 "nbformat_minor": 5
}
