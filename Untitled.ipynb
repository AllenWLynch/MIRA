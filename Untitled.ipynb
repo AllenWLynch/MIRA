{
 "cells": [
  {
   "cell_type": "code",
   "execution_count": 1,
   "id": "55738ea6",
   "metadata": {},
   "outputs": [],
   "source": [
    "import os\n",
    "\n",
    "fake_bed = '''chr1\\t100\\t200\n",
    "chr1\\t200\\t400\n",
    "chr2\\t300\\t1000\n",
    "chr5\\t300\\t300\n",
    "chr8\\t500\\t600'''\n",
    "\n",
    "!mkdir -p data/fraginterleavetest\n",
    "filenames = ['frag1.bed','frag2.bed','frag3.bed']\n",
    "\n",
    "for name in filenames:\n",
    "    with open(os.path.join('data/fraginterleavetest', name), 'w') as f:\n",
    "        print(fake_bed, file = f)"
   ]
  },
  {
   "cell_type": "code",
   "execution_count": 1,
   "id": "5d4c76ef",
   "metadata": {},
   "outputs": [
    {
     "name": "stdout",
     "output_type": "stream",
     "text": [
      "chr1\t100\t200\n",
      "chr1\t100\t200\n",
      "chr1\t100\t200\n",
      "chr1\t200\t400\n",
      "chr1\t200\t400\n",
      "chr1\t200\t400\n",
      "chr2\t300\t1000\n",
      "chr2\t300\t1000\n",
      "chr2\t300\t1000\n",
      "chr5\t300\t300\n",
      "chr5\t300\t300\n",
      "chr5\t300\t300\n",
      "chr8\t500\t600\n",
      "chr8\t500\t600\n",
      "chr8\t500\t600\n"
     ]
    }
   ],
   "source": [
    "import os\n",
    "\n",
    "from mira.preprocessing.interleave_fragments import interleave_sorted_frags, PeekIterator, BedFileRecord\n",
    "\n",
    "filenames = ['frag1.bed','frag2.bed','frag3.bed']\n",
    "interleave_sorted_frags(\n",
    "    *[os.path.join('data/fraginterleavetest', name) for name in filenames])"
   ]
  },
  {
   "cell_type": "code",
   "execution_count": null,
   "id": "db813965",
   "metadata": {},
   "outputs": [],
   "source": []
  }
 ],
 "metadata": {
  "kernelspec": {
   "display_name": "mirarep",
   "language": "python",
   "name": "mirarep"
  },
  "language_info": {
   "codemirror_mode": {
    "name": "ipython",
    "version": 3
   },
   "file_extension": ".py",
   "mimetype": "text/x-python",
   "name": "python",
   "nbconvert_exporter": "python",
   "pygments_lexer": "ipython3",
   "version": "3.7.12"
  }
 },
 "nbformat": 4,
 "nbformat_minor": 5
}
