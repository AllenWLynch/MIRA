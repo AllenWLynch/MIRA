{
 "cells": [
  {
   "cell_type": "markdown",
   "id": "fcab2497",
   "metadata": {},
   "source": [
    "# Topic Model Tuning\n",
    "\n",
    "In this tutorial, we will tune a topic model on a synthetic RNA-seq dataset to demonstrate the optimization functionalities. To get started, one must have a matrix of raw counts (UMI-collpased for scRNA-seq). **MIRA assumes you have already completed QC and cell filtering**. Feeding low-quality cells into a MIRA topic will decrease the quality of the topics and latent embeddings.\n",
    "\n",
    "First, import some packages:"
   ]
  },
  {
   "cell_type": "code",
   "execution_count": 1,
   "id": "cc3f0560",
   "metadata": {},
   "outputs": [
    {
     "data": {
      "text/html": [
       "\n",
       "<style>\n",
       "div.output_stderr {\n",
       "    background: #e6e7ed;\n",
       "}\n",
       "</style>\n",
       "    "
      ],
      "text/plain": [
       "<IPython.core.display.HTML object>"
      ]
     },
     "execution_count": 1,
     "metadata": {},
     "output_type": "execute_result"
    }
   ],
   "source": [
    "import mira\n",
    "import scanpy as sc\n",
    "import numpy as np\n",
    "mira.utils.pretty_sderr()"
   ]
  },
  {
   "cell_type": "code",
   "execution_count": 2,
   "id": "72ea6870",
   "metadata": {},
   "outputs": [
    {
     "data": {
      "text/plain": [
       "AnnData object with n_obs × n_vars = 1000 × 18023\n",
       "    obs: 'mix_weight_0', 'mix_weight_1', 'mix_weight_2', 'mix_weight_3', 'is_end_cell', 'is_start_cell'\n",
       "    var: 'feature_type'\n",
       "    layers: 'counts'"
      ]
     },
     "execution_count": 2,
     "metadata": {},
     "output_type": "execute_result"
    }
   ],
   "source": [
    "data = sc.read_h5ad('data/test_synth_differentiation.h5ad')\n",
    "data"
   ]
  },
  {
   "cell_type": "code",
   "execution_count": 3,
   "id": "25ffdb31",
   "metadata": {},
   "outputs": [
    {
     "data": {
      "text/plain": [
       "(2810, 5638)"
      ]
     },
     "execution_count": 3,
     "metadata": {},
     "output_type": "execute_result"
    }
   ],
   "source": [
    "data.raw = data\n",
    "\n",
    "sc.pp.normalize_total(data, target_sum=1e4)\n",
    "sc.pp.log1p(data)\n",
    "sc.pp.highly_variable_genes(data, min_disp=0.2)\n",
    "\n",
    "data.var['exog'] = data.var.highly_variable\n",
    "data.var['endog'] = data.var.highly_variable & (data.var.dispersions_norm > 0.7)\n",
    "\n",
    "data.var.endog.sum(), data.var.exog.sum()"
   ]
  },
  {
   "cell_type": "code",
   "execution_count": 4,
   "id": "383f8324",
   "metadata": {},
   "outputs": [],
   "source": [
    "data.layers['counts'] = data.raw.to_adata().X.copy()\n",
    "\n",
    "data = data[np.random.permutation(len(data))]"
   ]
  },
  {
   "cell_type": "code",
   "execution_count": 5,
   "id": "6e9211aa",
   "metadata": {},
   "outputs": [],
   "source": [
    "model = mira.topics.ExpressionTopicModel(\n",
    "    exogenous_key = 'exog', \n",
    "    endogenous_key = 'endog',\n",
    "    counts_layer = 'counts',\n",
    ")"
   ]
  },
  {
   "cell_type": "code",
   "execution_count": 6,
   "id": "d931755e",
   "metadata": {},
   "outputs": [
    {
     "name": "stderr",
     "output_type": "stream",
     "text": [
      "INFO:mira.adata_interface.topic_model:Predicting expression from genes from col: exog\n",
      "INFO:mira.adata_interface.topic_model:Using highly-variable genes from col: endog\n",
      "WARNING:mira.topic_model.base:Cuda unavailable. Will not use GPU speedup while training.\n"
     ]
    },
    {
     "data": {
      "application/vnd.jupyter.widget-view+json": {
       "model_id": "61fe7f7bd75f46ddb1d6a41c7aa2056c",
       "version_major": 2,
       "version_minor": 0
      },
      "text/plain": [
       "Learning rate range test:   0%|          | 0/94 [00:00<?, ?it/s]"
      ]
     },
     "metadata": {},
     "output_type": "display_data"
    },
    {
     "name": "stderr",
     "output_type": "stream",
     "text": [
      "INFO:mira.topic_model.base:Set learning rates to: (0.0022226242762333343, 0.2931996902997328)\n"
     ]
    },
    {
     "data": {
      "text/plain": [
       "(0.0022226242762333343, 0.2931996902997328)"
      ]
     },
     "execution_count": 6,
     "metadata": {},
     "output_type": "execute_result"
    }
   ],
   "source": [
    "model.get_learning_rate_bounds(data, eval_every=1)"
   ]
  },
  {
   "cell_type": "code",
   "execution_count": 7,
   "id": "71263f9c",
   "metadata": {},
   "outputs": [
    {
     "name": "stderr",
     "output_type": "stream",
     "text": [
      "INFO:mira.topic_model.base:Set learning rates to: (0.01642309546393324, 0.2931996902997328)\n"
     ]
    },
    {
     "data": {
      "text/plain": [
       "<AxesSubplot:xlabel='Learning Rate', ylabel='Loss'>"
      ]
     },
     "execution_count": 7,
     "metadata": {},
     "output_type": "execute_result"
    },
    {
     "data": {
      "image/png": "[encoded data removed]",
      "text/plain": [
       "<Figure size 720x504 with 1 Axes>"
      ]
     },
     "metadata": {
      "needs_background": "light"
     },
     "output_type": "display_data"
    }
   ],
   "source": [
    "model.trim_learning_rate_bounds(2,0.5)\n",
    "model.plot_learning_rate_bounds()"
   ]
  },
  {
   "cell_type": "code",
   "execution_count": 8,
   "id": "1dc43185",
   "metadata": {},
   "outputs": [],
   "source": [
    "tuner = mira.topics.TopicModelTuner(model, save_name='data/example_model.pkl',\n",
    "                                   seed=0, iters=32)"
   ]
  },
  {
   "cell_type": "code",
   "execution_count": 9,
   "id": "8b645e1b",
   "metadata": {},
   "outputs": [
    {
     "name": "stderr",
     "output_type": "stream",
     "text": [
      "INFO:mira.adata_interface.topic_model:Added col: test_set\n",
      "INFO:mira.adata_interface.core:Added cols to obs: test_set\n",
      "Trying to set attribute `.obs` of view, copying.\n"
     ]
    }
   ],
   "source": [
    "tuner.train_test_split(data)"
   ]
  },
  {
   "cell_type": "code",
   "execution_count": null,
   "id": "2d62d7b6",
   "metadata": {},
   "outputs": [],
   "source": [
    "tuner.tune(data)"
   ]
  },
  {
   "cell_type": "code",
   "execution_count": null,
   "id": "4e9048c1",
   "metadata": {},
   "outputs": [],
   "source": []
  }
 ],
 "metadata": {
  "kernelspec": {
   "display_name": "mirarep",
   "language": "python",
   "name": "mirarep"
  },
  "language_info": {
   "codemirror_mode": {
    "name": "ipython",
    "version": 3
   },
   "file_extension": ".py",
   "mimetype": "text/x-python",
   "name": "python",
   "nbconvert_exporter": "python",
   "pygments_lexer": "ipython3",
   "version": "3.7.12"
  }
 },
 "nbformat": 4,
 "nbformat_minor": 5
}
