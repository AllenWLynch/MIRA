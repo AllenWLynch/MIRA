{
 "cells": [
  {
   "cell_type": "code",
   "execution_count": 1,
   "id": "1f87b6f0",
   "metadata": {},
   "outputs": [
    {
     "data": {
      "text/html": [
       "<style>.container { width:100% !important; }</style>"
      ],
      "text/plain": [
       "<IPython.core.display.HTML object>"
      ]
     },
     "metadata": {},
     "output_type": "display_data"
    }
   ],
   "source": [
    "import mira\n",
    "import scanpy as sc\n",
    "import anndata\n",
    "import pandas as pd\n",
    "\n",
    "mira.utils.wide_view()"
   ]
  },
  {
   "cell_type": "code",
   "execution_count": 2,
   "id": "dc1b11c2",
   "metadata": {},
   "outputs": [
    {
     "name": "stderr",
     "output_type": "stream",
     "text": [
      "INFO:mira.topic_model.base:Moving model to CPU for inference.\n",
      "INFO:mira.topic_model.base:Moving model to device: cpu\n",
      "INFO:mira.topic_model.base:Moving model to CPU for inference.\n",
      "INFO:mira.topic_model.base:Moving model to device: cpu\n"
     ]
    }
   ],
   "source": [
    "atac_data = anndata.read_h5ad('/Users/alynch/Dropbox (Partners HealthCare)/shareseq_code_ocean/lite_atac_data.h5ad')\n",
    "rna_data = anndata.read_h5ad('/Users/alynch/Dropbox (Partners HealthCare)/shareseq_code_ocean/hair_follicle.h5ad')\n",
    "\n",
    "rna_model = mira.topics.ExpressionTopicModel.load('/Users/alynch/Dropbox (Partners HealthCare)/shareseq_code_ocean/Shareseq_rna_model_rev1.pth')\n",
    "atac_model = mira.topics.AccessibilityTopicModel.load('/Users/alynch/Dropbox (Partners HealthCare)/shareseq_code_ocean/shareseq_atac_model_rev1.pth')"
   ]
  },
  {
   "cell_type": "markdown",
   "id": "dbac5e19",
   "metadata": {},
   "source": [
    "rna_data.obs['ordered_cells'] = rna_data.obs.mira_pseudotime.argsort().argsort()[::-1]\n",
    "ax = mira.pl.plot_stream(rna_data[rna_data.obs.tree_states.str.contains('Cortex') & (rna_data.obs.mira_pseudotime > 6)], data = ['mira_pseudotime', 'LEF1'], \n",
    "                style = 'scatter', pseudotime_triangle=False, clip = 2, palette='Set2', layers = [None, 'smoothed'], max_bar_height=0.8,\n",
    "               window_size=501, orientation='v', tree_structure=False, pseudotime_key = 'ordered_cells', \n",
    "                         log_pseudotime=False, scale_features = True)\n",
    "#ax[1].set(ylim = (-5,10))\n",
    "ax[1].axis('on')"
   ]
  },
  {
   "cell_type": "code",
   "execution_count": 14,
   "id": "cc860dc9",
   "metadata": {},
   "outputs": [],
   "source": [
    "import sklearn"
   ]
  },
  {
   "cell_type": "code",
   "execution_count": 3,
   "id": "6f36be49",
   "metadata": {},
   "outputs": [],
   "source": [
    "import numpy as np\n",
    "from scipy import sparse\n",
    "from lisa.core.genome_tools import Region\n",
    "import warnings\n",
    "import matplotlib.patches as patches\n",
    "import tqdm\n",
    "\n",
    "def _residual_transform(X, pi_j_hat, n_i):\n",
    "    \n",
    "    assert(isinstance(X, np.ndarray))\n",
    "    assert(isinstance(pi_j_hat, np.ndarray))\n",
    "    assert(isinstance(n_i, np.ndarray))\n",
    "    pi_j_hat = np.squeeze(pi_j_hat)[np.newaxis, :]\n",
    "    n_i = np.squeeze(n_i)[:, np.newaxis]\n",
    "\n",
    "    mu_ij_hat = n_i * pi_j_hat\n",
    "\n",
    "    count_dif = n_i - X\n",
    "    expected_count_dif = n_i - mu_ij_hat\n",
    "\n",
    "    with warnings.catch_warnings():\n",
    "        warnings.simplefilter(\"ignore\")\n",
    "\n",
    "        r_ij = np.multiply(\n",
    "            np.sign(X - mu_ij_hat), \n",
    "            np.sqrt(\n",
    "            np.where(X > 0, 2 * np.multiply(X, np.log(X / mu_ij_hat)), 0) + \\\n",
    "            2 * np.multiply(count_dif, np.log(count_dif / expected_count_dif))\n",
    "            )\n",
    "        )\n",
    "\n",
    "    return np.clip(np.nan_to_num(r_ij), -10, 10)\n",
    "\n",
    "def _get_pi(X):\n",
    "    return np.array(X.sum(0)).reshape(-1)/X.sum()\n",
    "\n",
    "def _get_n(X):\n",
    "    return np.array(X.sum(-1)).reshape(-1)\n",
    "\n",
    "\n",
    "def _make_regpanel(ax,*, accessibility, chrom, start, end, peaks, time):\n",
    "\n",
    "    accessibility.data = np.ones_like(accessibility.data)\n",
    "    n_i = _get_n(accessibility)\n",
    "    p_i = _get_pi(accessibility)\n",
    "\n",
    "    interval = Region(chrom, start, end)\n",
    "\n",
    "    overlapped_peaks = np.array([\n",
    "        Region(*peak).overlaps(interval)\n",
    "        for peak in peaks\n",
    "    ])\n",
    "    \n",
    "    order = time.argsort()\n",
    "\n",
    "    X = accessibility[:, overlapped_peaks].toarray()[order, :]\n",
    "\n",
    "    residuals = _residual_transform(X, p_i[overlapped_peaks], n_i)\n",
    "\n",
    "    ax.set(xlim = (start, end), ylim = (0, len(residuals)))\n",
    "    t_ = iter(tqdm.trange((residuals > 0).sum(), desc = 'Plotting fragments'))\n",
    "\n",
    "    for alpha, position in zip(residuals.T, peaks[overlapped_peaks]):\n",
    "        \n",
    "        start, end = (int(position[1]), int(position[2]))\n",
    "        min_, max_ = alpha.min(), alpha.max()\n",
    "        transparency = (alpha - min_)/(max_ - min_)\n",
    "        \n",
    "        for j, a in enumerate(alpha):\n",
    "            if a > 0:\n",
    "                ax.add_patch(\n",
    "                    patches.Rectangle((start, j), (end - start), 1, color = 'black', alpha = transparency[j])\n",
    "                )\n",
    "                next(t_)\n",
    "\n",
    "    ax.invert_yaxis()"
   ]
  },
  {
   "cell_type": "code",
   "execution_count": 4,
   "id": "8486419b",
   "metadata": {},
   "outputs": [],
   "source": [
    "litemodel = mira.rp.LITE_Model(expr_model=rna_model, accessibility_model=atac_model, genes = [\"LEF1\"]).load('/Users/alynch/Dropbox (Partners HealthCare)/shareseq_code_ocean/rp_models/')"
   ]
  },
  {
   "cell_type": "code",
   "execution_count": 6,
   "id": "a1e59f87",
   "metadata": {},
   "outputs": [],
   "source": [
    "import matplotlib.pyplot as plt"
   ]
  },
  {
   "cell_type": "code",
   "execution_count": 8,
   "id": "193644df",
   "metadata": {},
   "outputs": [
    {
     "name": "stderr",
     "output_type": "stream",
     "text": [
      "INFO:mira.tools.connect_genes_peaks:Finding peak intersections with promoters ...\n",
      "INFO:mira.tools.connect_genes_peaks:Calculating distances between peaks and TSS ...\n",
      "INFO:mira.tools.connect_genes_peaks:Masking other genes' promoters ...\n",
      "INFO:mira.adata_interface.rp_model:Added key to var: distance_to_TSS\n",
      "INFO:mira.adata_interface.rp_model:Added key to uns: distance_to_TSS_genes\n"
     ]
    }
   ],
   "source": [
    "test = pd.read_csv('/Users/alynch/genomes/mm10/canonical_tss.tsv', sep = '\\t')\n",
    "test.columns = test.columns.str.split('.').str.get(-1)\n",
    "test['val'] = 0\n",
    "test = test.dropna()\n",
    "test = test.drop_duplicates(subset = 'geneSymbol')\n",
    "test['geneSymbol'] = test.geneSymbol.str.upper()\n",
    "\n",
    "mira.tl.get_distance_to_TSS(atac_data, tss_data = test, genome_file='/Users/alynch/genomes/mm10/mm10.genome')"
   ]
  },
  {
   "cell_type": "code",
   "execution_count": 10,
   "id": "f414eeca",
   "metadata": {},
   "outputs": [],
   "source": [
    "import pygenometracks\n",
    "import pandas as pd"
   ]
  },
  {
   "cell_type": "code",
   "execution_count": 13,
   "id": "25d68b26",
   "metadata": {},
   "outputs": [
    {
     "name": "stderr",
     "output_type": "stream",
     "text": [
      "Plotting fragments: 100%|█████████▉| 9394/9395 [00:06<00:00, 1430.49it/s]\n",
      "Intersecting RP models with interval: 100%|██████████| 1/1 [00:00<00:00, 501.53it/s]\n",
      "100%|██████████| 55304/55304 [00:02<00:00, 20130.85it/s]\n",
      "DEBUG:pygenometracks.tracks.GenomeTrack:ylim 5.68,-0.08\n",
      "Trying to set attribute `.obs` of view, copying.\n"
     ]
    },
    {
     "data": {
      "text/plain": [
       "[(0.0, 3651.0)]"
      ]
     },
     "execution_count": 13,
     "metadata": {},
     "output_type": "execute_result"
    },
    {
     "data": {
      "image/png": "[encoded data removed]",
      "text/plain": [
       "<Figure size 1080x576 with 4 Axes>"
      ]
     },
     "metadata": {
      "needs_background": "light"
     },
     "output_type": "display_data"
    }
   ],
   "source": [
    "#fig, ax = plt.subplots(1,1,figsize=(10,5))\n",
    "cells = atac_data[rna_data.obs_names[rna_data.obs.tree_states.str.contains('Cortex')]]\n",
    "fig5 = plt.figure(constrained_layout=False, figsize=(15,8))\n",
    "widths = [5, 1]\n",
    "heights = [1, 1, 5]\n",
    "spec5 = fig5.add_gridspec(ncols=2, nrows=3, width_ratios=widths,\n",
    "                    height_ratios=heights)\n",
    "\n",
    "fragments_ax = fig5.add_subplot(spec5[2,0])\n",
    "for spine in ['left','right','top','bottom']:\n",
    "    fragments_ax.spines[spine].set_visible(False)\n",
    "fragments_ax.set(xlabel = 'Loci', ylabel = 'Pseudotime', xticks = [], yticks = [])\n",
    "_make_regpanel(fragments_ax, accessibility = cells.X, chrom = 'chr3', time = rna_data.obs[rna_data.obs.tree_states.str.contains('Cortex')].mira_pseudotime,\n",
    "               start = 131110470-2e5, end = 131110470+2e5, peaks = cells.var[['chr','start','end']].values)\n",
    "\n",
    "\n",
    "rp_axes = fig5.add_subplot(spec5[1,0])\n",
    "rp_axes.axis('off')\n",
    "mira.plots.rp_plots._plot_rp_models(rp_axes, \n",
    "        interval_chrom = 'chr3', interval_start = 131110470-2e5, interval_end = 131110470+2e5, rp_models = litemodel, \n",
    "        gene_id = atac_data.uns['TSS_metadata']['gene'], \n",
    "                chrom = atac_data.uns['TSS_metadata']['chromosome'], \n",
    "                start = atac_data.uns['TSS_metadata']['txStart'],\n",
    "                end = atac_data.uns['TSS_metadata']['txEnd'], \n",
    "                strand = atac_data.uns['TSS_metadata']['strand'])\n",
    "\n",
    "track = pygenometracks.BedTrack(dict(file = 'data/shareseq/testbed.bed', section_name = 'Track'))\n",
    "track_ax = fig5.add_subplot(spec5[0,0])\n",
    "track_ax.set(xlim = (131110470-2e5, 131110470+2e5))\n",
    "track.plot(track_ax, 'chr3', 131110470-2e5, 131110470+2e5)\n",
    "track_ax.axis('off')\n",
    "\n",
    "streamax = fig5.add_subplot(spec5[2,1])\n",
    "rna_cells = rna_data[cells.obs_names]\n",
    "rna_cells.obs['ordered_cells'] = len(rna_cells) - rna_cells.obs.mira_pseudotime.argsort().argsort()\n",
    "mira.pl.plot_stream(rna_cells, data = ['LEF1','LEF1'], layers = ['LITE_prediction','normalized'],\n",
    "                style = 'line', pseudotime_triangle=False, clip = 2, palette='Set2', max_bar_height = 0.99,\n",
    "               window_size=501, orientation='v', tree_structure=False, pseudotime_key = 'ordered_cells', \n",
    "                         log_pseudotime=False, scale_features = True, show_legend = False,\n",
    "                   ax = streamax)\n",
    "streamax.set(ylim = (0, len(cells) + 1))\n",
    "               \n",
    "#ax[1].set(ylim = (-5,10))"
   ]
  },
  {
   "cell_type": "code",
   "execution_count": 9,
   "id": "bc7c2d95",
   "metadata": {},
   "outputs": [],
   "source": [
    "litemodel = mira.rp.LITE_Model(expr_model=rna_model, accessibility_model = atac_model, genes = ['LEF1','KRT35']).load('/Users/alynch/Dropbox (Partners HealthCare)/shareseq_code_ocean/rp_models/')"
   ]
  },
  {
   "cell_type": "code",
   "execution_count": 11,
   "id": "ec331558",
   "metadata": {},
   "outputs": [],
   "source": [
    "test[['chrom','txStart','txEnd','geneSymbol','val','strand']].to_csv('data/shareseq/testbed.bed',sep = '\\t',\n",
    "                            index = None, header = None)"
   ]
  },
  {
   "cell_type": "code",
   "execution_count": 49,
   "id": "c3a84873",
   "metadata": {},
   "outputs": [],
   "source": [
    "import anndata\n",
    "import numpy as np\n",
    "import tqdm\n",
    "import warnings"
   ]
  },
  {
   "cell_type": "code",
   "execution_count": 29,
   "id": "cef99f62",
   "metadata": {},
   "outputs": [],
   "source": [
    "atac_data = anndata.read_h5ad('/Users/alynch/Dropbox (Partners HealthCare)/shareseq_code_ocean/lite_atac_data.h5ad')\n",
    "rna_data = anndata.read_h5ad('/Users/alynch/Dropbox (Partners HealthCare)/shareseq_code_ocean/hair_follicle.h5ad')"
   ]
  },
  {
   "cell_type": "code",
   "execution_count": 40,
   "id": "4ca066a2",
   "metadata": {},
   "outputs": [],
   "source": [
    "def _residual_transform(X, pi_j_hat, n_i):\n",
    "    \n",
    "    assert(isinstance(X, np.ndarray))\n",
    "    assert(isinstance(pi_j_hat, np.ndarray))\n",
    "    assert(isinstance(n_i, np.ndarray))\n",
    "    pi_j_hat = np.squeeze(pi_j_hat)[np.newaxis, :]\n",
    "    n_i = np.squeeze(n_i)[:, np.newaxis]\n",
    "\n",
    "    mu_ij_hat = n_i * pi_j_hat\n",
    "\n",
    "    count_dif = n_i - X\n",
    "    expected_count_dif = n_i - mu_ij_hat\n",
    "\n",
    "    with warnings.catch_warnings():\n",
    "        warnings.simplefilter(\"ignore\")\n",
    "\n",
    "        r_ij = np.multiply(\n",
    "            np.sign(X - mu_ij_hat), \n",
    "            np.sqrt(\n",
    "            np.where(X > 0, 2 * np.multiply(X, np.log(X / mu_ij_hat)), 0) + \\\n",
    "            2 * np.multiply(count_dif, np.log(count_dif / expected_count_dif))\n",
    "            )\n",
    "        )\n",
    "\n",
    "    return np.clip(np.nan_to_num(r_ij), -10, 10)\n",
    "\n",
    "def get_pi(X):\n",
    "    return np.array(X.sum(0)).reshape(-1)/X.sum()\n",
    "\n",
    "def get_n(X):\n",
    "    return np.array(X.sum(-1)).reshape(-1)"
   ]
  },
  {
   "cell_type": "code",
   "execution_count": 98,
   "id": "c964b69c",
   "metadata": {},
   "outputs": [],
   "source": [
    "X = atac_data.X.tocsc()\n",
    "X.data = np.ones_like(X.data)"
   ]
  },
  {
   "cell_type": "code",
   "execution_count": 101,
   "id": "76144496",
   "metadata": {},
   "outputs": [],
   "source": [
    "atac_data.obs['n_i'] = get_n(X)\n",
    "atac_data.var['pi'] = get_pi(X)"
   ]
  },
  {
   "cell_type": "code",
   "execution_count": 120,
   "id": "0741472d",
   "metadata": {},
   "outputs": [
    {
     "data": {
      "text/plain": [
       "0"
      ]
     },
     "execution_count": 120,
     "metadata": {},
     "output_type": "execute_result"
    }
   ],
   "source": [
    "atac_data.var.pi.argmax()"
   ]
  },
  {
   "cell_type": "code",
   "execution_count": 102,
   "id": "d4f4412b",
   "metadata": {},
   "outputs": [],
   "source": [
    "from lisa.core.genome_tools import Region"
   ]
  },
  {
   "cell_type": "code",
   "execution_count": 172,
   "id": "ded2e8d2",
   "metadata": {},
   "outputs": [
    {
     "data": {
      "text/plain": [
       "name          ENSMUST00000106341.8\n",
       "chrom                         chr3\n",
       "strand                           +\n",
       "txStart                  131110470\n",
       "txEnd                    131224356\n",
       "chromStart             131110470.0\n",
       "chromEnd               131224356.0\n",
       "transcript    ENSMUST00000106341.8\n",
       "val                              0\n",
       "Name: Lef1, dtype: object"
      ]
     },
     "execution_count": 172,
     "metadata": {},
     "output_type": "execute_result"
    }
   ],
   "source": [
    "test.set_index('geneSymbol').loc['Lef1']"
   ]
  },
  {
   "cell_type": "code",
   "execution_count": 173,
   "id": "b6072f92",
   "metadata": {},
   "outputs": [],
   "source": [
    "bounds = Region('chr3', 131110470 - 2e5, 131224356+2e5)"
   ]
  },
  {
   "cell_type": "code",
   "execution_count": 174,
   "id": "7b662abd",
   "metadata": {},
   "outputs": [],
   "source": [
    "atac_data.var['in_plot'] = [\n",
    "    Region(chrom, start, end).overlaps(bounds)\n",
    "    for (chrom, start, end) in atac_data.var[['chr','start','end']].values\n",
    "]"
   ]
  },
  {
   "cell_type": "code",
   "execution_count": 175,
   "id": "b08c1be7",
   "metadata": {},
   "outputs": [],
   "source": [
    "cells_in_plot = atac_data[rna_data.obs_names[rna_data.obs.tree_states.str.contains('Cortex')], \n",
    "                         atac_data.var.in_plot]\n",
    "cells_in_plot = cells_in_plot[\n",
    "    rna_data[rna_data.obs.tree_states.str.contains('Cortex')].obs.mira_pseudotime.argsort()[::-1]\n",
    "]"
   ]
  },
  {
   "cell_type": "code",
   "execution_count": 176,
   "id": "f64e5211",
   "metadata": {},
   "outputs": [],
   "source": [
    "arr = cells_in_plot.X.toarray()\n",
    "#arr[:,0] = np.random.rand(arr.shape[0]) < 0.5\n",
    "residuals = _residual_transform(\n",
    "    arr, cells_in_plot.var.pi.values, cells_in_plot.obs.n_i.values\n",
    ")"
   ]
  },
  {
   "cell_type": "code",
   "execution_count": 177,
   "id": "56d5c7cf",
   "metadata": {},
   "outputs": [],
   "source": [
    "import seaborn as sns\n",
    "import matplotlib.patches\n",
    "\n",
    "width = 10\n",
    "fig, ax = plt.subplots(1,1,figsize=(10,5))\n",
    "ax.set(xlim = (bounds.start, bounds.end), ylim = (0, -len(residuals)))\n",
    "t_ = iter(tqdm.trange((residuals > 0).sum()))\n",
    "\n",
    "for alpha, position in zip(residuals.T, cells_in_plot.var[['chr','start','end']].values):\n",
    "    \n",
    "    start, end = (int(position[1]), int(position[2]))\n",
    "    min_, max_ = alpha.min(), alpha.max()\n",
    "    transparency = (alpha - min_)/(max_ - min_)\n",
    "    \n",
    "    for j, a in enumerate(alpha):\n",
    "        if a > 0:\n",
    "            ax.add_patch(\n",
    "                patches.Rectangle((start, -j), (end - start), 1, color = 'black', alpha = transparency[j])\n",
    "            )\n",
    "            next(t_)"
   ]
  },
  {
   "cell_type": "code",
   "execution_count": 197,
   "id": "d32b1435",
   "metadata": {},
   "outputs": [
    {
     "ename": "AttributeError",
     "evalue": "'Region' object has no attribute 'strand'",
     "output_type": "error",
     "traceback": [
      "\u001b[0;31m---------------------------------------------------------------------------\u001b[0m",
      "\u001b[0;31mAttributeError\u001b[0m                            Traceback (most recent call last)",
      "\u001b[0;32m<ipython-input-197-44bdd2e97e27>\u001b[0m in \u001b[0;36m<module>\u001b[0;34m\u001b[0m\n\u001b[0;32m----> 1\u001b[0;31m \u001b[0mbounds\u001b[0m\u001b[0;34m.\u001b[0m\u001b[0mstrand\u001b[0m\u001b[0;34m\u001b[0m\u001b[0;34m\u001b[0m\u001b[0m\n\u001b[0m",
      "\u001b[0;31mAttributeError\u001b[0m: 'Region' object has no attribute 'strand'"
     ]
    }
   ],
   "source": [
    "bounds.strand"
   ]
  },
  {
   "cell_type": "code",
   "execution_count": 191,
   "id": "aab9f654",
   "metadata": {},
   "outputs": [
    {
     "data": {
      "image/png": "[encoded data removed]",
      "text/plain": [
       "<Figure size 432x288 with 6 Axes>"
      ]
     },
     "metadata": {
      "needs_background": "light"
     },
     "output_type": "display_data"
    }
   ],
   "source": [
    "fig5 = plt.figure(constrained_layout=True)\n",
    "widths = [5, 1.5]\n",
    "heights = [1, 1, 5]\n",
    "spec5 = fig5.add_gridspec(ncols=2, nrows=3, width_ratios=widths,\n",
    "                          height_ratios=heights)\n",
    "for row in range(3):\n",
    "    for col in range(2):\n",
    "        ax = fig5.add_subplot(spec5[row, col])\n",
    "        label = 'Width: {}\\nHeight: {}'.format(widths[col], heights[row])\n",
    "        ax.annotate(label, (0.1, 0.5), xycoords='axes fraction', va='center')"
   ]
  },
  {
   "cell_type": "code",
   "execution_count": 200,
   "id": "b0382dbf",
   "metadata": {},
   "outputs": [
    {
     "data": {
      "text/plain": [
       "array(['4933401J01RIK', 'GM26206', 'XKR4', ..., 'GM21742', 'GM21748',\n",
       "       'AC234645.1'], dtype=object)"
      ]
     },
     "execution_count": 200,
     "metadata": {},
     "output_type": "execute_result"
    }
   ],
   "source": [
    "atac_data.uns['distance_to_TSS_genes']"
   ]
  },
  {
   "cell_type": "code",
   "execution_count": null,
   "id": "c3768d4e",
   "metadata": {},
   "outputs": [],
   "source": [
    "fig = plt.figure(figsize=(8, 6)) \n",
    "gs = gridspec.GridSpec(1, 2, width_ratios=[3, 1]) "
   ]
  }
 ],
 "metadata": {
  "kernelspec": {
   "display_name": "mira",
   "language": "python",
   "name": "mira"
  },
  "language_info": {
   "codemirror_mode": {
    "name": "ipython",
    "version": 3
   },
   "file_extension": ".py",
   "mimetype": "text/x-python",
   "name": "python",
   "nbconvert_exporter": "python",
   "pygments_lexer": "ipython3",
   "version": "3.7.12"
  }
 },
 "nbformat": 4,
 "nbformat_minor": 5
}
