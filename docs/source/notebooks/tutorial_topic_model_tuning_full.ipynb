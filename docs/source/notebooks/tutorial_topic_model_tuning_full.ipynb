{
 "cells": [
  {
   "cell_type": "markdown",
   "id": "93a50b5a",
   "metadata": {},
   "source": [
    "# Topic Modeling\n",
    "\n",
    "[![Open In Colab](https://colab.research.google.com/assets/colab-badge.svg)](https://colab.research.google.com/github/AllenWLynch/MIRA/blob/main/docs/source/notebooks/tutorial_topic_modeling_tuning_full.ipynb)\n",
    "[![Binder](https://mybinder.org/badge_logo.svg)](https://mybinder.org/v2/gh/AllenWLynch/MIRA/HEAD?labpath=docs%2Fsource%2Fnotebooks%2Ftutorial_topic_model_tuning_full.ipynb)\n",
    "\n",
    "**^ Binder launches an interactive session of this tutorial with the environment pre-configured!**\n",
    "\n",
    "## What is a topic model?\n",
    "\n",
    "Topic models, like [LDA](https://www.jmlr.org/papers/volume3/blei03a/blei03a.pdf), have traditionally been used to decompose a corpus of text into topics - or themes - composed of words that often appear together in documents. Documents, in turn, are modeled as a mixture of topics based on the words they contain. \n",
    "\n",
    "MIRA extends these ideas to single-cell genomics data, where topics are groups of genes that are co-expressed or *cis*-regulatory elements that are co-accessible, and cells are a mixture of these regulatory modules. The topics can be used for enrichment and pathway analysis, while the cells' topic mixtures can be used to embed the cells in an informative, interpretable latent space.\n",
    "\n",
    "## Tuning and training\n",
    "\n",
    "In this tutorial, we will cover tuning and training MIRA topic models to find the best hyperparameters for a given dataset. Single-cell datasets vary widely in terms of quality and complexity, and as such, no set of hyperparameters will ensure an optimal model in all cases. The most important parameter to optimize for a given dataset is the number of topics captured by the model, which represents units of covarying genes or *cis*-regulatory regions. The number of topics determines the quality of the embedding manifold and veracity of the topics' functional enrichments, so we recommend rigourous tuning to provide an accurate and informative analysis. \n",
    "\n",
    "MIRA topic model tuning proceeds in three stages:\n",
    "  \n",
    "1. Bayesian optimization of model hyperparameters on training set of cells\n",
    "2. Model selection on validation set of cells\n",
    "3. Final model training on whole dataset\n",
    "\n",
    "**The first stage may be parallelized to speed up the process, and results from each stage may be visualized and compared using Tensorboard!**\n",
    "\n",
    "Let's start by importing some packages:"
   ]
  },
  {
   "cell_type": "code",
   "execution_count": 1,
   "id": "6a197ccb",
   "metadata": {},
   "outputs": [
    {
     "data": {
      "text/html": [
       "\n",
       "<style>\n",
       "div.output_stderr {\n",
       "    background: #e6e7ed;\n",
       "}\n",
       "</style>\n",
       "    "
      ],
      "text/plain": [
       "<IPython.core.display.HTML object>"
      ]
     },
     "execution_count": 1,
     "metadata": {},
     "output_type": "execute_result"
    }
   ],
   "source": [
    "import mira\n",
    "import anndata\n",
    "import scanpy as sc\n",
    "import optuna\n",
    "mira.utils.pretty_sderr()"
   ]
  },
  {
   "cell_type": "markdown",
   "id": "8672a2f3",
   "metadata": {},
   "source": [
    "And we'll load some data. To make the tutorial quick, I've imported a synthetic single-cell dataset used as part of benchmarking MIRA's abilities in manifold and pseudotime trajectory inference. This synthetic dataset contains 1000 cells measured with both RNA and ATAC-seq mixed from the reads of real single cells from reference experiment."
   ]
  },
  {
   "cell_type": "code",
   "execution_count": 2,
   "id": "70845e88",
   "metadata": {},
   "outputs": [
    {
     "name": "stderr",
     "output_type": "stream",
     "text": [
      "Downloading dataset: 100%|███████████████████████████████████████████████████████████████████████████████████████████████████████████████████████████████████████████████████████████████████████████████████████████████████████████████████████████████████████████████████████████████████████████████████████████████████████| 34426/34426 [00:00<00:00, 34898.38it/s]\n",
      "INFO:mira.datasets.datasets:Dataset contents:\n",
      "\t* mira-datasets/Frankencell_RNA.h5ad\n"
     ]
    }
   ],
   "source": [
    "mira.datasets.FrankenCell_RNA() # fetches dataset from cistrome.org\n",
    "data = anndata.read_h5ad('mira-datasets/Frankencell_RNA.h5ad')"
   ]
  },
  {
   "cell_type": "markdown",
   "id": "7796f4ab",
   "metadata": {},
   "source": [
    "## Expression model preprocessing\n",
    "\n",
    "**All of MIRA's models have the same API for instantiating, tuning, and training, regardless of mode.** This tutorial covers tuning of an expression topic model.\n",
    "\n",
    "MIRA's topic models take raw counts as input, but we must first perform mode specific feature selection. For expression data, this is akin to highly variable gene selection in PCA, and ensures the model is using the best genes to learn topics.\n",
    "\n",
    "To begin, we must first define two genesets:\n",
    "\n",
    "* endogenous: genes which will be used as features for the topic model encoder network, usually ~2000 of the most variable genes\n",
    "* exogenous: genes which will be captured in topics, a superset of the endogenous genes, a less stringent collection of genes which show some variable expression but perhaps not enough to be informative to the encoder network. \n",
    "\n",
    "We can form these genesets using [scanpy](https://scanpy.readthedocs.io/en/stable/tutorials.html) preprocessing functions, as shown below.\n",
    "\n",
    "First, filter very rare genes, and freeze the raw counts:"
   ]
  },
  {
   "cell_type": "code",
   "execution_count": 3,
   "id": "8f413fcb",
   "metadata": {},
   "outputs": [],
   "source": [
    "sc.pp.filter_genes(data, min_cells=15)\n",
    "data.raw = data"
   ]
  },
  {
   "cell_type": "markdown",
   "id": "31a98374",
   "metadata": {},
   "source": [
    "Normalize the read depths of each cell, then logarithmize the data:"
   ]
  },
  {
   "cell_type": "code",
   "execution_count": 4,
   "id": "197da9b7",
   "metadata": {},
   "outputs": [],
   "source": [
    "sc.pp.normalize_total(data, target_sum=1e4)\n",
    "sc.pp.log1p(data)"
   ]
  },
  {
   "cell_type": "markdown",
   "id": "718760d4",
   "metadata": {},
   "source": [
    "Calculate highly variable genes, but with a less stringent dispersion threshold. This set of genes will be our \"exogenous\" genes:"
   ]
  },
  {
   "cell_type": "code",
   "execution_count": 5,
   "id": "722fb7fd",
   "metadata": {},
   "outputs": [],
   "source": [
    "sc.pp.highly_variable_genes(data, min_disp = 0.2)\n",
    "data.var['exog'] = data.var.highly_variable.copy()"
   ]
  },
  {
   "cell_type": "markdown",
   "id": "0dc7f95d",
   "metadata": {},
   "source": [
    "Finally, calculate the \"endogenous\" geneset by intersecting the exogenous set with genes with a higher dispersion threshold:"
   ]
  },
  {
   "cell_type": "code",
   "execution_count": 6,
   "id": "0b4b8a62",
   "metadata": {},
   "outputs": [],
   "source": [
    "data.var['endog'] = data.var.exog & (data.var.dispersions_norm > 0.7)"
   ]
  },
  {
   "cell_type": "markdown",
   "id": "c1e34b81",
   "metadata": {},
   "source": [
    "Restore the raw counts to the `counts` layer."
   ]
  },
  {
   "cell_type": "code",
   "execution_count": 7,
   "id": "e8f0a01e",
   "metadata": {},
   "outputs": [],
   "source": [
    "data.layers['counts'] = data.raw.to_adata().X.copy()"
   ]
  },
  {
   "cell_type": "markdown",
   "id": "e1679e97",
   "metadata": {},
   "source": [
    "## Model setup\n",
    "\n",
    "Next, we will instantiate an expression topic model. The hyperparameters will be tuned in the following stage, so all we have to worry about is telling the topic model how to access the genesets we just defined. "
   ]
  },
  {
   "cell_type": "code",
   "execution_count": 8,
   "id": "39a694df",
   "metadata": {},
   "outputs": [],
   "source": [
    "model = mira.topics.ExpressionTopicModel(\n",
    "    endogenous_key='endog', \n",
    "    exogenous_key='endog', \n",
    "    counts_layer='counts',\n",
    "    seed = 0,\n",
    "    hidden=64, # to make the tutorial faster. In practice, use the default of 128!\n",
    ")"
   ]
  },
  {
   "cell_type": "markdown",
   "id": "c9b1a93e",
   "metadata": {},
   "source": [
    "We must next set the learning rates for model. MIRA uses a training scheme where we must define the upper and lower bounds of the learning rate. `get_learning_rate_bounds` runs an array of learning rates to find the values for which the model is most responsive."
   ]
  },
  {
   "cell_type": "code",
   "execution_count": 9,
   "id": "810715be",
   "metadata": {},
   "outputs": [
    {
     "name": "stderr",
     "output_type": "stream",
     "text": [
      "INFO:mira.adata_interface.topic_model:Predicting expression from genes from col: endog\n",
      "INFO:mira.adata_interface.topic_model:Using highly-variable genes from col: endog\n",
      "WARNING:mira.topic_model.base:Cuda unavailable. Will not use GPU speedup while training.\n",
      "Learning rate range test: 100%|███████████████████████████████████████████████████████████████████████████████████████████████████████████████████████████████████████████████████████████████████████████████████████████████████████████████████████████████████████████████████████████████████████████████████████████████████████████| 88/88 [00:03<00:00, 24.08it/s]\n",
      "INFO:mira.topic_model.base:Set learning rates to: (0.002239301508654534, 0.7206732647016323)\n"
     ]
    },
    {
     "data": {
      "text/plain": [
       "(0.002239301508654534, 0.7206732647016323)"
      ]
     },
     "execution_count": 9,
     "metadata": {},
     "output_type": "execute_result"
    }
   ],
   "source": [
    "model.get_learning_rate_bounds(data, eval_every=1, upper_bound_lr=5)"
   ]
  },
  {
   "cell_type": "markdown",
   "id": "eefeede7",
   "metadata": {},
   "source": [
    "We can then plot the learning rate vs. loss graph using `plot_learning_rate_bounds`. One can see the upper and lower bounds on the learning rate defined by the black and red bars, respectively. Use the `trim_learning_rate_bounds` function to adjust the location of the bars until they tightly bound the part of the curve with the steepest slope.\n",
    "\n",
    "**If you push the upper bound too high, the model is likely to experience gradient overflows. The upper bound works best *at* or *before* the point where the slope starts to level off.**"
   ]
  },
  {
   "cell_type": "code",
   "execution_count": 10,
   "id": "47fda537",
   "metadata": {},
   "outputs": [
    {
     "name": "stderr",
     "output_type": "stream",
     "text": [
      "INFO:mira.topic_model.base:Set learning rates to: (0.021245901172073332, 0.34042194569972284)\n"
     ]
    },
    {
     "data": {
      "image/png": "[encoded data removed]",
      "text/plain": [
       "<Figure size 720x504 with 1 Axes>"
      ]
     },
     "metadata": {
      "needs_background": "light"
     },
     "output_type": "display_data"
    }
   ],
   "source": [
    "model.trim_learning_rate_bounds(2.25, 1.25)\n",
    "_ = model.plot_learning_rate_bounds()"
   ]
  },
  {
   "cell_type": "markdown",
   "id": "0a328ec3",
   "metadata": {},
   "source": [
    "Now, we are ready to tune the model. Instantiate a [TopicModelTuner](../topicmodeling/mira.topics.TopicModelTuner.html) object, and pass the model to optimize. For repeatable results, pass a seed. Finally, give the tuning series a `save_name`. This will the be the name through which one can access and resume the tuning scheme. "
   ]
  },
  {
   "cell_type": "code",
   "execution_count": 11,
   "id": "66ac01dd",
   "metadata": {},
   "outputs": [],
   "source": [
    "tuner = mira.topics.TopicModelTuner(\n",
    "    model,  \n",
    "    save_name = 'tuning-tutorial',\n",
    "    seed = 0, \n",
    "    iters=32, # Recommend 30-64 iterations of tuning.\n",
    "    max_topics = 15 # to speed up convergence! Leave at default of 55 when working with new data.\n",
    ")"
   ]
  },
  {
   "cell_type": "markdown",
   "id": "6f5d488e",
   "metadata": {},
   "source": [
    "Use the tuner to split the data into train and test sets of cells:"
   ]
  },
  {
   "cell_type": "code",
   "execution_count": 12,
   "id": "e8e06c93",
   "metadata": {},
   "outputs": [
    {
     "name": "stderr",
     "output_type": "stream",
     "text": [
      "INFO:mira.adata_interface.topic_model:Added col: test_set\n",
      "INFO:mira.adata_interface.core:Added cols to obs: test_set\n"
     ]
    }
   ],
   "source": [
    "tuner.train_test_split(data)"
   ]
  },
  {
   "cell_type": "markdown",
   "id": "38ae59af",
   "metadata": {},
   "source": [
    "### Side note: tensorboard integration\n",
    "\n",
    "Results from hyperparameter tuning and training can be analyzed using [Tensorboard](https://www.tensorflow.org/tensorboard) during and after execution. Event files are stored in the execution directory under `runs/<save_name>`. `<save_name>` was defined on instantiation of the `TopicModelTuner` object.\n",
    "\n",
    "\n",
    "#### Browser\n",
    "\n",
    "One can either use the browser view via:\n",
    "\n",
    "```\n",
    "$ conda create --name tensorboard -y -c conda-forge tensorboard\n",
    "$ conda activate tensorboard\n",
    "$ tensorboard serve --logdir /path/to/workingdir/runs/<save_name>\n",
    "```\n",
    "\n",
    "#### Notebook widget\n",
    "\n",
    "Or use the notebook widget to concurrently monitor training. Just start the tensorboard server before starting the tuning:\n",
    "\n",
    "```\n",
    "%load_ext tensorboard\n",
    "%tensorboard --logdir runs/<save_name>\n",
    "```\n",
    "\n",
    "Topic model tuning will save scalars from each training run, hyperparameter selections and metrics, as well as embeddings to tensorboard's embedding projector. The board from this project can be viewed at https://tensorboard.dev/experiment/amY1F3a8Q9SdK4QgR0MygA/#hparams."
   ]
  },
  {
   "cell_type": "code",
   "execution_count": 13,
   "id": "65a9c0b3",
   "metadata": {
    "nbsphinx": "hidden"
   },
   "outputs": [
    {
     "data": {
      "text/html": [
       "\n",
       "      <iframe id=\"tensorboard-frame-629f6fbed82c07cd\" width=\"100%\" height=\"800\" frameborder=\"0\">\n",
       "      </iframe>\n",
       "      <script>\n",
       "        (function() {\n",
       "          const frame = document.getElementById(\"tensorboard-frame-629f6fbed82c07cd\");\n",
       "          const url = new URL(\"/\", window.location);\n",
       "          const port = 6007;\n",
       "          if (port) {\n",
       "            url.port = port;\n",
       "          }\n",
       "          frame.src = url;\n",
       "        })();\n",
       "      </script>\n",
       "    "
      ],
      "text/plain": [
       "<IPython.core.display.HTML object>"
      ]
     },
     "metadata": {},
     "output_type": "display_data"
    }
   ],
   "source": [
    "%load_ext tensorboard\n",
    "%tensorboard --logdir runs/tuning-tutorial --port 6007"
   ]
  },
  {
   "cell_type": "markdown",
   "id": "36d9e05c",
   "metadata": {},
   "source": [
    "## Tuning\n",
    "\n",
    "Now, start tuning! Tuning can be parallelized using the `n_workers` parameter, and one node can launch as many processes as memory will allow. When a GPU is available, all models will be mounted to partitions on the same GPU. To connect the same tuning process to multiple GPUs, one may start tuning schemes in separate processes. As long as the `TopicModelTuning` object is instantiated from the same directory with the same `save_name`, the separate processes will share history and work together to optimize the hyperparameters.\n",
    "\n",
    "**In single-core mode, tuning is deterministic** (if nothing changes/no trials drop due to environmental reasons). Multicore mode is also deterministic, barring race conditions. If trials finish out of order due to environmental differences, the tuning will not reproduce *exactly*."
   ]
  },
  {
   "cell_type": "markdown",
   "id": "3d9dbb01",
   "metadata": {
    "nbsphinx": "hidden"
   },
   "source": [
    "**If you're running this in binder, decrease `n_workers` to undershoot memory limit!**"
   ]
  },
  {
   "cell_type": "code",
   "execution_count": 14,
   "id": "9feb5448",
   "metadata": {
    "scrolled": false
   },
   "outputs": [
    {
     "name": "stdout",
     "output_type": "stream",
     "text": [
      "Trials finished: 30 | Best trial: 17 | Best score: 4.7650e-01\n",
      "Press ctrl+C,ctrl+C or esc,I+I,I+I in Jupyter notebook to stop early.\n",
      "\n",
      "#Topics | Trials (number is #folds tested)\n",
      "      5 | 1 1 \n",
      "      6 | 5 3 5 \n",
      "      7 | 5 1 5 1 1 5 \n",
      "      8 | 5 5 5 \n",
      "      9 | 5 5 5 1 \n",
      "     10 | 5 5 5 2 \n",
      "     11 | 4 5 \n",
      "     12 | 5 1 \n",
      "     13 | 5 2 \n",
      "     14 | 5 \n",
      "     15 | 5 \n",
      "\n",
      "Trial Information:\n",
      "Trial #0   | completed, score: 4.7720e-01 | params: {'batch_size': 32, 'beta': 0.9383, 'encoder_dropout': 0.0693, 'kl_strategy': 'cyclic', 'num_epochs': 31, 'num_layers': 3, 'num_topics': 9}\n",
      "Trial #1   | completed, score: 4.8253e-01 | params: {'batch_size': 64, 'beta': 0.9177, 'encoder_dropout': 0.0689, 'kl_strategy': 'monotonic', 'num_epochs': 25, 'num_layers': 3, 'num_topics': 8}\n",
      "Trial #2   | completed, score: 4.7674e-01 | params: {'batch_size': 32, 'beta': 0.9108, 'encoder_dropout': 0.1350, 'kl_strategy': 'monotonic', 'num_epochs': 38, 'num_layers': 2, 'num_topics': 9}\n",
      "Trial #3   | completed, score: 4.7748e-01 | params: {'batch_size': 32, 'beta': 0.9161, 'encoder_dropout': 0.0305, 'kl_strategy': 'cyclic', 'num_epochs': 21, 'num_layers': 2, 'num_topics': 8}\n",
      "Trial #4   | completed, score: 7.7523e-01 | params: {'batch_size': 64, 'beta': 0.9878, 'encoder_dropout': 0.1077, 'kl_strategy': 'cyclic', 'num_epochs': 23, 'num_layers': 3, 'num_topics': 15}\n",
      "Trial #5   | completed, score: 4.9363e-01 | params: {'batch_size': 64, 'beta': 0.9338, 'encoder_dropout': 0.0936, 'kl_strategy': 'cyclic', 'num_epochs': 20, 'num_layers': 3, 'num_topics': 6}\n",
      "Trial #6   | completed, score: 4.8294e-01 | params: {'batch_size': 64, 'beta': 0.9434, 'encoder_dropout': 0.1199, 'kl_strategy': 'monotonic', 'num_epochs': 36, 'num_layers': 2, 'num_topics': 9}\n",
      "Trial #7   | pruned at step: 4            | params: {'batch_size': 64, 'beta': 0.9492, 'encoder_dropout': 0.1039, 'kl_strategy': 'cyclic', 'num_epochs': 26, 'num_layers': 3, 'num_topics': 11}\n",
      "Trial #8   | pruned at step: 1            | params: {'batch_size': 64, 'beta': 0.9743, 'encoder_dropout': 0.0222, 'kl_strategy': 'cyclic', 'num_epochs': 20, 'num_layers': 2, 'num_topics': 9}\n",
      "Trial #9   | pruned at step: 1            | params: {'batch_size': 128, 'beta': 0.9655, 'encoder_dropout': 0.0636, 'kl_strategy': 'cyclic', 'num_epochs': 31, 'num_layers': 3, 'num_topics': 5}\n",
      "Trial #10  | completed, score: 4.7699e-01 | params: {'batch_size': 32, 'beta': 0.9266, 'encoder_dropout': 0.0307, 'kl_strategy': 'cyclic', 'num_epochs': 31, 'num_layers': 2, 'num_topics': 7}\n",
      "Trial #11  | completed, score: 4.7725e-01 | params: {'batch_size': 32, 'beta': 0.9001, 'encoder_dropout': 0.1466, 'kl_strategy': 'monotonic', 'num_epochs': 39, 'num_layers': 2, 'num_topics': 12}\n",
      "Trial #12  | completed, score: 4.7700e-01 | params: {'batch_size': 32, 'beta': 0.9014, 'encoder_dropout': 0.1454, 'kl_strategy': 'monotonic', 'num_epochs': 34, 'num_layers': 2, 'num_topics': 11}\n",
      "Trial #13  | completed, score: 4.7756e-01 | params: {'batch_size': 32, 'beta': 0.9551, 'encoder_dropout': 0.0529, 'kl_strategy': 'monotonic', 'num_epochs': 40, 'num_layers': 3, 'num_topics': 10}\n",
      "Trial #14  | pruned at step: 1            | params: {'batch_size': 128, 'beta': 0.9354, 'encoder_dropout': 0.0850, 'kl_strategy': 'monotonic', 'num_epochs': 30, 'num_layers': 3, 'num_topics': 7}\n",
      "Trial #15  | completed, score: 4.7751e-01 | params: {'batch_size': 32, 'beta': 0.9138, 'encoder_dropout': 0.1212, 'kl_strategy': 'monotonic', 'num_epochs': 35, 'num_layers': 2, 'num_topics': 14}\n",
      "Trial #16  | pruned at step: 3            | params: {'batch_size': 32, 'beta': 0.9248, 'encoder_dropout': 0.0351, 'kl_strategy': 'cyclic', 'num_epochs': 28, 'num_layers': 2, 'num_topics': 6}\n",
      "Trial #17  | completed, score: 4.7650e-01 | params: {'batch_size': 32, 'beta': 0.9261, 'encoder_dropout': 0.0127, 'kl_strategy': 'monotonic', 'num_epochs': 33, 'num_layers': 2, 'num_topics': 7}\n",
      "Trial #18  | pruned at step: 1            | params: {'batch_size': 128, 'beta': 0.9085, 'encoder_dropout': 0.0424, 'kl_strategy': 'cyclic', 'num_epochs': 37, 'num_layers': 2, 'num_topics': 5}\n",
      "Trial #19  | pruned at step: 1            | params: {'batch_size': 32, 'beta': 0.9258, 'encoder_dropout': 0.1314, 'kl_strategy': 'monotonic', 'num_epochs': 29, 'num_layers': 2, 'num_topics': 7}\n",
      "Trial #20  | pruned at step: 1            | params: {'batch_size': 32, 'beta': 0.9051, 'encoder_dropout': 0.1499, 'kl_strategy': 'monotonic', 'num_epochs': 33, 'num_layers': 2, 'num_topics': 12}\n",
      "Trial #21  | completed, score: 4.7705e-01 | params: {'batch_size': 32, 'beta': 0.9013, 'encoder_dropout': 0.1342, 'kl_strategy': 'monotonic', 'num_epochs': 34, 'num_layers': 2, 'num_topics': 10}\n",
      "Trial #22  | completed, score: 4.7699e-01 | params: {'batch_size': 32, 'beta': 0.9126, 'encoder_dropout': 0.1345, 'kl_strategy': 'monotonic', 'num_epochs': 39, 'num_layers': 2, 'num_topics': 6}\n",
      "Trial #23  | completed, score: 4.7674e-01 | params: {'batch_size': 32, 'beta': 0.9185, 'encoder_dropout': 0.1007, 'kl_strategy': 'monotonic', 'num_epochs': 37, 'num_layers': 2, 'num_topics': 13}\n",
      "Trial #24  | completed, score: 4.7659e-01 | params: {'batch_size': 32, 'beta': 0.9100, 'encoder_dropout': 0.1181, 'kl_strategy': 'monotonic', 'num_epochs': 32, 'num_layers': 2, 'num_topics': 10}\n",
      "Trial #25  | pruned at step: 1            | params: {'batch_size': 128, 'beta': 0.9304, 'encoder_dropout': 0.0121, 'kl_strategy': 'monotonic', 'num_epochs': 27, 'num_layers': 2, 'num_topics': 7}\n",
      "Trial #26  | completed, score: 4.7668e-01 | params: {'batch_size': 32, 'beta': 0.9243, 'encoder_dropout': 0.0201, 'kl_strategy': 'cyclic', 'num_epochs': 32, 'num_layers': 2, 'num_topics': 7}\n",
      "Trial #27  | completed, score: 4.7675e-01 | params: {'batch_size': 32, 'beta': 0.9219, 'encoder_dropout': 0.0101, 'kl_strategy': 'monotonic', 'num_epochs': 37, 'num_layers': 2, 'num_topics': 8}\n",
      "Trial #28  | pruned at step: 2            | params: {'batch_size': 32, 'beta': 0.9098, 'encoder_dropout': 0.1158, 'kl_strategy': 'monotonic', 'num_epochs': 33, 'num_layers': 2, 'num_topics': 10}\n",
      "Trial #29  | pruned at step: 2            | params: {'batch_size': 32, 'beta': 0.9403, 'encoder_dropout': 0.0813, 'kl_strategy': 'monotonic', 'num_epochs': 35, 'num_layers': 2, 'num_topics': 13}\n",
      "\n",
      "\n"
     ]
    },
    {
     "data": {
      "text/plain": [
       "<optuna.study.study.Study at 0x7f882c590df0>"
      ]
     },
     "execution_count": 14,
     "metadata": {},
     "output_type": "execute_result"
    }
   ],
   "source": [
    "tuner.tune(data, n_workers=5)"
   ]
  },
  {
   "cell_type": "markdown",
   "id": "1743d4af",
   "metadata": {},
   "source": [
    "When the tuning is done, it will print out a dashboard that shows the sampling of the parameter space. The dashboard shows the distribution of topic numbers attempted. Tuning has completed when the tuning model appears to have converged on some number of topics that works well for your data.\n",
    "\n",
    "Now we can move to stage 2 of the tuning scheme: *model selection*. The `select_best_model` command takes the top 5 models from the tuning stage and retrains them on the whole training set. Then, it assesses the model performance on the validation of cells. The best-performing model is retrained on the whole dataset.\n",
    "\n",
    "**If you set `record_umaps` to `True`, MIRA will save embeddings from each tested model to tensorboard, which can be used in the \"Embedding Projector\" mode.**"
   ]
  },
  {
   "cell_type": "code",
   "execution_count": 15,
   "id": "ad9959ae",
   "metadata": {
    "scrolled": false
   },
   "outputs": [
    {
     "name": "stderr",
     "output_type": "stream",
     "text": [
      "INFO:mira.topic_model.trainer:Training model with parameters: {'batch_size': 32, 'beta': 0.9261, 'encoder_dropout': 0.0127, 'kl_strategy': 'monotonic', 'num_epochs': 33, 'num_layers': 2, 'num_topics': 7}\n",
      "Epoch 34 done. Recent losses: 4.733e-01 --> 4.725e-01 --> 4.740e-01 --> 4.745e-01 --> 4.715e-01: 100%|████████████████████████████████████████████████████████████████████████████████████████████████████████████████████████████████████████████████████████████████████████████████████████████████████████████████████████████████████| 33/33 [00:20<00:00,  1.57it/s]\n",
      "INFO:mira.topic_model.trainer:Score: 4.67574e-01\n",
      "Predicting latent vars: 100%|█████████████████████████████████████████████████████████████████████████████████████████████████████████████████████████████████████████████████████████████████████████████████████████████████████████████████████████████████████████████████████████████████████████████████████████████████████████████| 32/32 [00:00<00:00, 43.25it/s]\n",
      "INFO:mira.topic_model.trainer:Training model with parameters: {'batch_size': 32, 'beta': 0.9100, 'encoder_dropout': 0.1181, 'kl_strategy': 'monotonic', 'num_epochs': 32, 'num_layers': 2, 'num_topics': 10}\n",
      "Epoch 33 done. Recent losses: 4.721e-01 --> 4.736e-01 --> 4.745e-01 --> 4.735e-01 --> 4.735e-01: 100%|████████████████████████████████████████████████████████████████████████████████████████████████████████████████████████████████████████████████████████████████████████████████████████████████████████████████████████████████████| 32/32 [00:19<00:00,  1.62it/s]\n",
      "INFO:mira.topic_model.trainer:Score: 4.67586e-01\n",
      "Predicting latent vars: 100%|████████████████████████████████████████████████████████████████████████████████████████████████████████████████████████████████████████████████████████████████████████████████████████████████████████████████████████████████████████████████████████████████████████████████████████████████████████████| 32/32 [00:00<00:00, 115.70it/s]\n",
      "INFO:mira.topic_model.trainer:Training model with parameters: {'batch_size': 32, 'beta': 0.9243, 'encoder_dropout': 0.0201, 'kl_strategy': 'cyclic', 'num_epochs': 32, 'num_layers': 2, 'num_topics': 7}\n",
      "Epoch 33 done. Recent losses: 4.730e-01 --> 4.737e-01 --> 4.738e-01 --> 4.740e-01 --> 4.724e-01: 100%|████████████████████████████████████████████████████████████████████████████████████████████████████████████████████████████████████████████████████████████████████████████████████████████████████████████████████████████████████| 32/32 [00:19<00:00,  1.60it/s]\n",
      "INFO:mira.topic_model.trainer:Score: 4.67418e-01\n",
      "Predicting latent vars: 100%|█████████████████████████████████████████████████████████████████████████████████████████████████████████████████████████████████████████████████████████████████████████████████████████████████████████████████████████████████████████████████████████████████████████████████████████████████████████████| 32/32 [00:00<00:00, 94.62it/s]\n",
      "INFO:mira.topic_model.trainer:Training model with parameters: {'batch_size': 32, 'beta': 0.9185, 'encoder_dropout': 0.1007, 'kl_strategy': 'monotonic', 'num_epochs': 37, 'num_layers': 2, 'num_topics': 13}\n",
      "Epoch 38 done. Recent losses: 4.721e-01 --> 4.705e-01 --> 4.688e-01 --> 4.705e-01 --> 4.695e-01: 100%|████████████████████████████████████████████████████████████████████████████████████████████████████████████████████████████████████████████████████████████████████████████████████████████████████████████████████████████████████| 37/37 [00:25<00:00,  1.45it/s]\n",
      "INFO:mira.topic_model.trainer:Score: 4.67542e-01\n",
      "Predicting latent vars: 100%|████████████████████████████████████████████████████████████████████████████████████████████████████████████████████████████████████████████████████████████████████████████████████████████████████████████████████████████████████████████████████████████████████████████████████████████████████████████| 32/32 [00:00<00:00, 102.81it/s]\n",
      "INFO:mira.topic_model.trainer:Training model with parameters: {'batch_size': 32, 'beta': 0.9108, 'encoder_dropout': 0.1350, 'kl_strategy': 'monotonic', 'num_epochs': 38, 'num_layers': 2, 'num_topics': 9}\n",
      "Epoch 39 done. Recent losses: 4.732e-01 --> 4.735e-01 --> 4.746e-01 --> 4.729e-01 --> 4.726e-01: 100%|████████████████████████████████████████████████████████████████████████████████████████████████████████████████████████████████████████████████████████████████████████████████████████████████████████████████████████████████████| 38/38 [00:25<00:00,  1.49it/s]\n",
      "INFO:mira.topic_model.trainer:Score: 4.67880e-01\n",
      "Predicting latent vars: 100%|█████████████████████████████████████████████████████████████████████████████████████████████████████████████████████████████████████████████████████████████████████████████████████████████████████████████████████████████████████████████████████████████████████████████████████████████████████████████| 32/32 [00:00<00:00, 88.80it/s]\n",
      "INFO:mira.topic_model.trainer:Set parameters to best combination: {'batch_size': 32, 'beta': 0.9243, 'encoder_dropout': 0.0201, 'kl_strategy': 'cyclic', 'num_epochs': 32, 'num_layers': 2, 'num_topics': 7}\n",
      "INFO:mira.topic_model.trainer:Training model with all data.\n",
      "INFO:mira.adata_interface.topic_model:Predicting expression from genes from col: endog\n",
      "INFO:mira.adata_interface.topic_model:Using highly-variable genes from col: endog\n",
      "WARNING:mira.topic_model.base:Cuda unavailable. Will not use GPU speedup while training.\n",
      "Epoch 33 done. Recent losses: 4.741e-01 --> 4.749e-01 --> 4.726e-01 --> 4.751e-01 --> 4.731e-01: 100%|████████████████████████████████████████████████████████████████████████████████████████████████████████████████████████████████████████████████████████████████████████████████████████████████████████████████████████████████████| 32/32 [00:26<00:00,  1.23it/s]\n",
      "INFO:mira.topic_model.base:Moving model to device: cpu\n"
     ]
    },
    {
     "data": {
      "text/plain": [
       "ExpressionTopicModel(\n",
       "  (decoder): Decoder(\n",
       "    (beta): Linear(in_features=7, out_features=2158, bias=False)\n",
       "    (bn): BatchNorm1d(2158, eps=1e-05, momentum=0.1, affine=True, track_running_stats=True)\n",
       "    (drop): Dropout(p=0.2, inplace=False)\n",
       "  )\n",
       "  (encoder): ExpressionEncoder(\n",
       "    (fc_layers): Sequential(\n",
       "      (0): Sequential(\n",
       "        (0): Linear(in_features=2159, out_features=64, bias=True)\n",
       "        (1): BatchNorm1d(64, eps=1e-05, momentum=0.1, affine=True, track_running_stats=True)\n",
       "        (2): ReLU()\n",
       "        (3): Dropout(p=0.020071057870755568, inplace=False)\n",
       "      )\n",
       "      (1): Sequential(\n",
       "        (0): Linear(in_features=64, out_features=16, bias=True)\n",
       "        (1): BatchNorm1d(16, eps=1e-05, momentum=0.1, affine=True, track_running_stats=True)\n",
       "      )\n",
       "    )\n",
       "  )\n",
       ")"
      ]
     },
     "execution_count": 15,
     "metadata": {},
     "output_type": "execute_result"
    }
   ],
   "source": [
    "tuner.select_best_model(data, record_umaps=True)"
   ]
  },
  {
   "cell_type": "markdown",
   "id": "94f7befb",
   "metadata": {},
   "source": [
    "## Saving models\n",
    "\n",
    "We have a tuned and trained topic model. Let's save it:"
   ]
  },
  {
   "cell_type": "code",
   "execution_count": 16,
   "id": "28565696",
   "metadata": {},
   "outputs": [],
   "source": [
    "!mkdir -p data\n",
    "model.save('data/rna_topic_model.pth')"
   ]
  },
  {
   "cell_type": "markdown",
   "id": "f8eb7580",
   "metadata": {},
   "source": [
    "The model can be used for embedding cells in a low dimensional space and module analysis. We will discuss dimensionality reduction more in the next tutorial on **Making the Joint Representation**, but below I show the embedding of the synthetic cells finds some interesting structure:"
   ]
  },
  {
   "cell_type": "code",
   "execution_count": 17,
   "id": "abeabb74",
   "metadata": {},
   "outputs": [
    {
     "name": "stderr",
     "output_type": "stream",
     "text": [
      "Predicting latent vars: 100%|█████████████████████████████████████████████████████████████████████████████████████████████████████████████████████████████████████████████████████████████████████████████████████████████████████████████████████████████████████████████████████████████████████████████████████████████████████████████| 32/32 [00:00<00:00, 96.54it/s]\n",
      "INFO:mira.adata_interface.core:Added key to obsm: X_topic_compositions\n",
      "INFO:mira.adata_interface.topic_model:Added cols: topic_0, topic_1, topic_2, topic_3, topic_4, topic_5, topic_6\n",
      "INFO:mira.adata_interface.core:Added key to varm: topic_feature_compositions\n",
      "INFO:mira.adata_interface.core:Added key to varm: topic_feature_activations\n",
      "INFO:mira.adata_interface.topic_model:Added key to uns: topic_dendogram\n",
      "INFO:mira.adata_interface.topic_model:Fetching key X_topic_compositions from obsm\n",
      "INFO:mira.adata_interface.core:Added key to obsm: X_umap_features\n",
      "OMP: Info #270: omp_set_nested routine deprecated, please use omp_set_max_active_levels instead.\n"
     ]
    },
    {
     "data": {
      "image/png": "[encoded data removed]",
      "text/plain": [
       "<Figure size 432x288 with 1 Axes>"
      ]
     },
     "metadata": {},
     "output_type": "display_data"
    }
   ],
   "source": [
    "model.predict(data)\n",
    "model.get_umap_features(data, box_cox=0.33)\n",
    "sc.pp.neighbors(data, use_rep = 'X_umap_features', metric = 'manhattan')\n",
    "sc.tl.umap(data, min_dist=0.1, negative_sample_rate=0.05)\n",
    "\n",
    "sc.pl.umap(data, frameon=False, size = 1200, alpha = 0.2, add_outline=True,\n",
    "          outline_width=(0.1,0))"
   ]
  },
  {
   "cell_type": "markdown",
   "id": "ce33fff1",
   "metadata": {},
   "source": [
    "## Accessibility model preprocessing"
   ]
  },
  {
   "cell_type": "markdown",
   "id": "0879afaa",
   "metadata": {},
   "source": [
    "Unlike expression data, we do not prescribe a count processing method for accessibility data. The API for accessibility models is identical to expression topic models, so one may label some accessibility features (peaks) with endogenous or exogenous labels. \n",
    "\n",
    "In practice, we found that simply using all called peaks for both the endogenous and exogenous features produced good results. If one wishes to reduce model size, one may pursue alternate strategies for finding \"highly variable\" peaks to use as endogenous features.\n",
    "\n",
    "To instantiate an accessibility topic model, use:"
   ]
  },
  {
   "cell_type": "code",
   "execution_count": 18,
   "id": "32a8c46c",
   "metadata": {},
   "outputs": [],
   "source": [
    "atac_model = mira.topics.AccessibilityTopicModel(counts_layer='counts', \n",
    "                                                 dataset_loader_workers = 3)"
   ]
  },
  {
   "cell_type": "markdown",
   "id": "78e6bae2",
   "metadata": {},
   "source": [
    "The one notable difference between the accessibility topic model and expression topic model is the addition of the `dataset_loader_workers` parameter. Loading and transforming streamed batch data for the accessibility model can be compute intensive, so allocating background cores through this parameter can speed up training. *This parameter cannot be set when performing parallelized training*.\n",
    "\n",
    "From here, everything is **exactly** the same for tuning and training as it was with the expression model. The accessibility topic model has far more features and therefor far more parameters than the expression model. **It is highly recommended to train the accessibility model on a GPU.**"
   ]
  },
  {
   "cell_type": "markdown",
   "id": "86d863f2",
   "metadata": {},
   "source": [
    "## Tuning persistence and analysis\n",
    "\n",
    "Tuning results/trials/parameters are saved to a SQLite database in the working directory called \"mira-tuning.db\" (which can be changed through the `storage` parameter of the tuning object). Specific optimization runs are saved to their own tables, named by the `save_name` parameter. \n",
    "\n",
    "Thus, to resume tuning after an interuption, one must simply instantiate a tuning object with the same `storage` and `save_name` parameters as the previous process. The new object will reference the saved results and pick up where the last process left off.\n",
    "\n",
    "To access the underlying [optuna study](https://optuna.readthedocs.io/en/stable/reference/study.html) directly:"
   ]
  },
  {
   "cell_type": "code",
   "execution_count": 19,
   "id": "4603b08f",
   "metadata": {},
   "outputs": [],
   "source": [
    "study = mira.topics.TopicModelTuner.load_study('tuning-tutorial')"
   ]
  },
  {
   "cell_type": "markdown",
   "id": "75348ced",
   "metadata": {},
   "source": [
    "You could then print the dashboard summary by:"
   ]
  },
  {
   "cell_type": "code",
   "execution_count": 20,
   "id": "63d8b3fb",
   "metadata": {},
   "outputs": [
    {
     "name": "stdout",
     "output_type": "stream",
     "text": [
      "Trials finished: 30 | Best trial: 17 | Best score: 4.7650e-01\n",
      "Press ctrl+C,ctrl+C or esc,I+I,I+I in Jupyter notebook to stop early.\n",
      "\n",
      "#Topics | Trials (number is #folds tested)\n",
      "      5 | 1 1 \n",
      "      6 | 5 3 5 \n",
      "      7 | 5 1 5 1 1 5 \n",
      "      8 | 5 5 5 \n",
      "      9 | 5 5 5 1 \n",
      "     10 | 5 5 5 2 \n",
      "     11 | 4 5 \n",
      "     12 | 5 1 \n",
      "     13 | 5 2 \n",
      "     14 | 5 \n",
      "     15 | 5 \n",
      "\n",
      "Trial Information:\n",
      "Trial #0   | completed, score: 4.7720e-01 | params: {'batch_size': 32, 'beta': 0.9383, 'encoder_dropout': 0.0693, 'kl_strategy': 'cyclic', 'num_epochs': 31, 'num_layers': 3, 'num_topics': 9}\n",
      "Trial #1   | completed, score: 4.8253e-01 | params: {'batch_size': 64, 'beta': 0.9177, 'encoder_dropout': 0.0689, 'kl_strategy': 'monotonic', 'num_epochs': 25, 'num_layers': 3, 'num_topics': 8}\n",
      "Trial #2   | completed, score: 4.7674e-01 | params: {'batch_size': 32, 'beta': 0.9108, 'encoder_dropout': 0.1350, 'kl_strategy': 'monotonic', 'num_epochs': 38, 'num_layers': 2, 'num_topics': 9}\n",
      "Trial #3   | completed, score: 4.7748e-01 | params: {'batch_size': 32, 'beta': 0.9161, 'encoder_dropout': 0.0305, 'kl_strategy': 'cyclic', 'num_epochs': 21, 'num_layers': 2, 'num_topics': 8}\n",
      "Trial #4   | completed, score: 7.7523e-01 | params: {'batch_size': 64, 'beta': 0.9878, 'encoder_dropout': 0.1077, 'kl_strategy': 'cyclic', 'num_epochs': 23, 'num_layers': 3, 'num_topics': 15}\n",
      "Trial #5   | completed, score: 4.9363e-01 | params: {'batch_size': 64, 'beta': 0.9338, 'encoder_dropout': 0.0936, 'kl_strategy': 'cyclic', 'num_epochs': 20, 'num_layers': 3, 'num_topics': 6}\n",
      "Trial #6   | completed, score: 4.8294e-01 | params: {'batch_size': 64, 'beta': 0.9434, 'encoder_dropout': 0.1199, 'kl_strategy': 'monotonic', 'num_epochs': 36, 'num_layers': 2, 'num_topics': 9}\n",
      "Trial #7   | pruned at step: 4            | params: {'batch_size': 64, 'beta': 0.9492, 'encoder_dropout': 0.1039, 'kl_strategy': 'cyclic', 'num_epochs': 26, 'num_layers': 3, 'num_topics': 11}\n",
      "Trial #8   | pruned at step: 1            | params: {'batch_size': 64, 'beta': 0.9743, 'encoder_dropout': 0.0222, 'kl_strategy': 'cyclic', 'num_epochs': 20, 'num_layers': 2, 'num_topics': 9}\n",
      "Trial #9   | pruned at step: 1            | params: {'batch_size': 128, 'beta': 0.9655, 'encoder_dropout': 0.0636, 'kl_strategy': 'cyclic', 'num_epochs': 31, 'num_layers': 3, 'num_topics': 5}\n",
      "Trial #10  | completed, score: 4.7699e-01 | params: {'batch_size': 32, 'beta': 0.9266, 'encoder_dropout': 0.0307, 'kl_strategy': 'cyclic', 'num_epochs': 31, 'num_layers': 2, 'num_topics': 7}\n",
      "Trial #11  | completed, score: 4.7725e-01 | params: {'batch_size': 32, 'beta': 0.9001, 'encoder_dropout': 0.1466, 'kl_strategy': 'monotonic', 'num_epochs': 39, 'num_layers': 2, 'num_topics': 12}\n",
      "Trial #12  | completed, score: 4.7700e-01 | params: {'batch_size': 32, 'beta': 0.9014, 'encoder_dropout': 0.1454, 'kl_strategy': 'monotonic', 'num_epochs': 34, 'num_layers': 2, 'num_topics': 11}\n",
      "Trial #13  | completed, score: 4.7756e-01 | params: {'batch_size': 32, 'beta': 0.9551, 'encoder_dropout': 0.0529, 'kl_strategy': 'monotonic', 'num_epochs': 40, 'num_layers': 3, 'num_topics': 10}\n",
      "Trial #14  | pruned at step: 1            | params: {'batch_size': 128, 'beta': 0.9354, 'encoder_dropout': 0.0850, 'kl_strategy': 'monotonic', 'num_epochs': 30, 'num_layers': 3, 'num_topics': 7}\n",
      "Trial #15  | completed, score: 4.7751e-01 | params: {'batch_size': 32, 'beta': 0.9138, 'encoder_dropout': 0.1212, 'kl_strategy': 'monotonic', 'num_epochs': 35, 'num_layers': 2, 'num_topics': 14}\n",
      "Trial #16  | pruned at step: 3            | params: {'batch_size': 32, 'beta': 0.9248, 'encoder_dropout': 0.0351, 'kl_strategy': 'cyclic', 'num_epochs': 28, 'num_layers': 2, 'num_topics': 6}\n",
      "Trial #17  | completed, score: 4.7650e-01 | params: {'batch_size': 32, 'beta': 0.9261, 'encoder_dropout': 0.0127, 'kl_strategy': 'monotonic', 'num_epochs': 33, 'num_layers': 2, 'num_topics': 7}\n",
      "Trial #18  | pruned at step: 1            | params: {'batch_size': 128, 'beta': 0.9085, 'encoder_dropout': 0.0424, 'kl_strategy': 'cyclic', 'num_epochs': 37, 'num_layers': 2, 'num_topics': 5}\n",
      "Trial #19  | pruned at step: 1            | params: {'batch_size': 32, 'beta': 0.9258, 'encoder_dropout': 0.1314, 'kl_strategy': 'monotonic', 'num_epochs': 29, 'num_layers': 2, 'num_topics': 7}\n",
      "Trial #20  | pruned at step: 1            | params: {'batch_size': 32, 'beta': 0.9051, 'encoder_dropout': 0.1499, 'kl_strategy': 'monotonic', 'num_epochs': 33, 'num_layers': 2, 'num_topics': 12}\n",
      "Trial #21  | completed, score: 4.7705e-01 | params: {'batch_size': 32, 'beta': 0.9013, 'encoder_dropout': 0.1342, 'kl_strategy': 'monotonic', 'num_epochs': 34, 'num_layers': 2, 'num_topics': 10}\n",
      "Trial #22  | completed, score: 4.7699e-01 | params: {'batch_size': 32, 'beta': 0.9126, 'encoder_dropout': 0.1345, 'kl_strategy': 'monotonic', 'num_epochs': 39, 'num_layers': 2, 'num_topics': 6}\n",
      "Trial #23  | completed, score: 4.7674e-01 | params: {'batch_size': 32, 'beta': 0.9185, 'encoder_dropout': 0.1007, 'kl_strategy': 'monotonic', 'num_epochs': 37, 'num_layers': 2, 'num_topics': 13}\n",
      "Trial #24  | completed, score: 4.7659e-01 | params: {'batch_size': 32, 'beta': 0.9100, 'encoder_dropout': 0.1181, 'kl_strategy': 'monotonic', 'num_epochs': 32, 'num_layers': 2, 'num_topics': 10}\n",
      "Trial #25  | pruned at step: 1            | params: {'batch_size': 128, 'beta': 0.9304, 'encoder_dropout': 0.0121, 'kl_strategy': 'monotonic', 'num_epochs': 27, 'num_layers': 2, 'num_topics': 7}\n",
      "Trial #26  | completed, score: 4.7668e-01 | params: {'batch_size': 32, 'beta': 0.9243, 'encoder_dropout': 0.0201, 'kl_strategy': 'cyclic', 'num_epochs': 32, 'num_layers': 2, 'num_topics': 7}\n",
      "Trial #27  | completed, score: 4.7675e-01 | params: {'batch_size': 32, 'beta': 0.9219, 'encoder_dropout': 0.0101, 'kl_strategy': 'monotonic', 'num_epochs': 37, 'num_layers': 2, 'num_topics': 8}\n",
      "Trial #28  | pruned at step: 2            | params: {'batch_size': 32, 'beta': 0.9098, 'encoder_dropout': 0.1158, 'kl_strategy': 'monotonic', 'num_epochs': 33, 'num_layers': 2, 'num_topics': 10}\n",
      "Trial #29  | pruned at step: 2            | params: {'batch_size': 32, 'beta': 0.9403, 'encoder_dropout': 0.0813, 'kl_strategy': 'monotonic', 'num_epochs': 35, 'num_layers': 2, 'num_topics': 13}\n",
      "\n",
      "\n",
      "\u001b[2K\r"
     ]
    }
   ],
   "source": [
    "mira.topics.print_study(study)"
   ]
  },
  {
   "cell_type": "markdown",
   "id": "a2a28189",
   "metadata": {},
   "source": [
    "Optuna offers some informative visualizations of the tuning process. You can ensure that the tuning process converged on a superior model over time using:\n",
    "\n",
    "```\n",
    "optuna.visualization.plot_optimization_history(study)\n",
    "```\n",
    "\n",
    "Or check the best combinations of parameters using:\n",
    "\n",
    "```\n",
    "optuna.visualization.plot_parallel_coordinate(study)\n",
    "```"
   ]
  },
  {
   "cell_type": "markdown",
   "id": "7fa3f25f",
   "metadata": {},
   "source": [
    "### Next\n",
    "\n",
    "Please proceed to the next tutorial, which demonstrates how to stitch together a joint representation of cells measured using multiomics and two trained topic models."
   ]
  }
 ],
 "metadata": {
  "celltoolbar": "Edit Metadata",
  "kernelspec": {
   "display_name": "mirainstall-fresh4",
   "language": "python",
   "name": "mirainstall-fresh4"
  },
  "language_info": {
   "codemirror_mode": {
    "name": "ipython",
    "version": 3
   },
   "file_extension": ".py",
   "mimetype": "text/x-python",
   "name": "python",
   "nbconvert_exporter": "python",
   "pygments_lexer": "ipython3",
   "version": "3.9.5"
  }
 },
 "nbformat": 4,
 "nbformat_minor": 5
}
