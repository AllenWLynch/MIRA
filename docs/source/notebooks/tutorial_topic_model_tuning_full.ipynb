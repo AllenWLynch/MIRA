{
 "cells": [
  {
   "cell_type": "markdown",
   "id": "93a50b5a",
   "metadata": {},
   "source": [
    "# Topic Modeling\n",
    "\n",
    "<a href=\"https://mybinder.org/v2/gh/AllenWLynch/MIRA/HEAD?labpath=docs%2Fsource%2Fnotebooks%2Ftutorial_topic_model_tuning_full.ipynb\">\n",
    "    <img src=\"https://mybinder.org/badge_logo.svg\" style=\"float:left; margin-top:20px\">\n",
    "</a>\n",
    "<br><br>\n",
    "\n",
    "\n",
    "## What is a topic model?\n",
    "\n",
    "Topic models, like [LDA](https://www.jmlr.org/papers/volume3/blei03a/blei03a.pdf), have traditionally been used to decompose a corpus of text into topics - or themes - composed of words that often appear together in documents. Documents, in turn, are modeled as a mixture of topics based on the words they contain. \n",
    "\n",
    "MIRA extends these ideas to single-cell genomics data, where topics are groups of genes that are co-expressed or *cis*-regulatory elements that are co-accessible, and cells are a mixture of these regulatory modules. The topics can be used for enrichment and pathway analysis, while the cells' topic mixtures can be used to embed the cells in an informative, interpretable latent space.\n",
    "\n",
    "## Tuning and training\n",
    "\n",
    "In this tutorial, we will cover tuning and training MIRA topic models to find the best hyperparameters for a given dataset. Single-cell datasets vary widely in terms of quality and complexity, and as such, no set of hyperparameters will ensure an optimal model in all cases. The most important parameter to optimize for a given dataset is the number of topics captured by the model, which represents units of covarying genes or *cis*-regulatory regions. The number of topics determines the quality of the embedding manifold and veracity of the topics' functional enrichments, so we recommend rigourous tuning to provide an accurate and informative analysis. \n",
    "\n",
    "MIRA topic model tuning proceeds in three stages:\n",
    "  \n",
    "1. Bayesian optimization of model hyperparameters on training set of cells\n",
    "2. Model selection on validation set of cells\n",
    "3. Final model training on whole dataset\n",
    "\n",
    "**The first stage may be parallelized to speed up the process, and results from each stage may be visualized and compared using Tensorboard!**\n",
    "\n",
    "Let's start by importing some packages:"
   ]
  },
  {
   "cell_type": "code",
   "execution_count": 1,
   "id": "6a197ccb",
   "metadata": {},
   "outputs": [
    {
     "data": {
      "text/html": [
       "\n",
       "<style>\n",
       "div.output_stderr {\n",
       "    background: #e6e7ed;\n",
       "}\n",
       "</style>\n",
       "    "
      ],
      "text/plain": [
       "<IPython.core.display.HTML object>"
      ]
     },
     "execution_count": 1,
     "metadata": {},
     "output_type": "execute_result"
    }
   ],
   "source": [
    "import mira\n",
    "import anndata\n",
    "import scanpy as sc\n",
    "mira.utils.pretty_sderr()"
   ]
  },
  {
   "cell_type": "markdown",
   "id": "8672a2f3",
   "metadata": {},
   "source": [
    "And we'll load some data. To make the tutorial quick, I've imported a synthetic single-cell dataset used as part of benchmarking MIRA's abilities in manifold and pseudotime trajectory inference. This synthetic dataset contains 1000 cells measured with both RNA and ATAC-seq mixed from the reads of real single cells from reference experiment."
   ]
  },
  {
   "cell_type": "code",
   "execution_count": 2,
   "id": "70845e88",
   "metadata": {},
   "outputs": [
    {
     "name": "stderr",
     "output_type": "stream",
     "text": [
      "INFO:mira.datasets.datasets:Dataset already on disk.\n",
      "INFO:mira.datasets.datasets:Dataset contents:\n",
      "\t* mira-datasets/Frankencell_RNA.h5ad\n"
     ]
    }
   ],
   "source": [
    "mira.datasets.FrankenCell_RNA() # fetches dataset from cistrome.org\n",
    "data = anndata.read_h5ad('mira-datasets/Frankencell_RNA.h5ad')"
   ]
  },
  {
   "cell_type": "markdown",
   "id": "7796f4ab",
   "metadata": {},
   "source": [
    "## Expression model preprocessing\n",
    "\n",
    "**All of MIRA's models have the same API for instantiating, tuning, and training, regardless of mode.** This tutorial covers tuning of an expression topic model.\n",
    "\n",
    "MIRA's topic models take raw counts as input, but we must first perform mode specific feature selection. For expression data, this is akin to highly variable gene selection in PCA, and ensures the model is using the best genes to learn topics.\n",
    "\n",
    "To begin, we must first define two genesets:\n",
    "\n",
    "* endogenous: genes which will be used as features for the topic model encoder network, usually ~2000 of the most variable genes\n",
    "* exogenous: genes which will be captured in topics, a superset of the endogenous genes, a less stringent collection of genes which show some variable expression but perhaps not enough to be informative to the encoder network. \n",
    "\n",
    "We can form these genesets using [scanpy](https://scanpy.readthedocs.io/en/stable/tutorials.html) preprocessing functions, as shown below.\n",
    "\n",
    "First, filter very rare genes, and freeze the raw counts:"
   ]
  },
  {
   "cell_type": "code",
   "execution_count": 3,
   "id": "8f413fcb",
   "metadata": {},
   "outputs": [],
   "source": [
    "sc.pp.filter_genes(data, min_cells=15)\n",
    "data.raw = data"
   ]
  },
  {
   "cell_type": "markdown",
   "id": "31a98374",
   "metadata": {},
   "source": [
    "Normalize the read depths of each cell, then logarithmize the data:"
   ]
  },
  {
   "cell_type": "code",
   "execution_count": 4,
   "id": "197da9b7",
   "metadata": {},
   "outputs": [],
   "source": [
    "sc.pp.normalize_total(data, target_sum=1e4)\n",
    "sc.pp.log1p(data)"
   ]
  },
  {
   "cell_type": "markdown",
   "id": "718760d4",
   "metadata": {},
   "source": [
    "Calculate highly variable genes, but with a less stringent dispersion threshold. This set of genes will be our \"exogenous\" genes:"
   ]
  },
  {
   "cell_type": "code",
   "execution_count": 5,
   "id": "722fb7fd",
   "metadata": {},
   "outputs": [],
   "source": [
    "sc.pp.highly_variable_genes(data, min_disp = 0.2)\n",
    "data.var['exog'] = data.var.highly_variable.copy()"
   ]
  },
  {
   "cell_type": "markdown",
   "id": "0dc7f95d",
   "metadata": {},
   "source": [
    "Finally, calculate the \"endogenous\" geneset by intersecting the exogenous set with genes with a higher dispersion threshold:"
   ]
  },
  {
   "cell_type": "code",
   "execution_count": 6,
   "id": "0b4b8a62",
   "metadata": {},
   "outputs": [],
   "source": [
    "data.var['endog'] = data.var.exog & (data.var.dispersions_norm > 0.7)"
   ]
  },
  {
   "cell_type": "markdown",
   "id": "c1e34b81",
   "metadata": {},
   "source": [
    "Restore the raw counts to the `counts` layer."
   ]
  },
  {
   "cell_type": "code",
   "execution_count": 7,
   "id": "e8f0a01e",
   "metadata": {},
   "outputs": [],
   "source": [
    "data.layers['counts'] = data.raw.to_adata().X.copy()"
   ]
  },
  {
   "cell_type": "markdown",
   "id": "e1679e97",
   "metadata": {},
   "source": [
    "## Model setup\n",
    "\n",
    "Next, we will instantiate an expression topic model. The hyperparameters will be tuned in the following stage, so all we have to worry about is telling the topic model how to access the genesets we just defined. "
   ]
  },
  {
   "cell_type": "code",
   "execution_count": 8,
   "id": "39a694df",
   "metadata": {},
   "outputs": [],
   "source": [
    "model = mira.topics.ExpressionTopicModel(\n",
    "    endogenous_key='endog', \n",
    "    exogenous_key='endog', \n",
    "    counts_layer='counts',\n",
    "    seed = 0,\n",
    "    hidden=64, # to make the tutorial faster. In practice, use the default of 128!\n",
    ")"
   ]
  },
  {
   "cell_type": "markdown",
   "id": "c9b1a93e",
   "metadata": {},
   "source": [
    "We must next set the learning rates for model. MIRA uses a training scheme where we must define the upper and lower bounds of the learning rate. `get_learning_rate_bounds` runs an array of learning rates to find the values for which the model is most responsive."
   ]
  },
  {
   "cell_type": "code",
   "execution_count": 9,
   "id": "810715be",
   "metadata": {},
   "outputs": [
    {
     "name": "stderr",
     "output_type": "stream",
     "text": [
      "INFO:mira.adata_interface.topic_model:Predicting expression from genes from col: endog\n",
      "INFO:mira.adata_interface.topic_model:Using highly-variable genes from col: endog\n",
      "WARNING:mira.topic_model.base:Cuda unavailable. Will not use GPU speedup while training.\n"
     ]
    },
    {
     "data": {
      "application/vnd.jupyter.widget-view+json": {
       "model_id": "2b4d6049d4e9489090c75030ce2a7c57",
       "version_major": 2,
       "version_minor": 0
      },
      "text/plain": [
       "Learning rate range test:   0%|          | 0/88 [00:00<?, ?it/s]"
      ]
     },
     "metadata": {},
     "output_type": "display_data"
    },
    {
     "name": "stderr",
     "output_type": "stream",
     "text": [
      "INFO:mira.topic_model.base:Set learning rates to: (0.002239301508654534, 0.7206732647016323)\n"
     ]
    },
    {
     "data": {
      "text/plain": [
       "(0.002239301508654534, 0.7206732647016323)"
      ]
     },
     "execution_count": 9,
     "metadata": {},
     "output_type": "execute_result"
    }
   ],
   "source": [
    "model.get_learning_rate_bounds(data, eval_every=1, upper_bound_lr=5)"
   ]
  },
  {
   "cell_type": "markdown",
   "id": "eefeede7",
   "metadata": {},
   "source": [
    "We can then plot the learning rate vs. loss graph using `plot_learning_rate_bounds`. One can see the upper and lower bounds on the learning rate defined by the black and red bars, respectively. Use the `trim_learning_rate_bounds` function to adjust the location of the bars until they tightly bound the part of the curve with the steepest slope.\n",
    "\n",
    "**If you push the upper bound too high, the model is likely to experience gradient overflows. The upper bound works best *at* or *before* the point where the slope starts to level off.**"
   ]
  },
  {
   "cell_type": "code",
   "execution_count": 10,
   "id": "47fda537",
   "metadata": {},
   "outputs": [
    {
     "name": "stderr",
     "output_type": "stream",
     "text": [
      "INFO:mira.topic_model.base:Set learning rates to: (0.021245901172073332, 0.34042194569972284)\n"
     ]
    },
    {
     "data": {
      "image/png": "[encoded data removed]",
      "text/plain": [
       "<Figure size 720x504 with 1 Axes>"
      ]
     },
     "metadata": {
      "needs_background": "light"
     },
     "output_type": "display_data"
    }
   ],
   "source": [
    "model.trim_learning_rate_bounds(2.25, 1.25)\n",
    "_ = model.plot_learning_rate_bounds()"
   ]
  },
  {
   "cell_type": "markdown",
   "id": "0a328ec3",
   "metadata": {},
   "source": [
    "Now, we are ready to tune the model. Instantiate a [TopicModelTuner](../topicmodeling/mira.topics.TopicModelTuner.html) object, and pass the model to optimize. For repeatable results, pass a seed. Finally, give the tuning series a `save_name`. This will the be the name through which one can access and resume the tuning scheme. "
   ]
  },
  {
   "cell_type": "code",
   "execution_count": 11,
   "id": "66ac01dd",
   "metadata": {},
   "outputs": [],
   "source": [
    "tuner = mira.topics.TopicModelTuner(\n",
    "    model,  \n",
    "    save_name = 'tuning-tutorial',\n",
    "    seed = 0, \n",
    "    iters=32, # Recommend 30-64 iterations of tuning.\n",
    "    max_topics = 15 # to speed up convergence! Leave at default of 55 when working with new data.\n",
    ")"
   ]
  },
  {
   "cell_type": "markdown",
   "id": "6f5d488e",
   "metadata": {},
   "source": [
    "Use the tuner to split the data into train and test sets of cells:"
   ]
  },
  {
   "cell_type": "code",
   "execution_count": 12,
   "id": "e8e06c93",
   "metadata": {},
   "outputs": [
    {
     "name": "stderr",
     "output_type": "stream",
     "text": [
      "INFO:mira.adata_interface.topic_model:Added col: test_set\n",
      "INFO:mira.adata_interface.core:Added cols to obs: test_set\n"
     ]
    }
   ],
   "source": [
    "tuner.train_test_split(data)"
   ]
  },
  {
   "cell_type": "markdown",
   "id": "38ae59af",
   "metadata": {},
   "source": [
    "### Side note: tensorboard integration\n",
    "\n",
    "Results from hyperparameter tuning and training can be analyzed using [Tensorboard](https://www.tensorflow.org/tensorboard) during and after execution. Event files are stored in the execution directory under `runs/<save_name>`. `<save_name>` was defined on instantiation of the `TopicModelTuner` object.\n",
    "\n",
    "\n",
    "#### Browser\n",
    "\n",
    "One can either use the browser view via:\n",
    "\n",
    "```\n",
    "$ conda create --name tensorboard -y -c conda-forge tensorboard\n",
    "$ conda activate tensorboard\n",
    "$ tensorboard serve --logdir /path/to/workingdir/runs/<save_name>\n",
    "```\n",
    "\n",
    "#### Notebook widget\n",
    "\n",
    "Or use the notebook widget to concurrently monitor training. Just start the tensorboard server before starting the tuning:\n",
    "\n",
    "```\n",
    "%load_ext tensorboard\n",
    "%tensorboard --logdir runs/<save_name>\n",
    "```\n",
    "\n",
    "Topic model tuning will save scalars from each training run, hyperparameter selections and metrics, as well as embeddings to tensorboard's embedding projector. The board from this project can be viewed at https://tensorboard.dev/experiment/0yCvAnPJQqWZkSWQfGKArg/#hparams."
   ]
  },
  {
   "cell_type": "code",
   "execution_count": 13,
   "id": "65a9c0b3",
   "metadata": {
    "nbsphinx": "hidden"
   },
   "outputs": [
    {
     "data": {
      "text/html": [
       "\n",
       "      <iframe id=\"tensorboard-frame-629f6fbed82c07cd\" width=\"100%\" height=\"800\" frameborder=\"0\">\n",
       "      </iframe>\n",
       "      <script>\n",
       "        (function() {\n",
       "          const frame = document.getElementById(\"tensorboard-frame-629f6fbed82c07cd\");\n",
       "          const url = new URL(\"/\", window.location);\n",
       "          const port = 6007;\n",
       "          if (port) {\n",
       "            url.port = port;\n",
       "          }\n",
       "          frame.src = url;\n",
       "        })();\n",
       "      </script>\n",
       "    "
      ],
      "text/plain": [
       "<IPython.core.display.HTML object>"
      ]
     },
     "metadata": {},
     "output_type": "display_data"
    }
   ],
   "source": [
    "%load_ext tensorboard\n",
    "%tensorboard --logdir runs/tuning-tutorial --port 6007"
   ]
  },
  {
   "cell_type": "markdown",
   "id": "36d9e05c",
   "metadata": {},
   "source": [
    "## Tuning\n",
    "\n",
    "Now, start tuning! The expression topic model has few parameters, and can be trained on a CPU almost as fast as a GPU. Thus, this model can be tuned in parallel across as many cores as you can give it. When a GPU is available, all models will be mounted to partitions on the same GPU. To connect the same tuning process to multiple GPUs, one may start tuning schemes in separate processes. As long as the `TopicModelTuning` object is instantiated from the same directory with the same `save_name`, the separate processes will share history and work together to optimize the hyperparameters."
   ]
  },
  {
   "cell_type": "code",
   "execution_count": 14,
   "id": "9feb5448",
   "metadata": {},
   "outputs": [
    {
     "name": "stdout",
     "output_type": "stream",
     "text": [
      "Trials finished: 30 | Best trial: 24 | Best score: 4.7627e-01\n",
      "Press ctrl+C,ctrl+C or esc,I+I,I+I in Jupyter notebook to stop early.\n",
      "\n",
      "#Topics | Trials (number is #folds tested)\n",
      "      5 | 1 5 1 \n",
      "      6 | 5 5 1 5 1 5 \n",
      "      7 | 2 5 2 \n",
      "      8 | 1 1 5 5 \n",
      "      9 | 0 5 5 4 \n",
      "     10 | 5 \n",
      "     11 | 5 1 \n",
      "     12 | 1 5 \n",
      "     13 | 2 \n",
      "     14 | E 1 \n",
      "     15 | 5 1 \n",
      "\n",
      "Trial Information:\n",
      "None\n",
      "None\n",
      "None\n",
      "Trial #3   | completed, score: 4.7791e-01 | params: {'batch_size': 32, 'beta': 0.9383, 'encoder_dropout': 0.0693, 'kl_strategy': 'cyclic', 'num_epochs': 31, 'num_layers': 3, 'num_topics': 9}\n",
      "Trial #4   | completed, score: 4.7738e-01 | params: {'batch_size': 32, 'beta': 0.9161, 'encoder_dropout': 0.0305, 'kl_strategy': 'cyclic', 'num_epochs': 21, 'num_layers': 2, 'num_topics': 8}\n",
      "Trial #5   | completed, score: 4.8160e-01 | params: {'batch_size': 64, 'beta': 0.9177, 'encoder_dropout': 0.0689, 'kl_strategy': 'monotonic', 'num_epochs': 25, 'num_layers': 3, 'num_topics': 8}\n",
      "Trial #6   | completed, score: 4.8326e-01 | params: {'batch_size': 64, 'beta': 0.9434, 'encoder_dropout': 0.1199, 'kl_strategy': 'monotonic', 'num_epochs': 36, 'num_layers': 2, 'num_topics': 9}\n",
      "Trial #7   | completed, score: 4.9659e-01 | params: {'batch_size': 64, 'beta': 0.9492, 'encoder_dropout': 0.1039, 'kl_strategy': 'cyclic', 'num_epochs': 26, 'num_layers': 3, 'num_topics': 11}\n",
      "Trial #8   | pruned at step: 4            | params: {'batch_size': 64, 'beta': 0.9743, 'encoder_dropout': 0.0222, 'kl_strategy': 'cyclic', 'num_epochs': 20, 'num_layers': 2, 'num_topics': 9}\n",
      "Trial #9   | pruned at step: 1            | params: {'batch_size': 128, 'beta': 0.9009, 'encoder_dropout': 0.1454, 'kl_strategy': 'cyclic', 'num_epochs': 40, 'num_layers': 2, 'num_topics': 5}\n",
      "Trial #10  | completed, score: 4.8356e-01 | params: {'batch_size': 32, 'beta': 0.9636, 'encoder_dropout': 0.0404, 'kl_strategy': 'cyclic', 'num_epochs': 31, 'num_layers': 2, 'num_topics': 6}\n",
      "Trial #11  | completed, score: 4.7722e-01 | params: {'batch_size': 32, 'beta': 0.9308, 'encoder_dropout': 0.0461, 'kl_strategy': 'cyclic', 'num_epochs': 30, 'num_layers': 3, 'num_topics': 15}\n",
      "Trial #12  | completed, score: 4.7729e-01 | params: {'batch_size': 32, 'beta': 0.9023, 'encoder_dropout': 0.0116, 'kl_strategy': 'cyclic', 'num_epochs': 22, 'num_layers': 3, 'num_topics': 6}\n",
      "Trial #13  | pruned at step: 1            | params: {'batch_size': 128, 'beta': 0.9044, 'encoder_dropout': 0.0102, 'kl_strategy': 'cyclic', 'num_epochs': 22, 'num_layers': 2, 'num_topics': 6}\n",
      "Trial #14  | completed, score: 4.7696e-01 | params: {'batch_size': 32, 'beta': 0.9119, 'encoder_dropout': 0.0140, 'kl_strategy': 'monotonic', 'num_epochs': 23, 'num_layers': 2, 'num_topics': 6}\n",
      "Trial #15  | completed, score: 4.7919e-01 | params: {'batch_size': 32, 'beta': 0.9258, 'encoder_dropout': 0.0475, 'kl_strategy': 'cyclic', 'num_epochs': 23, 'num_layers': 3, 'num_topics': 5}\n",
      "Trial #16  | ERROR                        | params: {'batch_size': 32, 'beta': 0.9894930402173426, 'encoder_dropout': 0.048651412328866966, 'kl_strategy': 'cyclic', 'num_epochs': 28, 'num_layers': 3, 'num_topics': 14}\n",
      "Trial #17  | pruned at step: 1            | params: {'batch_size': 32, 'beta': 0.9874, 'encoder_dropout': 0.0488, 'kl_strategy': 'cyclic', 'num_epochs': 28, 'num_layers': 3, 'num_topics': 14}\n",
      "Trial #18  | pruned at step: 1            | params: {'batch_size': 128, 'beta': 0.9262, 'encoder_dropout': 0.0979, 'kl_strategy': 'cyclic', 'num_epochs': 34, 'num_layers': 3, 'num_topics': 15}\n",
      "Trial #19  | pruned at step: 1            | params: {'batch_size': 32, 'beta': 0.9612, 'encoder_dropout': 0.0524, 'kl_strategy': 'monotonic', 'num_epochs': 28, 'num_layers': 3, 'num_topics': 12}\n",
      "Trial #20  | pruned at step: 2            | params: {'batch_size': 32, 'beta': 0.9280, 'encoder_dropout': 0.0889, 'kl_strategy': 'monotonic', 'num_epochs': 24, 'num_layers': 2, 'num_topics': 7}\n",
      "Trial #21  | pruned at step: 1            | params: {'batch_size': 32, 'beta': 0.9079, 'encoder_dropout': 0.0102, 'kl_strategy': 'monotonic', 'num_epochs': 23, 'num_layers': 3, 'num_topics': 6}\n",
      "Trial #22  | completed, score: 4.7847e-01 | params: {'batch_size': 32, 'beta': 0.9098, 'encoder_dropout': 0.0234, 'kl_strategy': 'monotonic', 'num_epochs': 20, 'num_layers': 3, 'num_topics': 7}\n",
      "Trial #23  | pruned at step: 2            | params: {'batch_size': 32, 'beta': 0.9277, 'encoder_dropout': 0.0195, 'kl_strategy': 'monotonic', 'num_epochs': 27, 'num_layers': 3, 'num_topics': 7}\n",
      "Trial #24  | completed, score: 4.7627e-01 | params: {'batch_size': 32, 'beta': 0.9001, 'encoder_dropout': 0.0331, 'kl_strategy': 'monotonic', 'num_epochs': 30, 'num_layers': 2, 'num_topics': 12}\n",
      "Trial #25  | pruned at step: 1            | params: {'batch_size': 128, 'beta': 0.9096, 'encoder_dropout': 0.0101, 'kl_strategy': 'cyclic', 'num_epochs': 35, 'num_layers': 3, 'num_topics': 5}\n",
      "Trial #26  | completed, score: 4.7709e-01 | params: {'batch_size': 32, 'beta': 0.9208, 'encoder_dropout': 0.0563, 'kl_strategy': 'cyclic', 'num_epochs': 22, 'num_layers': 3, 'num_topics': 6}\n",
      "Trial #27  | completed, score: 4.7671e-01 | params: {'batch_size': 32, 'beta': 0.9328, 'encoder_dropout': 0.0603, 'kl_strategy': 'monotonic', 'num_epochs': 29, 'num_layers': 2, 'num_topics': 10}\n",
      "Trial #28  | pruned at step: 2            | params: {'batch_size': 32, 'beta': 0.9117, 'encoder_dropout': 0.0360, 'kl_strategy': 'monotonic', 'num_epochs': 33, 'num_layers': 2, 'num_topics': 13}\n",
      "Trial #29  | pruned at step: 1            | params: {'batch_size': 32, 'beta': 0.9558, 'encoder_dropout': 0.0567, 'kl_strategy': 'monotonic', 'num_epochs': 29, 'num_layers': 2, 'num_topics': 11}\n",
      "\n",
      "\n"
     ]
    },
    {
     "data": {
      "text/plain": [
       "<optuna.study.study.Study at 0x7f884384cbd0>"
      ]
     },
     "execution_count": 14,
     "metadata": {},
     "output_type": "execute_result"
    }
   ],
   "source": [
    "tuner.tune(data, n_workers=3)"
   ]
  },
  {
   "cell_type": "markdown",
   "id": "1743d4af",
   "metadata": {},
   "source": [
    "When the tuning is done, it will print out a dashboard that shows the sampling of the parameter space. The dashboard shows the distribution of topic numbers attempted. Tuning has completed when the tuning model appears to have converged on some number of topics that works well for your data.\n",
    "\n",
    "Now we can move to stage 2 of the tuning scheme: *model selection*. The `select_best_model` command takes the top 5 models from the tuning stage and retrains them on the whole training set. Then, it assesses the model performance on the validation of cells. The best-performing model is retrained on the whole dataset."
   ]
  },
  {
   "cell_type": "code",
   "execution_count": 15,
   "id": "ad9959ae",
   "metadata": {
    "scrolled": false
   },
   "outputs": [
    {
     "name": "stderr",
     "output_type": "stream",
     "text": [
      "INFO:mira.topic_model.trainer:Training model with parameters: {'batch_size': 32, 'beta': 0.900101913203653, 'encoder_dropout': 0.033076936918757516, 'kl_strategy': 'monotonic', 'num_epochs': 30, 'num_layers': 2, 'num_topics': 12}\n"
     ]
    },
    {
     "data": {
      "application/vnd.jupyter.widget-view+json": {
       "model_id": "284c0143e6d74949a99a0ecf02cde1af",
       "version_major": 2,
       "version_minor": 0
      },
      "text/plain": [
       "Epoch 0:   0%|          | 0/30 [00:00<?, ?it/s]"
      ]
     },
     "metadata": {},
     "output_type": "display_data"
    },
    {
     "name": "stderr",
     "output_type": "stream",
     "text": [
      "INFO:mira.topic_model.trainer:Score: 4.68221e-01\n"
     ]
    },
    {
     "data": {
      "application/vnd.jupyter.widget-view+json": {
       "model_id": "3a60b5eeb2b448e1a3607e288f6df94e",
       "version_major": 2,
       "version_minor": 0
      },
      "text/plain": [
       "Predicting latent vars:   0%|          | 0/32 [00:00<?, ?it/s]"
      ]
     },
     "metadata": {},
     "output_type": "display_data"
    },
    {
     "name": "stderr",
     "output_type": "stream",
     "text": [
      "INFO:mira.topic_model.trainer:Training model with parameters: {'batch_size': 32, 'beta': 0.9327614357972152, 'encoder_dropout': 0.06028008531364895, 'kl_strategy': 'monotonic', 'num_epochs': 29, 'num_layers': 2, 'num_topics': 10}\n"
     ]
    },
    {
     "data": {
      "application/vnd.jupyter.widget-view+json": {
       "model_id": "f6a352fa0a294db1974bbb26d1e66a42",
       "version_major": 2,
       "version_minor": 0
      },
      "text/plain": [
       "Epoch 0:   0%|          | 0/29 [00:00<?, ?it/s]"
      ]
     },
     "metadata": {},
     "output_type": "display_data"
    },
    {
     "name": "stderr",
     "output_type": "stream",
     "text": [
      "INFO:mira.topic_model.trainer:Score: 4.68149e-01\n"
     ]
    },
    {
     "data": {
      "application/vnd.jupyter.widget-view+json": {
       "model_id": "bd299964ca284314ab95e48d7d27fcb5",
       "version_major": 2,
       "version_minor": 0
      },
      "text/plain": [
       "Predicting latent vars:   0%|          | 0/32 [00:00<?, ?it/s]"
      ]
     },
     "metadata": {},
     "output_type": "display_data"
    },
    {
     "name": "stderr",
     "output_type": "stream",
     "text": [
      "INFO:mira.topic_model.trainer:Training model with parameters: {'batch_size': 32, 'beta': 0.9118785751199222, 'encoder_dropout': 0.014046057275203333, 'kl_strategy': 'monotonic', 'num_epochs': 23, 'num_layers': 2, 'num_topics': 6}\n"
     ]
    },
    {
     "data": {
      "application/vnd.jupyter.widget-view+json": {
       "model_id": "0247fea1c1794682bec60f5fc7f4635b",
       "version_major": 2,
       "version_minor": 0
      },
      "text/plain": [
       "Epoch 0:   0%|          | 0/23 [00:00<?, ?it/s]"
      ]
     },
     "metadata": {},
     "output_type": "display_data"
    },
    {
     "name": "stderr",
     "output_type": "stream",
     "text": [
      "INFO:mira.topic_model.trainer:Score: 4.71571e-01\n"
     ]
    },
    {
     "data": {
      "application/vnd.jupyter.widget-view+json": {
       "model_id": "14444f061a19445bb85c662ab4d3a49a",
       "version_major": 2,
       "version_minor": 0
      },
      "text/plain": [
       "Predicting latent vars:   0%|          | 0/32 [00:00<?, ?it/s]"
      ]
     },
     "metadata": {},
     "output_type": "display_data"
    },
    {
     "name": "stderr",
     "output_type": "stream",
     "text": [
      "INFO:mira.topic_model.trainer:Training model with parameters: {'batch_size': 32, 'beta': 0.9207713852366042, 'encoder_dropout': 0.0563216967241829, 'kl_strategy': 'cyclic', 'num_epochs': 22, 'num_layers': 3, 'num_topics': 6}\n"
     ]
    },
    {
     "data": {
      "application/vnd.jupyter.widget-view+json": {
       "model_id": "b6485634998b4ae394727acd275d44b2",
       "version_major": 2,
       "version_minor": 0
      },
      "text/plain": [
       "Epoch 0:   0%|          | 0/22 [00:00<?, ?it/s]"
      ]
     },
     "metadata": {},
     "output_type": "display_data"
    },
    {
     "name": "stderr",
     "output_type": "stream",
     "text": [
      "INFO:mira.topic_model.trainer:Score: 4.68201e-01\n"
     ]
    },
    {
     "data": {
      "application/vnd.jupyter.widget-view+json": {
       "model_id": "003d48e794a44067ba6b9a16c0cacfec",
       "version_major": 2,
       "version_minor": 0
      },
      "text/plain": [
       "Predicting latent vars:   0%|          | 0/32 [00:00<?, ?it/s]"
      ]
     },
     "metadata": {},
     "output_type": "display_data"
    },
    {
     "name": "stderr",
     "output_type": "stream",
     "text": [
      "INFO:mira.topic_model.trainer:Training model with parameters: {'batch_size': 32, 'beta': 0.9308437836435777, 'encoder_dropout': 0.04605549782636904, 'kl_strategy': 'cyclic', 'num_epochs': 30, 'num_layers': 3, 'num_topics': 15}\n"
     ]
    },
    {
     "data": {
      "application/vnd.jupyter.widget-view+json": {
       "model_id": "ada7ea39df974de29c40e9c733cc2163",
       "version_major": 2,
       "version_minor": 0
      },
      "text/plain": [
       "Epoch 0:   0%|          | 0/30 [00:00<?, ?it/s]"
      ]
     },
     "metadata": {},
     "output_type": "display_data"
    },
    {
     "name": "stdout",
     "output_type": "stream",
     "text": [
      "\u001b[2K\r"
     ]
    },
    {
     "name": "stderr",
     "output_type": "stream",
     "text": [
      "INFO:mira.topic_model.trainer:Score: 4.69024e-01\n"
     ]
    },
    {
     "data": {
      "application/vnd.jupyter.widget-view+json": {
       "model_id": "d595219b0e0d42f78e90050c3501d183",
       "version_major": 2,
       "version_minor": 0
      },
      "text/plain": [
       "Predicting latent vars:   0%|          | 0/32 [00:00<?, ?it/s]"
      ]
     },
     "metadata": {},
     "output_type": "display_data"
    },
    {
     "name": "stderr",
     "output_type": "stream",
     "text": [
      "INFO:mira.topic_model.trainer:Set parameters to best combination: {'batch_size': 32, 'beta': 0.9327614357972152, 'encoder_dropout': 0.06028008531364895, 'kl_strategy': 'monotonic', 'num_epochs': 29, 'num_layers': 2, 'num_topics': 10}\n",
      "INFO:mira.topic_model.trainer:Training model with all data.\n",
      "INFO:mira.adata_interface.topic_model:Predicting expression from genes from col: endog\n",
      "INFO:mira.adata_interface.topic_model:Using highly-variable genes from col: endog\n",
      "WARNING:mira.topic_model.base:Cuda unavailable. Will not use GPU speedup while training.\n"
     ]
    },
    {
     "data": {
      "application/vnd.jupyter.widget-view+json": {
       "model_id": "774f24af6be443018003d0844a047116",
       "version_major": 2,
       "version_minor": 0
      },
      "text/plain": [
       "Epoch 0:   0%|          | 0/29 [00:00<?, ?it/s]"
      ]
     },
     "metadata": {},
     "output_type": "display_data"
    },
    {
     "name": "stderr",
     "output_type": "stream",
     "text": [
      "INFO:mira.topic_model.base:Moving model to device: cpu\n"
     ]
    },
    {
     "data": {
      "text/plain": [
       "ExpressionTopicModel(\n",
       "  (decoder): Decoder(\n",
       "    (beta): Linear(in_features=10, out_features=2158, bias=False)\n",
       "    (bn): BatchNorm1d(2158, eps=1e-05, momentum=0.1, affine=True, track_running_stats=True)\n",
       "    (drop): Dropout(p=0.2, inplace=False)\n",
       "  )\n",
       "  (encoder): ExpressionEncoder(\n",
       "    (fc_layers): Sequential(\n",
       "      (0): Sequential(\n",
       "        (0): Linear(in_features=2159, out_features=64, bias=True)\n",
       "        (1): BatchNorm1d(64, eps=1e-05, momentum=0.1, affine=True, track_running_stats=True)\n",
       "        (2): ReLU()\n",
       "        (3): Dropout(p=0.06028008531364895, inplace=False)\n",
       "      )\n",
       "      (1): Sequential(\n",
       "        (0): Linear(in_features=64, out_features=22, bias=True)\n",
       "        (1): BatchNorm1d(22, eps=1e-05, momentum=0.1, affine=True, track_running_stats=True)\n",
       "      )\n",
       "    )\n",
       "  )\n",
       ")"
      ]
     },
     "execution_count": 15,
     "metadata": {},
     "output_type": "execute_result"
    }
   ],
   "source": [
    "tuner.select_best_model(data)"
   ]
  },
  {
   "cell_type": "markdown",
   "id": "94f7befb",
   "metadata": {},
   "source": [
    "## Saving models\n",
    "\n",
    "We have a tuned and trained topic model. Let's save it:"
   ]
  },
  {
   "cell_type": "code",
   "execution_count": 16,
   "id": "28565696",
   "metadata": {},
   "outputs": [],
   "source": [
    "model.save('data/rna_topic_model.pth')"
   ]
  },
  {
   "cell_type": "markdown",
   "id": "f8eb7580",
   "metadata": {},
   "source": [
    "The model can be used for embedding cells in a low dimensional space and module analysis. We will discuss dimensionality reduction more in the next tutorial on **Making the Joint Representation**, but below I show the embedding of the synthetic cells matches the true scaffold."
   ]
  },
  {
   "cell_type": "code",
   "execution_count": 17,
   "id": "abeabb74",
   "metadata": {},
   "outputs": [
    {
     "data": {
      "application/vnd.jupyter.widget-view+json": {
       "model_id": "d6ff0a71cc0f4f3e9d78b20e9fe18633",
       "version_major": 2,
       "version_minor": 0
      },
      "text/plain": [
       "Predicting latent vars:   0%|          | 0/32 [00:00<?, ?it/s]"
      ]
     },
     "metadata": {},
     "output_type": "display_data"
    },
    {
     "name": "stderr",
     "output_type": "stream",
     "text": [
      "INFO:mira.adata_interface.core:Added key to obsm: X_topic_compositions\n",
      "INFO:mira.adata_interface.topic_model:Added cols: topic_0, topic_1, topic_2, topic_3, topic_4, topic_5, topic_6, topic_7, topic_8, topic_9\n",
      "INFO:mira.adata_interface.core:Added key to varm: topic_feature_compositions\n",
      "INFO:mira.adata_interface.core:Added key to varm: topic_feature_activations\n",
      "INFO:mira.adata_interface.topic_model:Added key to uns: topic_dendogram\n",
      "INFO:mira.adata_interface.topic_model:Fetching key X_topic_compositions from obsm\n",
      "INFO:mira.adata_interface.core:Added key to obsm: X_umap_features\n",
      "OMP: Info #271: omp_set_nested routine deprecated, please use omp_set_max_active_levels instead.\n"
     ]
    },
    {
     "data": {
      "image/png": "[encoded data removed]",
      "text/plain": [
       "<Figure size 432x288 with 1 Axes>"
      ]
     },
     "metadata": {},
     "output_type": "display_data"
    }
   ],
   "source": [
    "model.predict(data)\n",
    "model.get_umap_features(data, box_cox=0.33)\n",
    "sc.pp.neighbors(data, use_rep = 'X_umap_features', metric = 'manhattan')\n",
    "sc.tl.umap(data, min_dist=0.1, negative_sample_rate=0.05)\n",
    "\n",
    "sc.pl.umap(data, frameon=False, size = 1200, alpha = 0.2, add_outline=True,\n",
    "          outline_width=(0.1,0))"
   ]
  },
  {
   "cell_type": "markdown",
   "id": "ce33fff1",
   "metadata": {},
   "source": [
    "## Accessibility model preprocessing"
   ]
  },
  {
   "cell_type": "markdown",
   "id": "0879afaa",
   "metadata": {},
   "source": [
    "Unlike expression data, we do not prescribe a count processing method for accessibility data. The API for accessibility models is identical to expression topic models, so one may label some accessibility features (peaks) with endogenous or exogenous labels. \n",
    "\n",
    "In practice, we found that simply using all called peaks for both the endogenous and exogenous features produced good results. If one wishes to reduce model size, one may pursue alternate strategies for finding \"highly variable\" peaks to use as endogenous features.\n",
    "\n",
    "To instantiate an accessibility topic model, use:"
   ]
  },
  {
   "cell_type": "code",
   "execution_count": 18,
   "id": "32a8c46c",
   "metadata": {},
   "outputs": [],
   "source": [
    "atac_model = mira.topics.AccessibilityTopicModel(counts_layer='counts')"
   ]
  },
  {
   "cell_type": "markdown",
   "id": "78e6bae2",
   "metadata": {},
   "source": [
    "From here, everything is **exactly** the same for tuning and training as it was with the expression model. The accessibility topic model has far more features and therefor far more parameters than the expression model. **It is highly recommended to train the accessibility model on a GPU.**"
   ]
  },
  {
   "cell_type": "markdown",
   "id": "86d863f2",
   "metadata": {},
   "source": [
    "## Tuning persistence\n",
    "\n",
    "Tuning results/trials/parameters are saved to a SQLite database in the working directory called \"mira-tuning.db\" (which can be changed through the `storage` parameter of the tuning object). Specific optimization runs are saved to their own tables, named by the `save_name` parameter. \n",
    "\n",
    "Thus, to resume tuning after an interuption, one must simply instantiate a tuning object with the same `storage` and `save_name` parameters as the previous process. The new object will reference the saved results and pick up where the last process left off.\n",
    "\n",
    "To access the underlying [optuna study](https://optuna.readthedocs.io/en/stable/reference/study.html) directly:"
   ]
  },
  {
   "cell_type": "code",
   "execution_count": 19,
   "id": "4603b08f",
   "metadata": {},
   "outputs": [],
   "source": [
    "study = mira.topics.TopicModelTuner.load_study('tuning-tutorial')"
   ]
  },
  {
   "cell_type": "markdown",
   "id": "75348ced",
   "metadata": {},
   "source": [
    "You could then print the dashboard summary by:"
   ]
  },
  {
   "cell_type": "code",
   "execution_count": 20,
   "id": "63d8b3fb",
   "metadata": {},
   "outputs": [
    {
     "name": "stdout",
     "output_type": "stream",
     "text": [
      "Trials finished: 30 | Best trial: 24 | Best score: 4.7627e-01\n",
      "Press ctrl+C,ctrl+C or esc,I+I,I+I in Jupyter notebook to stop early.\n",
      "\n",
      "#Topics | Trials (number is #folds tested)\n",
      "      5 | 1 5 1 \n",
      "      6 | 5 5 1 5 1 5 \n",
      "      7 | 2 5 2 \n",
      "      8 | 1 1 5 5 \n",
      "      9 | 0 5 5 4 \n",
      "     10 | 5 \n",
      "     11 | 5 1 \n",
      "     12 | 1 5 \n",
      "     13 | 2 \n",
      "     14 | E 1 \n",
      "     15 | 5 1 \n",
      "\n",
      "Trial Information:\n",
      "None\n",
      "None\n",
      "None\n",
      "Trial #3   | completed, score: 4.7791e-01 | params: {'batch_size': 32, 'beta': 0.9383, 'encoder_dropout': 0.0693, 'kl_strategy': 'cyclic', 'num_epochs': 31, 'num_layers': 3, 'num_topics': 9}\n",
      "Trial #4   | completed, score: 4.7738e-01 | params: {'batch_size': 32, 'beta': 0.9161, 'encoder_dropout': 0.0305, 'kl_strategy': 'cyclic', 'num_epochs': 21, 'num_layers': 2, 'num_topics': 8}\n",
      "Trial #5   | completed, score: 4.8160e-01 | params: {'batch_size': 64, 'beta': 0.9177, 'encoder_dropout': 0.0689, 'kl_strategy': 'monotonic', 'num_epochs': 25, 'num_layers': 3, 'num_topics': 8}\n",
      "Trial #6   | completed, score: 4.8326e-01 | params: {'batch_size': 64, 'beta': 0.9434, 'encoder_dropout': 0.1199, 'kl_strategy': 'monotonic', 'num_epochs': 36, 'num_layers': 2, 'num_topics': 9}\n",
      "Trial #7   | completed, score: 4.9659e-01 | params: {'batch_size': 64, 'beta': 0.9492, 'encoder_dropout': 0.1039, 'kl_strategy': 'cyclic', 'num_epochs': 26, 'num_layers': 3, 'num_topics': 11}\n",
      "Trial #8   | pruned at step: 4            | params: {'batch_size': 64, 'beta': 0.9743, 'encoder_dropout': 0.0222, 'kl_strategy': 'cyclic', 'num_epochs': 20, 'num_layers': 2, 'num_topics': 9}\n",
      "Trial #9   | pruned at step: 1            | params: {'batch_size': 128, 'beta': 0.9009, 'encoder_dropout': 0.1454, 'kl_strategy': 'cyclic', 'num_epochs': 40, 'num_layers': 2, 'num_topics': 5}\n",
      "Trial #10  | completed, score: 4.8356e-01 | params: {'batch_size': 32, 'beta': 0.9636, 'encoder_dropout': 0.0404, 'kl_strategy': 'cyclic', 'num_epochs': 31, 'num_layers': 2, 'num_topics': 6}\n",
      "Trial #11  | completed, score: 4.7722e-01 | params: {'batch_size': 32, 'beta': 0.9308, 'encoder_dropout': 0.0461, 'kl_strategy': 'cyclic', 'num_epochs': 30, 'num_layers': 3, 'num_topics': 15}\n",
      "Trial #12  | completed, score: 4.7729e-01 | params: {'batch_size': 32, 'beta': 0.9023, 'encoder_dropout': 0.0116, 'kl_strategy': 'cyclic', 'num_epochs': 22, 'num_layers': 3, 'num_topics': 6}\n",
      "Trial #13  | pruned at step: 1            | params: {'batch_size': 128, 'beta': 0.9044, 'encoder_dropout': 0.0102, 'kl_strategy': 'cyclic', 'num_epochs': 22, 'num_layers': 2, 'num_topics': 6}\n",
      "Trial #14  | completed, score: 4.7696e-01 | params: {'batch_size': 32, 'beta': 0.9119, 'encoder_dropout': 0.0140, 'kl_strategy': 'monotonic', 'num_epochs': 23, 'num_layers': 2, 'num_topics': 6}\n",
      "Trial #15  | completed, score: 4.7919e-01 | params: {'batch_size': 32, 'beta': 0.9258, 'encoder_dropout': 0.0475, 'kl_strategy': 'cyclic', 'num_epochs': 23, 'num_layers': 3, 'num_topics': 5}\n",
      "Trial #16  | ERROR                        | params: {'batch_size': 32, 'beta': 0.9894930402173426, 'encoder_dropout': 0.048651412328866966, 'kl_strategy': 'cyclic', 'num_epochs': 28, 'num_layers': 3, 'num_topics': 14}\n",
      "Trial #17  | pruned at step: 1            | params: {'batch_size': 32, 'beta': 0.9874, 'encoder_dropout': 0.0488, 'kl_strategy': 'cyclic', 'num_epochs': 28, 'num_layers': 3, 'num_topics': 14}\n",
      "Trial #18  | pruned at step: 1            | params: {'batch_size': 128, 'beta': 0.9262, 'encoder_dropout': 0.0979, 'kl_strategy': 'cyclic', 'num_epochs': 34, 'num_layers': 3, 'num_topics': 15}\n",
      "Trial #19  | pruned at step: 1            | params: {'batch_size': 32, 'beta': 0.9612, 'encoder_dropout': 0.0524, 'kl_strategy': 'monotonic', 'num_epochs': 28, 'num_layers': 3, 'num_topics': 12}\n",
      "Trial #20  | pruned at step: 2            | params: {'batch_size': 32, 'beta': 0.9280, 'encoder_dropout': 0.0889, 'kl_strategy': 'monotonic', 'num_epochs': 24, 'num_layers': 2, 'num_topics': 7}\n",
      "Trial #21  | pruned at step: 1            | params: {'batch_size': 32, 'beta': 0.9079, 'encoder_dropout': 0.0102, 'kl_strategy': 'monotonic', 'num_epochs': 23, 'num_layers': 3, 'num_topics': 6}\n",
      "Trial #22  | completed, score: 4.7847e-01 | params: {'batch_size': 32, 'beta': 0.9098, 'encoder_dropout': 0.0234, 'kl_strategy': 'monotonic', 'num_epochs': 20, 'num_layers': 3, 'num_topics': 7}\n",
      "Trial #23  | pruned at step: 2            | params: {'batch_size': 32, 'beta': 0.9277, 'encoder_dropout': 0.0195, 'kl_strategy': 'monotonic', 'num_epochs': 27, 'num_layers': 3, 'num_topics': 7}\n",
      "Trial #24  | completed, score: 4.7627e-01 | params: {'batch_size': 32, 'beta': 0.9001, 'encoder_dropout': 0.0331, 'kl_strategy': 'monotonic', 'num_epochs': 30, 'num_layers': 2, 'num_topics': 12}\n",
      "Trial #25  | pruned at step: 1            | params: {'batch_size': 128, 'beta': 0.9096, 'encoder_dropout': 0.0101, 'kl_strategy': 'cyclic', 'num_epochs': 35, 'num_layers': 3, 'num_topics': 5}\n",
      "Trial #26  | completed, score: 4.7709e-01 | params: {'batch_size': 32, 'beta': 0.9208, 'encoder_dropout': 0.0563, 'kl_strategy': 'cyclic', 'num_epochs': 22, 'num_layers': 3, 'num_topics': 6}\n",
      "Trial #27  | completed, score: 4.7671e-01 | params: {'batch_size': 32, 'beta': 0.9328, 'encoder_dropout': 0.0603, 'kl_strategy': 'monotonic', 'num_epochs': 29, 'num_layers': 2, 'num_topics': 10}\n",
      "Trial #28  | pruned at step: 2            | params: {'batch_size': 32, 'beta': 0.9117, 'encoder_dropout': 0.0360, 'kl_strategy': 'monotonic', 'num_epochs': 33, 'num_layers': 2, 'num_topics': 13}\n",
      "Trial #29  | pruned at step: 1            | params: {'batch_size': 32, 'beta': 0.9558, 'encoder_dropout': 0.0567, 'kl_strategy': 'monotonic', 'num_epochs': 29, 'num_layers': 2, 'num_topics': 11}\n",
      "\n",
      "\n",
      "\u001b[2K\r"
     ]
    }
   ],
   "source": [
    "mira.topics.print_study(study)"
   ]
  },
  {
   "cell_type": "markdown",
   "id": "ddf911a7",
   "metadata": {},
   "source": [
    "### Next\n",
    "\n",
    "Please proceed to the next tutorial, which demonstrates how to stitch together a joint representation of cells measured using multiomics and two trained topic models."
   ]
  }
 ],
 "metadata": {
  "celltoolbar": "Edit Metadata",
  "kernelspec": {
   "display_name": "mirarep",
   "language": "python",
   "name": "mirarep"
  },
  "language_info": {
   "codemirror_mode": {
    "name": "ipython",
    "version": 3
   },
   "file_extension": ".py",
   "mimetype": "text/x-python",
   "name": "python",
   "nbconvert_exporter": "python",
   "pygments_lexer": "ipython3",
   "version": "3.7.12"
  }
 },
 "nbformat": 4,
 "nbformat_minor": 5
}
