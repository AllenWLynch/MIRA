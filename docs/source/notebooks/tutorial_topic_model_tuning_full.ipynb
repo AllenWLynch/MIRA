{
 "cells": [
  {
   "cell_type": "markdown",
   "id": "93a50b5a",
   "metadata": {},
   "source": [
    "# Topic Modeling\n",
    "\n",
    "## What is a topic model?\n",
    "\n",
    "Topic models, like [LDA](https://www.jmlr.org/papers/volume3/blei03a/blei03a.pdf), have traditionally been used to decompose a corpus of text into topics - or themes - composed of words that often appear together in documents. Documents, in turn, are modeled as a mixture of topics based on the words they contain. \n",
    "\n",
    "MIRA extends these ideas to single-cell genomics data, where topics are groups of genes that are co-expressed or *cis*-regulatory elements that are co-accessible, and cells are a mixture of these regulatory modules. The topics can be used for enrichment and pathway analysis, while the cells' topic mixtures can be used to embed the cells in an informative, interpretable latent space.\n",
    "\n",
    "## Tuning and training\n",
    "\n",
    "In this tutorial, we will cover tuning and training MIRA topic models to find the best hyperparameters for a given dataset. Single-cell datasets vary widely in terms of quality and complexity, and as such, no set of hyperparameters will ensure an optimal model in all cases. The most important parameter to optimize for a given dataset is the number of topics captured by the model, which represents units of covarying genes or *cis*-regulatory regions. The number of topics determines the quality of the embedding manifold and veracity of the topics' functional enrichments, so we recommend rigourous tuning to provide an accurate and informative analysis. \n",
    "\n",
    "MIRA topic model tuning proceeds in three stages:\n",
    "  \n",
    "1. Bayesian optimization of model hyperparameters on training set of cells\n",
    "2. Model selection on validation set of cells\n",
    "3. Final model training on whole dataset\n",
    "\n",
    "**The first stage may be parallelized to speed up the process, and results from each stage may be visualized and compared using Tensorboard!**\n",
    "\n",
    "Let's start by importing some packages:"
   ]
  },
  {
   "cell_type": "code",
   "execution_count": 4,
   "id": "6a197ccb",
   "metadata": {},
   "outputs": [
    {
     "data": {
      "text/html": [
       "\n",
       "<style>\n",
       "div.output_stderr {\n",
       "    background: #e6e7ed;\n",
       "}\n",
       "</style>\n",
       "    "
      ],
      "text/plain": [
       "<IPython.core.display.HTML object>"
      ]
     },
     "execution_count": 4,
     "metadata": {},
     "output_type": "execute_result"
    }
   ],
   "source": [
    "import mira\n",
    "import anndata\n",
    "import scanpy as sc\n",
    "mira.utils.pretty_sderr()"
   ]
  },
  {
   "cell_type": "markdown",
   "id": "8672a2f3",
   "metadata": {},
   "source": [
    "And we'll load some data. To make the tutorial quick, I've imported a synthetic single-cell dataset used as part of benchmarking MIRA's abilities in manifold and pseudotime trajectory inference. This synthetic dataset contains 1000 cells measured with both RNA and ATAC-seq mixed from the reads of real single cells from reference experiment."
   ]
  },
  {
   "cell_type": "code",
   "execution_count": 5,
   "id": "70845e88",
   "metadata": {},
   "outputs": [
    {
     "data": {
      "application/vnd.jupyter.widget-view+json": {
       "model_id": "77c5fc33ec6d4aa0924b67c92ddd6e5f",
       "version_major": 2,
       "version_minor": 0
      },
      "text/plain": [
       "Downloading dataset:   0%|          | 0/1 [00:00<?, ?it/s]"
      ]
     },
     "metadata": {},
     "output_type": "display_data"
    },
    {
     "name": "stderr",
     "output_type": "stream",
     "text": [
      "INFO:mira.datasets.datasets:Dataset contents: mira-datasets/Frankencell_RNA.h5ad\n"
     ]
    }
   ],
   "source": [
    "mira.datasets.FrankenCell_RNA() # fetches dataset from cistrome.org\n",
    "\n",
    "data = anndata.read_h5ad('mira-datasets/Frankencell_RNA.h5ad')"
   ]
  },
  {
   "cell_type": "markdown",
   "id": "7796f4ab",
   "metadata": {},
   "source": [
    "## Expression model preprocessing\n",
    "\n",
    "**All of MIRA's models have the same API for instantiating, tuning, and training, regardless of mode.** This tutorial covers tuning of an expression topic model.\n",
    "\n",
    "MIRA's topic models take raw counts as input, but we must first perform mode specific feature selection. For expression data, this is akin to highly variable gene selection in PCA, and ensures the model is using the best genes to learn topics.\n",
    "\n",
    "To begin, we must first define two genesets:\n",
    "\n",
    "* endogenous: genes which will be used as features for the topic model encoder network, usually ~2000 of the most variable genes\n",
    "* exogenous: genes which will be captured in topics, a superset of the endogenous genes, a less stringent collection of genes which show some variable expression but perhaps not enough to be informative to the encoder network. \n",
    "\n",
    "We can form these genesets using [scanpy](https://scanpy.readthedocs.io/en/stable/tutorials.html) preprocessing functions, as shown below.\n",
    "\n",
    "First, filter very rare genes, and freeze the raw counts:"
   ]
  },
  {
   "cell_type": "code",
   "execution_count": 3,
   "id": "8f413fcb",
   "metadata": {},
   "outputs": [],
   "source": [
    "sc.pp.filter_genes(data, min_cells=15)\n",
    "data.raw = data"
   ]
  },
  {
   "cell_type": "markdown",
   "id": "31a98374",
   "metadata": {},
   "source": [
    "Normalize the read depths of each cell, then logarithmize the data:"
   ]
  },
  {
   "cell_type": "code",
   "execution_count": 4,
   "id": "197da9b7",
   "metadata": {},
   "outputs": [],
   "source": [
    "sc.pp.normalize_total(data, target_sum=1e4)\n",
    "sc.pp.log1p(data)"
   ]
  },
  {
   "cell_type": "markdown",
   "id": "718760d4",
   "metadata": {},
   "source": [
    "Calculate highly variable genes, but with a less stringent dispersion threshold. This set of genes will be our \"exogenous\" genes:"
   ]
  },
  {
   "cell_type": "code",
   "execution_count": 5,
   "id": "722fb7fd",
   "metadata": {},
   "outputs": [],
   "source": [
    "sc.pp.highly_variable_genes(data, min_disp = 0.2)\n",
    "data.var['exog'] = data.var.highly_variable.copy()"
   ]
  },
  {
   "cell_type": "markdown",
   "id": "0dc7f95d",
   "metadata": {},
   "source": [
    "Finally, calculate the \"endogenous\" geneset by intersecting the exogenous set with genes with a higher dispersion threshold:"
   ]
  },
  {
   "cell_type": "code",
   "execution_count": 6,
   "id": "0b4b8a62",
   "metadata": {},
   "outputs": [],
   "source": [
    "data.var['endog'] = data.var.exog & (data.var.dispersions_norm > 0.7)"
   ]
  },
  {
   "cell_type": "markdown",
   "id": "c1e34b81",
   "metadata": {},
   "source": [
    "Restore the raw counts to the `counts` layer."
   ]
  },
  {
   "cell_type": "code",
   "execution_count": 7,
   "id": "e8f0a01e",
   "metadata": {},
   "outputs": [],
   "source": [
    "data.layers['counts'] = data.raw.to_adata().X.copy()"
   ]
  },
  {
   "cell_type": "markdown",
   "id": "e1679e97",
   "metadata": {},
   "source": [
    "## Model setup\n",
    "\n",
    "Next, we will instantiate an expression topic model. The hyperparameters will be tuned in the following stage, so all we have to worry about is telling the topic model how to access the genesets we just defined. "
   ]
  },
  {
   "cell_type": "code",
   "execution_count": 8,
   "id": "39a694df",
   "metadata": {},
   "outputs": [],
   "source": [
    "model = mira.topics.ExpressionTopicModel(\n",
    "    endogenous_key='endog', \n",
    "    exogenous_key='endog', \n",
    "    counts_layer='counts',\n",
    "    seed = 0,\n",
    "    hidden=64, # to make the tutorial faster. In practice, use the default of 128!\n",
    ")"
   ]
  },
  {
   "cell_type": "markdown",
   "id": "c9b1a93e",
   "metadata": {},
   "source": [
    "We must next set the learning rates for model. MIRA uses a training scheme where we must define the upper and lower bounds of the learning rate. `get_learning_rate_bounds` runs an array of learning rates to find the values for which the model is most responsive."
   ]
  },
  {
   "cell_type": "code",
   "execution_count": 9,
   "id": "810715be",
   "metadata": {},
   "outputs": [
    {
     "name": "stderr",
     "output_type": "stream",
     "text": [
      "INFO:mira.adata_interface.topic_model:Predicting expression from genes from col: endog\n",
      "INFO:mira.adata_interface.topic_model:Using highly-variable genes from col: endog\n",
      "WARNING:mira.topic_model.base:Cuda unavailable. Will not use GPU speedup while training.\n"
     ]
    },
    {
     "data": {
      "application/vnd.jupyter.widget-view+json": {
       "model_id": "1b350c631e68493db9685dac04b79e22",
       "version_major": 2,
       "version_minor": 0
      },
      "text/plain": [
       "Learning rate range test:   0%|          | 0/88 [00:00<?, ?it/s]"
      ]
     },
     "metadata": {},
     "output_type": "display_data"
    },
    {
     "name": "stderr",
     "output_type": "stream",
     "text": [
      "INFO:mira.topic_model.base:Set learning rates to: (0.002239301508654534, 0.7206732647016323)\n"
     ]
    },
    {
     "data": {
      "text/plain": [
       "(0.002239301508654534, 0.7206732647016323)"
      ]
     },
     "execution_count": 9,
     "metadata": {},
     "output_type": "execute_result"
    }
   ],
   "source": [
    "model.get_learning_rate_bounds(data, eval_every=1, upper_bound_lr=5)"
   ]
  },
  {
   "cell_type": "markdown",
   "id": "eefeede7",
   "metadata": {},
   "source": [
    "We can then plot the learning rate vs. loss graph using `plot_learning_rate_bounds`. One can see the upper and lower bounds on the learning rate defined by the black and red bars, respectively. Use the `trim_learning_rate_bounds` function to adjust the location of the bars until they tightly bound the part of the curve with the steepest slope."
   ]
  },
  {
   "cell_type": "code",
   "execution_count": 10,
   "id": "47fda537",
   "metadata": {},
   "outputs": [
    {
     "name": "stderr",
     "output_type": "stream",
     "text": [
      "INFO:mira.topic_model.base:Set learning rates to: (0.021245901172073332, 0.34042194569972284)\n"
     ]
    },
    {
     "data": {
      "image/png": "[encoded data removed]",
      "text/plain": [
       "<Figure size 720x504 with 1 Axes>"
      ]
     },
     "metadata": {
      "needs_background": "light"
     },
     "output_type": "display_data"
    }
   ],
   "source": [
    "model.trim_learning_rate_bounds(2.25, 1.25)\n",
    "_ = model.plot_learning_rate_bounds()"
   ]
  },
  {
   "cell_type": "markdown",
   "id": "0a328ec3",
   "metadata": {},
   "source": [
    "Now, we are ready to tune the model. Instantiate a [TopicModelTuner](../topicmodeling/mira.topics.TopicModelTuner.html) object, and pass the model to optimize. For repeatable results, pass a seed. Finally, give the tuning series a `save_name`. This will the be the name through which one can access and resume the tuning scheme. "
   ]
  },
  {
   "cell_type": "code",
   "execution_count": 11,
   "id": "66ac01dd",
   "metadata": {},
   "outputs": [],
   "source": [
    "tuner = mira.topics.TopicModelTuner(\n",
    "    model,  \n",
    "    save_name = 'tuning-tutorial',\n",
    "    seed = 2556, \n",
    "    iters=32, # Recommend 30-64 iterations of tuning.\n",
    "    cv = 3, # 3-fold CV to speed up tutorial, default is 5\n",
    "    max_topics = 15 # to speed up convergence! Leave at default of 55 when working with new data.\n",
    ")"
   ]
  },
  {
   "cell_type": "markdown",
   "id": "6f5d488e",
   "metadata": {},
   "source": [
    "Use the tuner to split the data into train and test sets of cells:"
   ]
  },
  {
   "cell_type": "code",
   "execution_count": 12,
   "id": "e8e06c93",
   "metadata": {},
   "outputs": [
    {
     "name": "stderr",
     "output_type": "stream",
     "text": [
      "INFO:mira.adata_interface.topic_model:Added col: test_set\n",
      "INFO:mira.adata_interface.core:Added cols to obs: test_set\n"
     ]
    }
   ],
   "source": [
    "tuner.train_test_split(data)"
   ]
  },
  {
   "cell_type": "markdown",
   "id": "36d9e05c",
   "metadata": {},
   "source": [
    "### Side note: tensorboard integration\n",
    "\n",
    "Results from hyperparameter tuning and training can be analyzed using [Tensorboard](https://www.tensorflow.org/tensorboard) during and after execution. Event files are stored in the execution directory under `runs/<save_name>`. `<save_name>` was defined on instantiation of the `TopicModelTuner` object.\n",
    "\n",
    "\n",
    "#### Browser\n",
    "\n",
    "One can either use the browser view via:\n",
    "\n",
    "```\n",
    "$ conda create --name tensorboard -y -c conda-forge tensorboard\n",
    "$ conda activate tensorboard\n",
    "$ tensorboard serve --logdir /path/to/workingdir/runs/<save_name>\n",
    "```\n",
    "\n",
    "#### Notebook widget\n",
    "Or install it in the notebook environment (if not installed already) via:\n",
    "\n",
    "```\n",
    "$ conda install -y -c conda-forge tensorboard\n",
    "```\n",
    "\n",
    "You can then start the widget by using cell magics, which will allow you to monitor tuning while it is in progress.\n",
    "\n",
    "```\n",
    "%load_ext tensorboard\n",
    "%tensorboard --logdir runs/<save_name>\n",
    "```\n",
    "\n",
    "Topic model tuning will save scalars from each training run, hyperparameter selections and metrics, as well as embeddings to tensorboard's embedding projector. The board from this project can be viewed at https://tensorboard.dev/experiment/0yCvAnPJQqWZkSWQfGKArg/#hparams.\n",
    "\n",
    "## Tuning\n",
    "\n",
    "Now, start tuning! The expression topic model has few parameters, and can be trained on a CPU almost as fast as a GPU. Thus, this model can be tuned in parallel across as many cores as you can give it. When a GPU is available, all models will be mounted to partitions on the same GPU. To connect the same tuning process to multiple GPUs, one may start tuning schemes in separate processes. As long as the `TopicModelTuning` object is instantiated from the same directory with the same `save_name`, the separate processes will share history and work together to optimize the hyperparameters."
   ]
  },
  {
   "cell_type": "code",
   "execution_count": 13,
   "id": "9feb5448",
   "metadata": {},
   "outputs": [
    {
     "name": "stdout",
     "output_type": "stream",
     "text": [
      "Trials finished: 30 | Best trial: 16 | Best score: 4.7732e-01\n",
      "Press ctrl+C,ctrl+C or esc,I+I,I+I in Jupyter notebook to stop early.\n",
      "\n",
      "#Topics | Trials (number is #folds tested)\n",
      "      5 | 2 \n",
      "      6 | 1 1 \n",
      "      7 | 1 3 3 \n",
      "      8 | 3 1 1 1 \n",
      "      9 | 3 1 3 \n",
      "     10 | 1 3 1 3 3 \n",
      "     11 | 3 1 3 3 \n",
      "     12 | 3 3 \n",
      "     13 | 3 3 1 \n",
      "     15 | 3 1 1 \n",
      "\n",
      "Trial Information:\n",
      "Trial #0   | pruned at step: 2            | params: {'num_topics': 5, 'batch_size': 32, 'encoder_dropout': 0.1458, 'num_epochs': 33, 'beta': 0.9850, 'seed': 380555210, 'kl_strategy': 'monotonic', 'num_layers': 3}\n",
      "Trial #1   | completed, score: 6.2972e-01 | params: {'num_topics': 8, 'batch_size': 128, 'encoder_dropout': 0.0817, 'num_epochs': 28, 'beta': 0.9646, 'seed': 2054899126, 'kl_strategy': 'cyclic', 'num_layers': 2}\n",
      "Trial #2   | completed, score: 4.8967e-01 | params: {'num_topics': 15, 'batch_size': 64, 'encoder_dropout': 0.0928, 'num_epochs': 24, 'beta': 0.9216, 'seed': 4094150801, 'kl_strategy': 'cyclic', 'num_layers': 2}\n",
      "Trial #3   | pruned at step: 1            | params: {'num_topics': 8, 'batch_size': 64, 'encoder_dropout': 0.0301, 'num_epochs': 21, 'beta': 0.9872, 'seed': 3528886570, 'kl_strategy': 'monotonic', 'num_layers': 3}\n",
      "Trial #4   | pruned at step: 1            | params: {'num_topics': 6, 'batch_size': 64, 'encoder_dropout': 0.1098, 'num_epochs': 35, 'beta': 0.9018, 'seed': 683366596, 'kl_strategy': 'monotonic', 'num_layers': 3}\n",
      "Trial #5   | pruned at step: 1            | params: {'num_topics': 8, 'batch_size': 32, 'encoder_dropout': 0.0286, 'num_epochs': 29, 'beta': 0.9813, 'seed': 2302214558, 'kl_strategy': 'monotonic', 'num_layers': 2}\n",
      "Trial #6   | pruned at step: 1            | params: {'num_topics': 7, 'batch_size': 128, 'encoder_dropout': 0.0249, 'num_epochs': 38, 'beta': 0.9794, 'seed': 2768108259, 'kl_strategy': 'cyclic', 'num_layers': 2}\n",
      "Trial #7   | completed, score: 4.7884e-01 | params: {'num_topics': 11, 'batch_size': 32, 'encoder_dropout': 0.1249, 'num_epochs': 25, 'beta': 0.9009, 'seed': 784832632, 'kl_strategy': 'cyclic', 'num_layers': 3}\n",
      "Trial #8   | pruned at step: 1            | params: {'num_topics': 8, 'batch_size': 128, 'encoder_dropout': 0.0726, 'num_epochs': 27, 'beta': 0.9026, 'seed': 13473379, 'kl_strategy': 'monotonic', 'num_layers': 3}\n",
      "Trial #9   | pruned at step: 1            | params: {'num_topics': 15, 'batch_size': 64, 'encoder_dropout': 0.0671, 'num_epochs': 20, 'beta': 0.9284, 'seed': 221941794, 'kl_strategy': 'cyclic', 'num_layers': 2}\n",
      "Trial #10  | pruned at step: 1            | params: {'num_topics': 11, 'batch_size': 128, 'encoder_dropout': 0.0955, 'num_epochs': 24, 'beta': 0.9542, 'seed': 1055125882, 'kl_strategy': 'cyclic', 'num_layers': 2}\n",
      "Trial #11  | completed, score: 4.9379e-01 | params: {'num_topics': 12, 'batch_size': 64, 'encoder_dropout': 0.0566, 'num_epochs': 30, 'beta': 0.9396, 'seed': 2896657828, 'kl_strategy': 'cyclic', 'num_layers': 2}\n",
      "Trial #12  | pruned at step: 1            | params: {'num_topics': 15, 'batch_size': 128, 'encoder_dropout': 0.0929, 'num_epochs': 23, 'beta': 0.9574, 'seed': 3223303357, 'kl_strategy': 'cyclic', 'num_layers': 2}\n",
      "Trial #13  | pruned at step: 1            | params: {'num_topics': 10, 'batch_size': 128, 'encoder_dropout': 0.1201, 'num_epochs': 26, 'beta': 0.9205, 'seed': 1626215940, 'kl_strategy': 'cyclic', 'num_layers': 2}\n",
      "Trial #14  | pruned at step: 1            | params: {'num_topics': 6, 'batch_size': 64, 'encoder_dropout': 0.0512, 'num_epochs': 22, 'beta': 0.9635, 'seed': 3079301738, 'kl_strategy': 'cyclic', 'num_layers': 2}\n",
      "Trial #15  | completed, score: 4.7949e-01 | params: {'num_topics': 13, 'batch_size': 32, 'encoder_dropout': 0.1343, 'num_epochs': 24, 'beta': 0.9159, 'seed': 2203724424, 'kl_strategy': 'cyclic', 'num_layers': 3}\n",
      "Trial #16  | completed, score: 4.7732e-01 | params: {'num_topics': 10, 'batch_size': 32, 'encoder_dropout': 0.1181, 'num_epochs': 25, 'beta': 0.9128, 'seed': 181481948, 'kl_strategy': 'cyclic', 'num_layers': 3}\n",
      "Trial #17  | completed, score: 4.7892e-01 | params: {'num_topics': 13, 'batch_size': 32, 'encoder_dropout': 0.1034, 'num_epochs': 31, 'beta': 0.9353, 'seed': 2770385409, 'kl_strategy': 'cyclic', 'num_layers': 3}\n",
      "Trial #18  | pruned at step: 1            | params: {'num_topics': 10, 'batch_size': 32, 'encoder_dropout': 0.1484, 'num_epochs': 22, 'beta': 0.9100, 'seed': 131814401, 'kl_strategy': 'cyclic', 'num_layers': 3}\n",
      "Trial #19  | completed, score: 4.7780e-01 | params: {'num_topics': 10, 'batch_size': 32, 'encoder_dropout': 0.1240, 'num_epochs': 26, 'beta': 0.9097, 'seed': 2638089598, 'kl_strategy': 'cyclic', 'num_layers': 3}\n",
      "Trial #20  | pruned at step: 1            | params: {'num_topics': 13, 'batch_size': 32, 'encoder_dropout': 0.1305, 'num_epochs': 25, 'beta': 0.9142, 'seed': 3696624725, 'kl_strategy': 'cyclic', 'num_layers': 3}\n",
      "Trial #21  | completed, score: 4.7877e-01 | params: {'num_topics': 11, 'batch_size': 32, 'encoder_dropout': 0.1085, 'num_epochs': 32, 'beta': 0.9345, 'seed': 1361965750, 'kl_strategy': 'cyclic', 'num_layers': 3}\n",
      "Trial #22  | completed, score: 4.7885e-01 | params: {'num_topics': 9, 'batch_size': 32, 'encoder_dropout': 0.1070, 'num_epochs': 30, 'beta': 0.9314, 'seed': 2172192160, 'kl_strategy': 'cyclic', 'num_layers': 3}\n",
      "Trial #23  | pruned at step: 1            | params: {'num_topics': 9, 'batch_size': 32, 'encoder_dropout': 0.1212, 'num_epochs': 33, 'beta': 0.9483, 'seed': 59390355, 'kl_strategy': 'cyclic', 'num_layers': 3}\n",
      "Trial #24  | completed, score: 4.7866e-01 | params: {'num_topics': 10, 'batch_size': 32, 'encoder_dropout': 0.1154, 'num_epochs': 27, 'beta': 0.9283, 'seed': 3638703597, 'kl_strategy': 'cyclic', 'num_layers': 3}\n",
      "Trial #25  | completed, score: 4.7850e-01 | params: {'num_topics': 11, 'batch_size': 32, 'encoder_dropout': 0.1344, 'num_epochs': 40, 'beta': 0.9093, 'seed': 3094057605, 'kl_strategy': 'cyclic', 'num_layers': 3}\n",
      "Trial #26  | completed, score: 4.7875e-01 | params: {'num_topics': 9, 'batch_size': 32, 'encoder_dropout': 0.1187, 'num_epochs': 27, 'beta': 0.9236, 'seed': 2457830165, 'kl_strategy': 'cyclic', 'num_layers': 3}\n",
      "Trial #27  | completed, score: 4.7787e-01 | params: {'num_topics': 7, 'batch_size': 32, 'encoder_dropout': 0.1356, 'num_epochs': 39, 'beta': 0.9095, 'seed': 1209920136, 'kl_strategy': 'monotonic', 'num_layers': 3}\n",
      "Trial #28  | completed, score: 4.7830e-01 | params: {'num_topics': 12, 'batch_size': 32, 'encoder_dropout': 0.1397, 'num_epochs': 36, 'beta': 0.9098, 'seed': 3990382108, 'kl_strategy': 'cyclic', 'num_layers': 3}\n",
      "Trial #29  | completed, score: 4.7807e-01 | params: {'num_topics': 7, 'batch_size': 32, 'encoder_dropout': 0.1421, 'num_epochs': 35, 'beta': 0.9158, 'seed': 4233229406, 'kl_strategy': 'monotonic', 'num_layers': 3}\n",
      "\n",
      "\n"
     ]
    },
    {
     "data": {
      "text/plain": [
       "<optuna.study.study.Study at 0x7f7bfe6bb5d0>"
      ]
     },
     "execution_count": 13,
     "metadata": {},
     "output_type": "execute_result"
    }
   ],
   "source": [
    "tuner.tune(data, n_workers=3)"
   ]
  },
  {
   "cell_type": "markdown",
   "id": "1743d4af",
   "metadata": {},
   "source": [
    "When the tuning is done, it will print out a dashboard that shows the sampling of the parameter space. The dashboard shows the distribution of topic numbers attempted. Tuning has completed when the tuning model appears to have converged on some number of topics that works well for your data.\n",
    "\n",
    "Now we can move to stage 2 of the tuning scheme: *model selection*. The `select_best_model` command takes the top 5 models from the tuning stage and retrains them on the whole training set. Then, it assesses the model performance on the validation of cells. The best-performing model is retrained on the whole dataset."
   ]
  },
  {
   "cell_type": "code",
   "execution_count": 14,
   "id": "ad9959ae",
   "metadata": {
    "scrolled": false
   },
   "outputs": [
    {
     "name": "stderr",
     "output_type": "stream",
     "text": [
      "INFO:mira.topic_model.trainer:Training model with parameters: {'num_topics': 10, 'batch_size': 32, 'encoder_dropout': 0.1181174480968655, 'num_epochs': 25, 'beta': 0.9127924890795104, 'seed': 181481948, 'kl_strategy': 'cyclic', 'num_layers': 3}\n"
     ]
    },
    {
     "data": {
      "application/vnd.jupyter.widget-view+json": {
       "model_id": "b86bba29526c42789e1b774b846ef013",
       "version_major": 2,
       "version_minor": 0
      },
      "text/plain": [
       "Epoch 0:   0%|          | 0/25 [00:00<?, ?it/s]"
      ]
     },
     "metadata": {},
     "output_type": "display_data"
    },
    {
     "name": "stderr",
     "output_type": "stream",
     "text": [
      "INFO:mira.topic_model.trainer:Score: 4.71308e-01\n"
     ]
    },
    {
     "data": {
      "application/vnd.jupyter.widget-view+json": {
       "model_id": "5375dc8b665b4a29a7987271a5c44d4d",
       "version_major": 2,
       "version_minor": 0
      },
      "text/plain": [
       "Predicting latent vars:   0%|          | 0/32 [00:00<?, ?it/s]"
      ]
     },
     "metadata": {},
     "output_type": "display_data"
    },
    {
     "name": "stderr",
     "output_type": "stream",
     "text": [
      "INFO:mira.topic_model.trainer:Training model with parameters: {'num_topics': 10, 'batch_size': 32, 'encoder_dropout': 0.12399343277754195, 'num_epochs': 26, 'beta': 0.9097372487970966, 'seed': 2638089598, 'kl_strategy': 'cyclic', 'num_layers': 3}\n"
     ]
    },
    {
     "name": "stdout",
     "output_type": "stream",
     "text": [
      "warning: Embedding dir exists, did you set global_step for add_embedding()?\n"
     ]
    },
    {
     "data": {
      "application/vnd.jupyter.widget-view+json": {
       "model_id": "4b26d3075d9340e0862c353c1d7bd5bb",
       "version_major": 2,
       "version_minor": 0
      },
      "text/plain": [
       "Epoch 0:   0%|          | 0/26 [00:00<?, ?it/s]"
      ]
     },
     "metadata": {},
     "output_type": "display_data"
    },
    {
     "name": "stderr",
     "output_type": "stream",
     "text": [
      "INFO:mira.topic_model.trainer:Score: 4.71539e-01\n"
     ]
    },
    {
     "data": {
      "application/vnd.jupyter.widget-view+json": {
       "model_id": "4242e33f989c45b19eb59ed8d88b540b",
       "version_major": 2,
       "version_minor": 0
      },
      "text/plain": [
       "Predicting latent vars:   0%|          | 0/32 [00:00<?, ?it/s]"
      ]
     },
     "metadata": {},
     "output_type": "display_data"
    },
    {
     "name": "stderr",
     "output_type": "stream",
     "text": [
      "INFO:mira.topic_model.trainer:Training model with parameters: {'num_topics': 7, 'batch_size': 32, 'encoder_dropout': 0.1355864314902528, 'num_epochs': 39, 'beta': 0.9094715820390064, 'seed': 1209920136, 'kl_strategy': 'monotonic', 'num_layers': 3}\n"
     ]
    },
    {
     "name": "stdout",
     "output_type": "stream",
     "text": [
      "warning: Embedding dir exists, did you set global_step for add_embedding()?\n"
     ]
    },
    {
     "data": {
      "application/vnd.jupyter.widget-view+json": {
       "model_id": "d58a5c43d5a04e10bd685ccd24fdc5b6",
       "version_major": 2,
       "version_minor": 0
      },
      "text/plain": [
       "Epoch 0:   0%|          | 0/39 [00:00<?, ?it/s]"
      ]
     },
     "metadata": {},
     "output_type": "display_data"
    },
    {
     "name": "stderr",
     "output_type": "stream",
     "text": [
      "INFO:mira.topic_model.trainer:Score: 4.71061e-01\n"
     ]
    },
    {
     "data": {
      "application/vnd.jupyter.widget-view+json": {
       "model_id": "b513ef38b1774ab7a736b6acd3335d3f",
       "version_major": 2,
       "version_minor": 0
      },
      "text/plain": [
       "Predicting latent vars:   0%|          | 0/32 [00:00<?, ?it/s]"
      ]
     },
     "metadata": {},
     "output_type": "display_data"
    },
    {
     "name": "stderr",
     "output_type": "stream",
     "text": [
      "INFO:mira.topic_model.trainer:Training model with parameters: {'num_topics': 7, 'batch_size': 32, 'encoder_dropout': 0.14213037548162907, 'num_epochs': 35, 'beta': 0.9158376450809089, 'seed': 4233229406, 'kl_strategy': 'monotonic', 'num_layers': 3}\n"
     ]
    },
    {
     "name": "stdout",
     "output_type": "stream",
     "text": [
      "warning: Embedding dir exists, did you set global_step for add_embedding()?\n"
     ]
    },
    {
     "data": {
      "application/vnd.jupyter.widget-view+json": {
       "model_id": "4ae3bbfb9d864d859517dd1457ba0d4d",
       "version_major": 2,
       "version_minor": 0
      },
      "text/plain": [
       "Epoch 0:   0%|          | 0/35 [00:00<?, ?it/s]"
      ]
     },
     "metadata": {},
     "output_type": "display_data"
    },
    {
     "name": "stderr",
     "output_type": "stream",
     "text": [
      "INFO:mira.topic_model.trainer:Score: 4.71337e-01\n"
     ]
    },
    {
     "data": {
      "application/vnd.jupyter.widget-view+json": {
       "model_id": "b54c1fa89f434b7ea732df86ce1320f0",
       "version_major": 2,
       "version_minor": 0
      },
      "text/plain": [
       "Predicting latent vars:   0%|          | 0/32 [00:00<?, ?it/s]"
      ]
     },
     "metadata": {},
     "output_type": "display_data"
    },
    {
     "name": "stderr",
     "output_type": "stream",
     "text": [
      "INFO:mira.topic_model.trainer:Training model with parameters: {'num_topics': 12, 'batch_size': 32, 'encoder_dropout': 0.13969848560859152, 'num_epochs': 36, 'beta': 0.9098120223658053, 'seed': 3990382108, 'kl_strategy': 'cyclic', 'num_layers': 3}\n"
     ]
    },
    {
     "name": "stdout",
     "output_type": "stream",
     "text": [
      "warning: Embedding dir exists, did you set global_step for add_embedding()?\n"
     ]
    },
    {
     "data": {
      "application/vnd.jupyter.widget-view+json": {
       "model_id": "254e76befc1e4403bd48fc097137b34b",
       "version_major": 2,
       "version_minor": 0
      },
      "text/plain": [
       "Epoch 0:   0%|          | 0/36 [00:00<?, ?it/s]"
      ]
     },
     "metadata": {},
     "output_type": "display_data"
    },
    {
     "name": "stderr",
     "output_type": "stream",
     "text": [
      "INFO:mira.topic_model.trainer:Score: 4.71055e-01\n"
     ]
    },
    {
     "data": {
      "application/vnd.jupyter.widget-view+json": {
       "model_id": "d321175a3f6d4d0fbedec5884360e223",
       "version_major": 2,
       "version_minor": 0
      },
      "text/plain": [
       "Predicting latent vars:   0%|          | 0/32 [00:00<?, ?it/s]"
      ]
     },
     "metadata": {},
     "output_type": "display_data"
    },
    {
     "name": "stderr",
     "output_type": "stream",
     "text": [
      "INFO:mira.topic_model.trainer:Set parameters to best combination: {'num_topics': 12, 'batch_size': 32, 'encoder_dropout': 0.13969848560859152, 'num_epochs': 36, 'beta': 0.9098120223658053, 'seed': 3990382108, 'kl_strategy': 'cyclic', 'num_layers': 3}\n",
      "INFO:mira.topic_model.trainer:Training model with all data.\n",
      "INFO:mira.adata_interface.topic_model:Predicting expression from genes from col: endog\n",
      "INFO:mira.adata_interface.topic_model:Using highly-variable genes from col: endog\n"
     ]
    },
    {
     "name": "stdout",
     "output_type": "stream",
     "text": [
      "warning: Embedding dir exists, did you set global_step for add_embedding()?\n"
     ]
    },
    {
     "name": "stderr",
     "output_type": "stream",
     "text": [
      "WARNING:mira.topic_model.base:Cuda unavailable. Will not use GPU speedup while training.\n"
     ]
    },
    {
     "data": {
      "application/vnd.jupyter.widget-view+json": {
       "model_id": "55a25e298f0a47a1bbf54ff356f94601",
       "version_major": 2,
       "version_minor": 0
      },
      "text/plain": [
       "Epoch 0:   0%|          | 0/36 [00:00<?, ?it/s]"
      ]
     },
     "metadata": {},
     "output_type": "display_data"
    },
    {
     "name": "stderr",
     "output_type": "stream",
     "text": [
      "INFO:mira.topic_model.base:Moving model to device: cpu\n"
     ]
    },
    {
     "data": {
      "text/plain": [
       "ExpressionTopicModel(\n",
       "  (decoder): Decoder(\n",
       "    (beta): Linear(in_features=12, out_features=2158, bias=False)\n",
       "    (bn): BatchNorm1d(2158, eps=1e-05, momentum=0.1, affine=True, track_running_stats=True)\n",
       "    (drop): Dropout(p=0.2, inplace=False)\n",
       "  )\n",
       "  (encoder): ExpressionEncoder(\n",
       "    (fc_layers): Sequential(\n",
       "      (0): Sequential(\n",
       "        (0): Linear(in_features=2159, out_features=64, bias=True)\n",
       "        (1): BatchNorm1d(64, eps=1e-05, momentum=0.1, affine=True, track_running_stats=True)\n",
       "        (2): ReLU()\n",
       "        (3): Dropout(p=0.13969848560859152, inplace=False)\n",
       "      )\n",
       "      (1): Sequential(\n",
       "        (0): Linear(in_features=64, out_features=64, bias=True)\n",
       "        (1): BatchNorm1d(64, eps=1e-05, momentum=0.1, affine=True, track_running_stats=True)\n",
       "        (2): ReLU()\n",
       "        (3): Dropout(p=0.13969848560859152, inplace=False)\n",
       "      )\n",
       "      (2): Sequential(\n",
       "        (0): Linear(in_features=64, out_features=26, bias=True)\n",
       "        (1): BatchNorm1d(26, eps=1e-05, momentum=0.1, affine=True, track_running_stats=True)\n",
       "      )\n",
       "    )\n",
       "  )\n",
       ")"
      ]
     },
     "execution_count": 14,
     "metadata": {},
     "output_type": "execute_result"
    }
   ],
   "source": [
    "tuner.select_best_model(data)"
   ]
  },
  {
   "cell_type": "markdown",
   "id": "94f7befb",
   "metadata": {},
   "source": [
    "## Saving models\n",
    "\n",
    "We have a tuned and trained topic model. Let's save it:"
   ]
  },
  {
   "cell_type": "code",
   "execution_count": 15,
   "id": "28565696",
   "metadata": {},
   "outputs": [],
   "source": [
    "model.save('data/rna_topic_model.pth')"
   ]
  },
  {
   "cell_type": "markdown",
   "id": "f8eb7580",
   "metadata": {},
   "source": [
    "The model can be used for embedding cells in a low dimensional space and module analysis. We will discuss dimensionality reduction more in the next tutorial on **Making the Joint Representation**, but below I show the embedding of the synthetic cells matches the true scaffold."
   ]
  },
  {
   "cell_type": "code",
   "execution_count": 25,
   "id": "abeabb74",
   "metadata": {},
   "outputs": [
    {
     "data": {
      "application/vnd.jupyter.widget-view+json": {
       "model_id": "5ad8527dd8c94b7caa78fccac86f49e9",
       "version_major": 2,
       "version_minor": 0
      },
      "text/plain": [
       "Predicting latent vars:   0%|          | 0/32 [00:00<?, ?it/s]"
      ]
     },
     "metadata": {},
     "output_type": "display_data"
    },
    {
     "name": "stderr",
     "output_type": "stream",
     "text": [
      "INFO:mira.adata_interface.core:Added key to obsm: X_topic_compositions\n",
      "INFO:mira.adata_interface.topic_model:Added cols: topic_0, topic_1, topic_2, topic_3, topic_4, topic_5, topic_6, topic_7, topic_8, topic_9, topic_10, topic_11\n",
      "INFO:mira.adata_interface.core:Added key to varm: topic_feature_compositions\n",
      "INFO:mira.adata_interface.core:Added key to varm: topic_feature_activations\n",
      "INFO:mira.adata_interface.topic_model:Added key to uns: topic_dendogram\n",
      "INFO:mira.adata_interface.topic_model:Fetching key X_topic_compositions from obsm\n",
      "INFO:mira.adata_interface.core:Added key to obsm: X_umap_features\n"
     ]
    },
    {
     "data": {
      "image/png": "[encoded data removed]",
      "text/plain": [
       "<Figure size 432x288 with 1 Axes>"
      ]
     },
     "metadata": {},
     "output_type": "display_data"
    }
   ],
   "source": [
    "model.predict(data)\n",
    "model.get_umap_features(data, box_cox=0.33)\n",
    "sc.pp.neighbors(data, use_rep = 'X_umap_features', metric = 'manhattan')\n",
    "sc.tl.umap(data, min_dist=0.1, negative_sample_rate=0.05)\n",
    "\n",
    "sc.pl.umap(data, frameon=False, size = 1200, alpha = 0.2, add_outline=True,\n",
    "          outline_width=(0.1,0))"
   ]
  },
  {
   "cell_type": "markdown",
   "id": "ce33fff1",
   "metadata": {},
   "source": [
    "## Accessibility model preprocessing"
   ]
  },
  {
   "cell_type": "markdown",
   "id": "0879afaa",
   "metadata": {},
   "source": [
    "Unlike expression data, we do not prescribe a count processing method for accessibility data. The API for accessibility models is identical to expression topic models, so one may label some accessibility features (peaks) with endogenous or exogenous labels. \n",
    "\n",
    "In practice, we found that simply using all called peaks for both the endogenous and exogenous features produced good results. If one wishes to reduce model size, one may pursue alternate strategies for finding \"highly variable\" peaks to use as endogenous features.\n",
    "\n",
    "To instantiate an accessibility topic model, use:"
   ]
  },
  {
   "cell_type": "code",
   "execution_count": 17,
   "id": "32a8c46c",
   "metadata": {},
   "outputs": [],
   "source": [
    "atac_model = mira.topics.AccessibilityTopicModel(counts_layer='counts')"
   ]
  },
  {
   "cell_type": "markdown",
   "id": "78e6bae2",
   "metadata": {},
   "source": [
    "From here, everything is **exactly** the same for tuning and training as it was with the expression model. The accessibility topic model has far more features and therefor far more parameters than the expression model. **It is highly recommended to train the accessibility model on a GPU.**"
   ]
  },
  {
   "cell_type": "markdown",
   "id": "86d863f2",
   "metadata": {},
   "source": [
    "## Tuning persistence\n",
    "\n",
    "Tuning results/trials/parameters are saved to a SQLite database in the working directory called \"mira-tuning.db\" (which can be changed through the `storage` parameter of the tuning object). Specific optimization runs are saved to their own tables, named by the `save_name` parameter. \n",
    "\n",
    "Thus, to resume tuning after an interuption, one must simply instantiate a tuning object with the same `storage` and `save_name` parameters as the previous process. The new object will reference the saved results and pick up where the last process left off.\n",
    "\n",
    "To access the underlying [optuna study](https://optuna.readthedocs.io/en/stable/reference/study.html) directly:"
   ]
  },
  {
   "cell_type": "code",
   "execution_count": 18,
   "id": "4603b08f",
   "metadata": {},
   "outputs": [],
   "source": [
    "study = mira.topics.TopicModelTuner.load_study('tuning-tutorial')"
   ]
  },
  {
   "cell_type": "markdown",
   "id": "75348ced",
   "metadata": {},
   "source": [
    "You could then print the dashboard summary by:"
   ]
  },
  {
   "cell_type": "code",
   "execution_count": 19,
   "id": "63d8b3fb",
   "metadata": {},
   "outputs": [
    {
     "name": "stdout",
     "output_type": "stream",
     "text": [
      "Trials finished: 30 | Best trial: 16 | Best score: 4.7732e-01\n",
      "Press ctrl+C,ctrl+C or esc,I+I,I+I in Jupyter notebook to stop early.\n",
      "\n",
      "#Topics | Trials (number is #folds tested)\n",
      "      5 | 2 \n",
      "      6 | 1 1 \n",
      "      7 | 1 3 3 \n",
      "      8 | 3 1 1 1 \n",
      "      9 | 3 1 3 \n",
      "     10 | 1 3 1 3 3 \n",
      "     11 | 3 1 3 3 \n",
      "     12 | 3 3 \n",
      "     13 | 3 3 1 \n",
      "     15 | 3 1 1 \n",
      "\n",
      "Trial Information:\n",
      "Trial #0   | pruned at step: 2            | params: {'num_topics': 5, 'batch_size': 32, 'encoder_dropout': 0.1458, 'num_epochs': 33, 'beta': 0.9850, 'seed': 380555210, 'kl_strategy': 'monotonic', 'num_layers': 3}\n",
      "Trial #1   | completed, score: 6.2972e-01 | params: {'num_topics': 8, 'batch_size': 128, 'encoder_dropout': 0.0817, 'num_epochs': 28, 'beta': 0.9646, 'seed': 2054899126, 'kl_strategy': 'cyclic', 'num_layers': 2}\n",
      "Trial #2   | completed, score: 4.8967e-01 | params: {'num_topics': 15, 'batch_size': 64, 'encoder_dropout': 0.0928, 'num_epochs': 24, 'beta': 0.9216, 'seed': 4094150801, 'kl_strategy': 'cyclic', 'num_layers': 2}\n",
      "Trial #3   | pruned at step: 1            | params: {'num_topics': 8, 'batch_size': 64, 'encoder_dropout': 0.0301, 'num_epochs': 21, 'beta': 0.9872, 'seed': 3528886570, 'kl_strategy': 'monotonic', 'num_layers': 3}\n",
      "Trial #4   | pruned at step: 1            | params: {'num_topics': 6, 'batch_size': 64, 'encoder_dropout': 0.1098, 'num_epochs': 35, 'beta': 0.9018, 'seed': 683366596, 'kl_strategy': 'monotonic', 'num_layers': 3}\n",
      "Trial #5   | pruned at step: 1            | params: {'num_topics': 8, 'batch_size': 32, 'encoder_dropout': 0.0286, 'num_epochs': 29, 'beta': 0.9813, 'seed': 2302214558, 'kl_strategy': 'monotonic', 'num_layers': 2}\n",
      "Trial #6   | pruned at step: 1            | params: {'num_topics': 7, 'batch_size': 128, 'encoder_dropout': 0.0249, 'num_epochs': 38, 'beta': 0.9794, 'seed': 2768108259, 'kl_strategy': 'cyclic', 'num_layers': 2}\n",
      "Trial #7   | completed, score: 4.7884e-01 | params: {'num_topics': 11, 'batch_size': 32, 'encoder_dropout': 0.1249, 'num_epochs': 25, 'beta': 0.9009, 'seed': 784832632, 'kl_strategy': 'cyclic', 'num_layers': 3}\n",
      "Trial #8   | pruned at step: 1            | params: {'num_topics': 8, 'batch_size': 128, 'encoder_dropout': 0.0726, 'num_epochs': 27, 'beta': 0.9026, 'seed': 13473379, 'kl_strategy': 'monotonic', 'num_layers': 3}\n",
      "Trial #9   | pruned at step: 1            | params: {'num_topics': 15, 'batch_size': 64, 'encoder_dropout': 0.0671, 'num_epochs': 20, 'beta': 0.9284, 'seed': 221941794, 'kl_strategy': 'cyclic', 'num_layers': 2}\n",
      "Trial #10  | pruned at step: 1            | params: {'num_topics': 11, 'batch_size': 128, 'encoder_dropout': 0.0955, 'num_epochs': 24, 'beta': 0.9542, 'seed': 1055125882, 'kl_strategy': 'cyclic', 'num_layers': 2}\n",
      "Trial #11  | completed, score: 4.9379e-01 | params: {'num_topics': 12, 'batch_size': 64, 'encoder_dropout': 0.0566, 'num_epochs': 30, 'beta': 0.9396, 'seed': 2896657828, 'kl_strategy': 'cyclic', 'num_layers': 2}\n",
      "Trial #12  | pruned at step: 1            | params: {'num_topics': 15, 'batch_size': 128, 'encoder_dropout': 0.0929, 'num_epochs': 23, 'beta': 0.9574, 'seed': 3223303357, 'kl_strategy': 'cyclic', 'num_layers': 2}\n",
      "Trial #13  | pruned at step: 1            | params: {'num_topics': 10, 'batch_size': 128, 'encoder_dropout': 0.1201, 'num_epochs': 26, 'beta': 0.9205, 'seed': 1626215940, 'kl_strategy': 'cyclic', 'num_layers': 2}\n",
      "Trial #14  | pruned at step: 1            | params: {'num_topics': 6, 'batch_size': 64, 'encoder_dropout': 0.0512, 'num_epochs': 22, 'beta': 0.9635, 'seed': 3079301738, 'kl_strategy': 'cyclic', 'num_layers': 2}\n",
      "Trial #15  | completed, score: 4.7949e-01 | params: {'num_topics': 13, 'batch_size': 32, 'encoder_dropout': 0.1343, 'num_epochs': 24, 'beta': 0.9159, 'seed': 2203724424, 'kl_strategy': 'cyclic', 'num_layers': 3}\n",
      "Trial #16  | completed, score: 4.7732e-01 | params: {'num_topics': 10, 'batch_size': 32, 'encoder_dropout': 0.1181, 'num_epochs': 25, 'beta': 0.9128, 'seed': 181481948, 'kl_strategy': 'cyclic', 'num_layers': 3}\n",
      "Trial #17  | completed, score: 4.7892e-01 | params: {'num_topics': 13, 'batch_size': 32, 'encoder_dropout': 0.1034, 'num_epochs': 31, 'beta': 0.9353, 'seed': 2770385409, 'kl_strategy': 'cyclic', 'num_layers': 3}\n",
      "Trial #18  | pruned at step: 1            | params: {'num_topics': 10, 'batch_size': 32, 'encoder_dropout': 0.1484, 'num_epochs': 22, 'beta': 0.9100, 'seed': 131814401, 'kl_strategy': 'cyclic', 'num_layers': 3}\n",
      "Trial #19  | completed, score: 4.7780e-01 | params: {'num_topics': 10, 'batch_size': 32, 'encoder_dropout': 0.1240, 'num_epochs': 26, 'beta': 0.9097, 'seed': 2638089598, 'kl_strategy': 'cyclic', 'num_layers': 3}\n",
      "Trial #20  | pruned at step: 1            | params: {'num_topics': 13, 'batch_size': 32, 'encoder_dropout': 0.1305, 'num_epochs': 25, 'beta': 0.9142, 'seed': 3696624725, 'kl_strategy': 'cyclic', 'num_layers': 3}\n",
      "Trial #21  | completed, score: 4.7877e-01 | params: {'num_topics': 11, 'batch_size': 32, 'encoder_dropout': 0.1085, 'num_epochs': 32, 'beta': 0.9345, 'seed': 1361965750, 'kl_strategy': 'cyclic', 'num_layers': 3}\n",
      "Trial #22  | completed, score: 4.7885e-01 | params: {'num_topics': 9, 'batch_size': 32, 'encoder_dropout': 0.1070, 'num_epochs': 30, 'beta': 0.9314, 'seed': 2172192160, 'kl_strategy': 'cyclic', 'num_layers': 3}\n",
      "Trial #23  | pruned at step: 1            | params: {'num_topics': 9, 'batch_size': 32, 'encoder_dropout': 0.1212, 'num_epochs': 33, 'beta': 0.9483, 'seed': 59390355, 'kl_strategy': 'cyclic', 'num_layers': 3}\n",
      "Trial #24  | completed, score: 4.7866e-01 | params: {'num_topics': 10, 'batch_size': 32, 'encoder_dropout': 0.1154, 'num_epochs': 27, 'beta': 0.9283, 'seed': 3638703597, 'kl_strategy': 'cyclic', 'num_layers': 3}\n",
      "Trial #25  | completed, score: 4.7850e-01 | params: {'num_topics': 11, 'batch_size': 32, 'encoder_dropout': 0.1344, 'num_epochs': 40, 'beta': 0.9093, 'seed': 3094057605, 'kl_strategy': 'cyclic', 'num_layers': 3}\n",
      "Trial #26  | completed, score: 4.7875e-01 | params: {'num_topics': 9, 'batch_size': 32, 'encoder_dropout': 0.1187, 'num_epochs': 27, 'beta': 0.9236, 'seed': 2457830165, 'kl_strategy': 'cyclic', 'num_layers': 3}\n",
      "Trial #27  | completed, score: 4.7787e-01 | params: {'num_topics': 7, 'batch_size': 32, 'encoder_dropout': 0.1356, 'num_epochs': 39, 'beta': 0.9095, 'seed': 1209920136, 'kl_strategy': 'monotonic', 'num_layers': 3}\n",
      "Trial #28  | completed, score: 4.7830e-01 | params: {'num_topics': 12, 'batch_size': 32, 'encoder_dropout': 0.1397, 'num_epochs': 36, 'beta': 0.9098, 'seed': 3990382108, 'kl_strategy': 'cyclic', 'num_layers': 3}\n",
      "Trial #29  | completed, score: 4.7807e-01 | params: {'num_topics': 7, 'batch_size': 32, 'encoder_dropout': 0.1421, 'num_epochs': 35, 'beta': 0.9158, 'seed': 4233229406, 'kl_strategy': 'monotonic', 'num_layers': 3}\n",
      "\n",
      "\n",
      "\u001b[2K\r"
     ]
    }
   ],
   "source": [
    "mira.topics.print_study(study)"
   ]
  },
  {
   "cell_type": "markdown",
   "id": "ddf911a7",
   "metadata": {},
   "source": [
    "### Next\n",
    "\n",
    "Please proceed to the next tutorial, which demonstrates how to stitch together a joint representation of cells measured using multiomics and two trained topic models."
   ]
  }
 ],
 "metadata": {
  "kernelspec": {
   "display_name": "mirarep",
   "language": "python",
   "name": "mirarep"
  },
  "language_info": {
   "codemirror_mode": {
    "name": "ipython",
    "version": 3
   },
   "file_extension": ".py",
   "mimetype": "text/x-python",
   "name": "python",
   "nbconvert_exporter": "python",
   "pygments_lexer": "ipython3",
   "version": "3.7.12"
  }
 },
 "nbformat": 4,
 "nbformat_minor": 5
}
